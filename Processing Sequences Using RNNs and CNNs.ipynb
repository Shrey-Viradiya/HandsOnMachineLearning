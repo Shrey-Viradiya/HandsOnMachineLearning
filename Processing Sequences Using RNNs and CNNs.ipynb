{
  "nbformat": 4,
  "nbformat_minor": 0,
  "metadata": {
    "kernelspec": {
      "language": "python",
      "display_name": "Python 3",
      "name": "python3"
    },
    "language_info": {
      "pygments_lexer": "ipython3",
      "nbconvert_exporter": "python",
      "version": "3.6.4",
      "file_extension": ".py",
      "codemirror_mode": {
        "name": "ipython",
        "version": 3
      },
      "name": "python",
      "mimetype": "text/x-python"
    },
    "colab": {
      "name": "Processing Sequences Using RNNs and CNNs.ipynb",
      "provenance": [],
      "include_colab_link": true
    },
    "accelerator": "GPU"
  },
  "cells": [
    {
      "cell_type": "markdown",
      "metadata": {
        "id": "view-in-github",
        "colab_type": "text"
      },
      "source": [
        "<a href=\"https://colab.research.google.com/github/Shrey-Viradiya/HandsOnMachineLearning/blob/master/Processing%20Sequences%20Using%20RNNs%20and%20CNNs.ipynb\" target=\"_parent\"><img src=\"https://colab.research.google.com/assets/colab-badge.svg\" alt=\"Open In Colab\"/></a>"
      ]
    },
    {
      "cell_type": "code",
      "metadata": {
        "id": "7zt2fb59nSJP",
        "colab_type": "code",
        "colab": {
          "base_uri": "https://localhost:8080/",
          "height": 372
        },
        "outputId": "78d585b1-a7d8-4383-900b-4550aac9f385"
      },
      "source": [
        "!nvidia-smi"
      ],
      "execution_count": 1,
      "outputs": [
        {
          "output_type": "stream",
          "text": [
            "Mon Jun 22 15:20:31 2020       \n",
            "+-----------------------------------------------------------------------------+\n",
            "| NVIDIA-SMI 450.36.06    Driver Version: 418.67       CUDA Version: 10.1     |\n",
            "|-------------------------------+----------------------+----------------------+\n",
            "| GPU  Name        Persistence-M| Bus-Id        Disp.A | Volatile Uncorr. ECC |\n",
            "| Fan  Temp  Perf  Pwr:Usage/Cap|         Memory-Usage | GPU-Util  Compute M. |\n",
            "|                               |                      |               MIG M. |\n",
            "|===============================+======================+======================|\n",
            "|   0  Tesla T4            Off  | 00000000:00:04.0 Off |                    0 |\n",
            "| N/A   40C    P8    11W /  70W |      0MiB / 15079MiB |      0%      Default |\n",
            "|                               |                      |                 ERR! |\n",
            "+-------------------------------+----------------------+----------------------+\n",
            "                                                                               \n",
            "+-----------------------------------------------------------------------------+\n",
            "| Processes:                                                                  |\n",
            "|  GPU   GI   CI        PID   Type   Process name                  GPU Memory |\n",
            "|        ID   ID                                                   Usage      |\n",
            "|=============================================================================|\n",
            "|  No running processes found                                                 |\n",
            "+-----------------------------------------------------------------------------+\n"
          ],
          "name": "stdout"
        }
      ]
    },
    {
      "cell_type": "markdown",
      "metadata": {
        "id": "fV0ZwmQjnOzp",
        "colab_type": "text"
      },
      "source": [
        "# Processing Sequences Using RNNs and CNNs"
      ]
    },
    {
      "cell_type": "code",
      "metadata": {
        "_uuid": "8f2839f25d086af736a60e9eeb907d3b93b6e0e5",
        "_cell_guid": "b1076dfc-b9ad-4769-8c92-a6c4dae69d19",
        "trusted": true,
        "id": "X9U9ye8gnOzr",
        "colab_type": "code",
        "colab": {
          "base_uri": "https://localhost:8080/",
          "height": 72
        },
        "outputId": "a0586c88-f730-4c20-b1e5-c36a70f35f5d"
      },
      "source": [
        "# This Python 3 environment comes with many helpful analytics libraries installed\n",
        "# It is defined by the kaggle/python Docker image: https://github.com/kaggle/docker-python\n",
        "# For example, here's several helpful packages to load\n",
        "\n",
        "import tensorflow as tf\n",
        "import tensorflow.keras as keras\n",
        "import matplotlib.pyplot as plt\n",
        "import numpy as np\n",
        "import pandas as pd\n",
        "import seaborn as sns\n",
        "import os\n",
        "import matplotlib as mpl\n",
        "\n",
        "# Input data files are available in the read-only \"../input/\" directory\n",
        "# For example, running this (by clicking run or pressing Shift+Enter) will list all files under the input directory\n",
        "\n",
        "import os\n",
        "for dirname, _, filenames in os.walk('/kaggle/input'):\n",
        "    for filename in filenames:\n",
        "        print(os.path.join(dirname, filename))\n",
        "\n",
        "# You can write up to 5GB to the current directory (/kaggle/working/) that gets preserved as output when you create a version using \"Save & Run All\" \n",
        "# You can also write temporary files to /kaggle/temp/, but they won't be saved outside of the current session"
      ],
      "execution_count": 2,
      "outputs": [
        {
          "output_type": "stream",
          "text": [
            "/usr/local/lib/python3.6/dist-packages/statsmodels/tools/_testing.py:19: FutureWarning: pandas.util.testing is deprecated. Use the functions in the public API at pandas.testing instead.\n",
            "  import pandas.util.testing as tm\n"
          ],
          "name": "stderr"
        }
      ]
    },
    {
      "cell_type": "markdown",
      "metadata": {
        "id": "_qlRnPMVnOzu",
        "colab_type": "text"
      },
      "source": [
        "Suppose you are studying the number of active users per hour on your website, or the daily temperature in your city, or your company’s financial health, measured quarterly using multiple metrics. In all these cases, the data will be a sequence of one or more values per time step. This is called a time series. In the first two examples there is a single value per time step, so these are univariate time series, while in the financial example there are multiple values per time step (e.g., the company’s revenue, debt, and so on), so it is a multivariate time series. A typical task is to predict future values, which is called forecasting. Another common task is to fill in the blanks: to predict (or rather “postdict”) missing values from the past. This is called imputation."
      ]
    },
    {
      "cell_type": "markdown",
      "metadata": {
        "id": "izcOLvLInOzv",
        "colab_type": "text"
      },
      "source": [
        "## Generating Data"
      ]
    },
    {
      "cell_type": "code",
      "metadata": {
        "trusted": true,
        "id": "Y_6n4A8jnOzw",
        "colab_type": "code",
        "colab": {}
      },
      "source": [
        "def generate_time_series(batch_size, n_steps):\n",
        "    freq1, freq2, offsets1, offsets2 = np.random.rand(4, batch_size, 1)\n",
        "    time = np.linspace(0, 1, n_steps)\n",
        "    series = 0.5 * np.sin((time - offsets1) * (freq1 * 10 + 10))  #   wave 1\n",
        "    series += 0.2 * np.sin((time - offsets2) * (freq2 * 20 + 20)) # + wave 2\n",
        "    series += 0.1 * (np.random.rand(batch_size, n_steps) - 0.5)   # + noise\n",
        "    return series[..., np.newaxis].astype(np.float32)\n",
        "#     return series"
      ],
      "execution_count": 3,
      "outputs": []
    },
    {
      "cell_type": "code",
      "metadata": {
        "trusted": true,
        "id": "YgvqMObHnOzy",
        "colab_type": "code",
        "colab": {}
      },
      "source": [
        "n_steps = 50\n",
        "series = generate_time_series(10000, n_steps + 1)\n",
        "X_train, y_train = series[:7000, :n_steps], series[:7000, -1]\n",
        "X_valid, y_valid = series[7000:9000, :n_steps], series[7000:9000, -1]\n",
        "X_test, y_test = series[9000:, :n_steps], series[9000:, -1]"
      ],
      "execution_count": 4,
      "outputs": []
    },
    {
      "cell_type": "code",
      "metadata": {
        "trusted": true,
        "id": "2szjmPZCnOz1",
        "colab_type": "code",
        "colab": {}
      },
      "source": [
        "def plot_learning_curves(loss, val_loss):\n",
        "    plt.plot(np.arange(len(loss)) + 0.5, loss, \"b.-\", label=\"Training loss\")\n",
        "    plt.plot(np.arange(len(val_loss)) + 1, val_loss, \"r.-\", label=\"Validation loss\")\n",
        "    plt.gca().xaxis.set_major_locator(mpl.ticker.MaxNLocator(integer=True))\n",
        "    plt.legend()\n",
        "    plt.xlabel(\"Epochs\")\n",
        "    plt.ylabel(\"Loss\")\n",
        "    plt.grid(True)\n"
      ],
      "execution_count": 5,
      "outputs": []
    },
    {
      "cell_type": "code",
      "metadata": {
        "trusted": true,
        "id": "cxDr2SNenOz4",
        "colab_type": "code",
        "colab": {
          "base_uri": "https://localhost:8080/",
          "height": 296
        },
        "outputId": "d1a67d96-887e-496f-c288-c3f49b4ab8f8"
      },
      "source": [
        "def plot_series(series, y=None, y_pred=None, x_label=\"$t$\", y_label=\"$x(t)$\"):\n",
        "    plt.plot(series, \".-\")\n",
        "    if y is not None:\n",
        "        plt.plot(n_steps, y, \"bx\", markersize=10)\n",
        "    if y_pred is not None:\n",
        "        plt.plot(n_steps, y_pred, \"ro\")\n",
        "    plt.grid(True)\n",
        "    if x_label:\n",
        "        plt.xlabel(x_label)\n",
        "    if y_label:\n",
        "        plt.ylabel(y_label, rotation=0)\n",
        "    plt.hlines(0, 0, 100, linewidth=1)\n",
        "    plt.axis([0, n_steps + 1, -1, 1])\n",
        "\n",
        "fig, axes = plt.subplots(nrows=1, ncols=3, sharey=True, figsize=(12, 4))\n",
        "for col in range(3):\n",
        "    plt.sca(axes[col])\n",
        "    plot_series(X_valid[col, :, 0], y_valid[col, 0],\n",
        "                y_label=(\"$x(t)$\" if col==0 else None))\n",
        "plt.tight_layout()\n",
        "plt.show()"
      ],
      "execution_count": 6,
      "outputs": [
        {
          "output_type": "display_data",
          "data": {
            "image/png": "[encoded data removed]",
            "text/plain": [
              "<Figure size 864x288 with 3 Axes>"
            ]
          },
          "metadata": {
            "tags": [],
            "needs_background": "light"
          }
        }
      ]
    },
    {
      "cell_type": "markdown",
      "metadata": {
        "id": "ETecABpjnOz7",
        "colab_type": "text"
      },
      "source": [
        "## Computing Some Baselines"
      ]
    },
    {
      "cell_type": "markdown",
      "metadata": {
        "id": "oEq1FwT4nOz8",
        "colab_type": "text"
      },
      "source": [
        "Before we start using RNNs, it is often a good idea to have a few baseline metrics, or else we may end up thinking our model works great when in fact it is doing worse than basic models. For example, the simplest approach is to predict the last value in each series. This is called naive forecasting, and it is sometimes surprisingly difficult to outperform."
      ]
    },
    {
      "cell_type": "markdown",
      "metadata": {
        "id": "GgLabpnonOz8",
        "colab_type": "text"
      },
      "source": [
        "\n",
        "Naive predictions (just predict the last observed value):"
      ]
    },
    {
      "cell_type": "code",
      "metadata": {
        "trusted": true,
        "id": "jnppPD_lnOz9",
        "colab_type": "code",
        "colab": {
          "base_uri": "https://localhost:8080/",
          "height": 34
        },
        "outputId": "caa99b35-7098-4060-cad3-83e993e91002"
      },
      "source": [
        "y_pred = X_valid[:, -1]\n",
        "np.mean(keras.losses.mean_squared_error(y_valid, y_pred))"
      ],
      "execution_count": 7,
      "outputs": [
        {
          "output_type": "execute_result",
          "data": {
            "text/plain": [
              "0.02082196"
            ]
          },
          "metadata": {
            "tags": []
          },
          "execution_count": 7
        }
      ]
    },
    {
      "cell_type": "markdown",
      "metadata": {
        "id": "nx0lhpyonO0B",
        "colab_type": "text"
      },
      "source": [
        "Another simple approach is to use a fully connected network. Since it expects a flat list of features for each input, we need to add a Flatten layer. Let’s just use a simple Linear Regression model so that each prediction will be a linear combination of the values in the time series:"
      ]
    },
    {
      "cell_type": "code",
      "metadata": {
        "trusted": true,
        "id": "5ZBUo4vqnO0C",
        "colab_type": "code",
        "colab": {}
      },
      "source": [
        "model = keras.models.Sequential([\n",
        "    keras.layers.Flatten(input_shape = [50,1]),\n",
        "    keras.layers.Dense(1)\n",
        "])"
      ],
      "execution_count": 8,
      "outputs": []
    },
    {
      "cell_type": "code",
      "metadata": {
        "trusted": true,
        "id": "5pmF3z10nO0F",
        "colab_type": "code",
        "colab": {
          "base_uri": "https://localhost:8080/",
          "height": 727
        },
        "outputId": "2171fe41-045e-4928-da3b-57ac4d6a0610"
      },
      "source": [
        "model.compile(loss=\"mse\", optimizer=\"adam\")\n",
        "history = model.fit(X_train, y_train, epochs=20, validation_data=(X_valid, y_valid))"
      ],
      "execution_count": 9,
      "outputs": [
        {
          "output_type": "stream",
          "text": [
            "Epoch 1/20\n",
            "219/219 [==============================] - 1s 3ms/step - loss: 0.0543 - val_loss: 0.0269\n",
            "Epoch 2/20\n",
            "219/219 [==============================] - 0s 2ms/step - loss: 0.0184 - val_loss: 0.0131\n",
            "Epoch 3/20\n",
            "219/219 [==============================] - 0s 2ms/step - loss: 0.0106 - val_loss: 0.0093\n",
            "Epoch 4/20\n",
            "219/219 [==============================] - 0s 2ms/step - loss: 0.0081 - val_loss: 0.0076\n",
            "Epoch 5/20\n",
            "219/219 [==============================] - 0s 2ms/step - loss: 0.0070 - val_loss: 0.0068\n",
            "Epoch 6/20\n",
            "219/219 [==============================] - 0s 2ms/step - loss: 0.0063 - val_loss: 0.0062\n",
            "Epoch 7/20\n",
            "219/219 [==============================] - 0s 2ms/step - loss: 0.0058 - val_loss: 0.0057\n",
            "Epoch 8/20\n",
            "219/219 [==============================] - 0s 2ms/step - loss: 0.0054 - val_loss: 0.0053\n",
            "Epoch 9/20\n",
            "219/219 [==============================] - 0s 2ms/step - loss: 0.0050 - val_loss: 0.0051\n",
            "Epoch 10/20\n",
            "219/219 [==============================] - 0s 2ms/step - loss: 0.0048 - val_loss: 0.0048\n",
            "Epoch 11/20\n",
            "219/219 [==============================] - 0s 2ms/step - loss: 0.0046 - val_loss: 0.0047\n",
            "Epoch 12/20\n",
            "219/219 [==============================] - 0s 2ms/step - loss: 0.0044 - val_loss: 0.0046\n",
            "Epoch 13/20\n",
            "219/219 [==============================] - 0s 2ms/step - loss: 0.0043 - val_loss: 0.0044\n",
            "Epoch 14/20\n",
            "219/219 [==============================] - 0s 2ms/step - loss: 0.0042 - val_loss: 0.0042\n",
            "Epoch 15/20\n",
            "219/219 [==============================] - 0s 2ms/step - loss: 0.0040 - val_loss: 0.0042\n",
            "Epoch 16/20\n",
            "219/219 [==============================] - 0s 2ms/step - loss: 0.0040 - val_loss: 0.0040\n",
            "Epoch 17/20\n",
            "219/219 [==============================] - 0s 2ms/step - loss: 0.0039 - val_loss: 0.0041\n",
            "Epoch 18/20\n",
            "219/219 [==============================] - 0s 2ms/step - loss: 0.0038 - val_loss: 0.0039\n",
            "Epoch 19/20\n",
            "219/219 [==============================] - 0s 2ms/step - loss: 0.0037 - val_loss: 0.0038\n",
            "Epoch 20/20\n",
            "219/219 [==============================] - 0s 2ms/step - loss: 0.0037 - val_loss: 0.0038\n"
          ],
          "name": "stdout"
        }
      ]
    },
    {
      "cell_type": "code",
      "metadata": {
        "trusted": true,
        "id": "_kg5S1a_nO0H",
        "colab_type": "code",
        "colab": {
          "base_uri": "https://localhost:8080/",
          "height": 52
        },
        "outputId": "4f3f090e-44d3-4df1-dbda-5f55894c97bc"
      },
      "source": [
        "model.evaluate(X_test, y_test)"
      ],
      "execution_count": 10,
      "outputs": [
        {
          "output_type": "stream",
          "text": [
            "32/32 [==============================] - 0s 1ms/step - loss: 0.0040\n"
          ],
          "name": "stdout"
        },
        {
          "output_type": "execute_result",
          "data": {
            "text/plain": [
              "0.004005116876214743"
            ]
          },
          "metadata": {
            "tags": []
          },
          "execution_count": 10
        }
      ]
    },
    {
      "cell_type": "code",
      "metadata": {
        "trusted": true,
        "id": "3VlNgMuYnO0K",
        "colab_type": "code",
        "colab": {
          "base_uri": "https://localhost:8080/",
          "height": 278
        },
        "outputId": "60560b53-7533-4f22-86b1-cee9ec9c6b02"
      },
      "source": [
        "plot_learning_curves(history.history[\"loss\"], history.history[\"val_loss\"])\n",
        "plt.show()"
      ],
      "execution_count": 11,
      "outputs": [
        {
          "output_type": "display_data",
          "data": {
            "image/png": "[encoded data removed]",
            "text/plain": [
              "<Figure size 432x288 with 1 Axes>"
            ]
          },
          "metadata": {
            "tags": [],
            "needs_background": "light"
          }
        }
      ]
    },
    {
      "cell_type": "markdown",
      "metadata": {
        "id": "89X6uwMqnO0M",
        "colab_type": "text"
      },
      "source": [
        "## Implementing a Simple RNN"
      ]
    },
    {
      "cell_type": "code",
      "metadata": {
        "trusted": true,
        "id": "8napkRmTnO0N",
        "colab_type": "code",
        "colab": {
          "base_uri": "https://localhost:8080/",
          "height": 727
        },
        "outputId": "cbfd9a42-0b4f-4752-9e92-4e7b61a1eb76"
      },
      "source": [
        "model = keras.models.Sequential([\n",
        "  keras.layers.SimpleRNN(1, input_shape=[None, 1])\n",
        "])\n",
        "\n",
        "model.compile(loss=\"mse\", optimizer=\"adam\")\n",
        "history = model.fit(X_train, y_train, epochs=20, validation_data=(X_valid, y_valid))"
      ],
      "execution_count": 12,
      "outputs": [
        {
          "output_type": "stream",
          "text": [
            "Epoch 1/20\n",
            "219/219 [==============================] - 7s 32ms/step - loss: 0.0895 - val_loss: 0.0746\n",
            "Epoch 2/20\n",
            "219/219 [==============================] - 7s 31ms/step - loss: 0.0653 - val_loss: 0.0541\n",
            "Epoch 3/20\n",
            "219/219 [==============================] - 7s 31ms/step - loss: 0.0465 - val_loss: 0.0375\n",
            "Epoch 4/20\n",
            "219/219 [==============================] - 7s 31ms/step - loss: 0.0317 - val_loss: 0.0252\n",
            "Epoch 5/20\n",
            "219/219 [==============================] - 7s 31ms/step - loss: 0.0215 - val_loss: 0.0176\n",
            "Epoch 6/20\n",
            "219/219 [==============================] - 7s 31ms/step - loss: 0.0157 - val_loss: 0.0139\n",
            "Epoch 7/20\n",
            "219/219 [==============================] - 7s 31ms/step - loss: 0.0133 - val_loss: 0.0127\n",
            "Epoch 8/20\n",
            "219/219 [==============================] - 7s 31ms/step - loss: 0.0124 - val_loss: 0.0123\n",
            "Epoch 9/20\n",
            "219/219 [==============================] - 7s 31ms/step - loss: 0.0121 - val_loss: 0.0121\n",
            "Epoch 10/20\n",
            "219/219 [==============================] - 7s 31ms/step - loss: 0.0119 - val_loss: 0.0120\n",
            "Epoch 11/20\n",
            "219/219 [==============================] - 7s 31ms/step - loss: 0.0118 - val_loss: 0.0118\n",
            "Epoch 12/20\n",
            "219/219 [==============================] - 7s 31ms/step - loss: 0.0116 - val_loss: 0.0117\n",
            "Epoch 13/20\n",
            "219/219 [==============================] - 7s 31ms/step - loss: 0.0115 - val_loss: 0.0116\n",
            "Epoch 14/20\n",
            "219/219 [==============================] - 7s 31ms/step - loss: 0.0114 - val_loss: 0.0115\n",
            "Epoch 15/20\n",
            "219/219 [==============================] - 7s 31ms/step - loss: 0.0113 - val_loss: 0.0114\n",
            "Epoch 16/20\n",
            "219/219 [==============================] - 7s 31ms/step - loss: 0.0113 - val_loss: 0.0114\n",
            "Epoch 17/20\n",
            "219/219 [==============================] - 7s 31ms/step - loss: 0.0112 - val_loss: 0.0114\n",
            "Epoch 18/20\n",
            "219/219 [==============================] - 7s 31ms/step - loss: 0.0112 - val_loss: 0.0113\n",
            "Epoch 19/20\n",
            "219/219 [==============================] - 7s 32ms/step - loss: 0.0112 - val_loss: 0.0113\n",
            "Epoch 20/20\n",
            "219/219 [==============================] - 7s 33ms/step - loss: 0.0112 - val_loss: 0.0113\n"
          ],
          "name": "stdout"
        }
      ]
    },
    {
      "cell_type": "code",
      "metadata": {
        "trusted": true,
        "id": "TzUU6Wk7nO0T",
        "colab_type": "code",
        "colab": {
          "base_uri": "https://localhost:8080/",
          "height": 52
        },
        "outputId": "31c91986-c2ce-4e80-f1c2-89d3e744a365"
      },
      "source": [
        "model.evaluate(X_test, y_test)"
      ],
      "execution_count": 13,
      "outputs": [
        {
          "output_type": "stream",
          "text": [
            "32/32 [==============================] - 0s 4ms/step - loss: 0.0111\n"
          ],
          "name": "stdout"
        },
        {
          "output_type": "execute_result",
          "data": {
            "text/plain": [
              "0.011090396903455257"
            ]
          },
          "metadata": {
            "tags": []
          },
          "execution_count": 13
        }
      ]
    },
    {
      "cell_type": "code",
      "metadata": {
        "trusted": true,
        "id": "DyoEqn5fnO0W",
        "colab_type": "code",
        "colab": {
          "base_uri": "https://localhost:8080/",
          "height": 278
        },
        "outputId": "9db52a13-4022-47af-a6dc-4ea00e680a8b"
      },
      "source": [
        "plot_learning_curves(history.history[\"loss\"], history.history[\"val_loss\"])\n",
        "plt.show()"
      ],
      "execution_count": 14,
      "outputs": [
        {
          "output_type": "display_data",
          "data": {
            "image/png": "[encoded data removed]",
            "text/plain": [
              "<Figure size 432x288 with 1 Axes>"
            ]
          },
          "metadata": {
            "tags": [],
            "needs_background": "light"
          }
        }
      ]
    },
    {
      "cell_type": "code",
      "metadata": {
        "trusted": true,
        "id": "fSy7STAhnO0Y",
        "colab_type": "code",
        "colab": {}
      },
      "source": [
        "model = keras.models.Sequential([\n",
        "    keras.layers.SimpleRNN(20, return_sequences=True, input_shape=[None, 1]),\n",
        "    keras.layers.SimpleRNN(20, return_sequences=True),\n",
        "    keras.layers.SimpleRNN(1)\n",
        "])"
      ],
      "execution_count": 15,
      "outputs": []
    },
    {
      "cell_type": "code",
      "metadata": {
        "trusted": true,
        "id": "E8ZhZmrVnO0b",
        "colab_type": "code",
        "colab": {
          "base_uri": "https://localhost:8080/",
          "height": 727
        },
        "outputId": "5bae1206-597c-408b-c89b-28c6ee35128c"
      },
      "source": [
        "model.compile(loss=\"mse\", optimizer=\"adam\")\n",
        "history = model.fit(X_train, y_train, epochs=20, validation_data=(X_valid, y_valid))"
      ],
      "execution_count": 16,
      "outputs": [
        {
          "output_type": "stream",
          "text": [
            "Epoch 1/20\n",
            "219/219 [==============================] - 21s 96ms/step - loss: 0.0147 - val_loss: 0.0045\n",
            "Epoch 2/20\n",
            "219/219 [==============================] - 20s 93ms/step - loss: 0.0038 - val_loss: 0.0038\n",
            "Epoch 3/20\n",
            "219/219 [==============================] - 20s 93ms/step - loss: 0.0033 - val_loss: 0.0034\n",
            "Epoch 4/20\n",
            "219/219 [==============================] - 20s 93ms/step - loss: 0.0032 - val_loss: 0.0033\n",
            "Epoch 5/20\n",
            "219/219 [==============================] - 20s 93ms/step - loss: 0.0030 - val_loss: 0.0031\n",
            "Epoch 6/20\n",
            "219/219 [==============================] - 20s 93ms/step - loss: 0.0030 - val_loss: 0.0032\n",
            "Epoch 7/20\n",
            "219/219 [==============================] - 21s 94ms/step - loss: 0.0029 - val_loss: 0.0032\n",
            "Epoch 8/20\n",
            "219/219 [==============================] - 21s 94ms/step - loss: 0.0029 - val_loss: 0.0031\n",
            "Epoch 9/20\n",
            "219/219 [==============================] - 21s 94ms/step - loss: 0.0028 - val_loss: 0.0030\n",
            "Epoch 10/20\n",
            "219/219 [==============================] - 20s 93ms/step - loss: 0.0028 - val_loss: 0.0028\n",
            "Epoch 11/20\n",
            "219/219 [==============================] - 21s 94ms/step - loss: 0.0028 - val_loss: 0.0031\n",
            "Epoch 12/20\n",
            "219/219 [==============================] - 20s 92ms/step - loss: 0.0028 - val_loss: 0.0028\n",
            "Epoch 13/20\n",
            "219/219 [==============================] - 20s 93ms/step - loss: 0.0028 - val_loss: 0.0032\n",
            "Epoch 14/20\n",
            "219/219 [==============================] - 21s 97ms/step - loss: 0.0028 - val_loss: 0.0031\n",
            "Epoch 15/20\n",
            "219/219 [==============================] - 21s 97ms/step - loss: 0.0028 - val_loss: 0.0028\n",
            "Epoch 16/20\n",
            "219/219 [==============================] - 21s 94ms/step - loss: 0.0027 - val_loss: 0.0028\n",
            "Epoch 17/20\n",
            "219/219 [==============================] - 21s 95ms/step - loss: 0.0027 - val_loss: 0.0028\n",
            "Epoch 18/20\n",
            "219/219 [==============================] - 21s 96ms/step - loss: 0.0027 - val_loss: 0.0028\n",
            "Epoch 19/20\n",
            "219/219 [==============================] - 21s 95ms/step - loss: 0.0028 - val_loss: 0.0029\n",
            "Epoch 20/20\n",
            "219/219 [==============================] - 21s 95ms/step - loss: 0.0027 - val_loss: 0.0030\n"
          ],
          "name": "stdout"
        }
      ]
    },
    {
      "cell_type": "code",
      "metadata": {
        "trusted": true,
        "id": "TyGowSwLnO0i",
        "colab_type": "code",
        "colab": {
          "base_uri": "https://localhost:8080/",
          "height": 52
        },
        "outputId": "88732561-3358-48ed-84c5-195f127632b6"
      },
      "source": [
        "model.evaluate(X_test, y_test)"
      ],
      "execution_count": 17,
      "outputs": [
        {
          "output_type": "stream",
          "text": [
            "32/32 [==============================] - 0s 11ms/step - loss: 0.0030\n"
          ],
          "name": "stdout"
        },
        {
          "output_type": "execute_result",
          "data": {
            "text/plain": [
              "0.0029847663827240467"
            ]
          },
          "metadata": {
            "tags": []
          },
          "execution_count": 17
        }
      ]
    },
    {
      "cell_type": "code",
      "metadata": {
        "trusted": true,
        "id": "EGLWRESZnO0n",
        "colab_type": "code",
        "colab": {
          "base_uri": "https://localhost:8080/",
          "height": 278
        },
        "outputId": "74a4749e-db72-43c2-a384-296001cf900c"
      },
      "source": [
        "plot_learning_curves(history.history[\"loss\"], history.history[\"val_loss\"])\n",
        "plt.show()"
      ],
      "execution_count": 18,
      "outputs": [
        {
          "output_type": "display_data",
          "data": {
            "image/png": "[encoded data removed]",
            "text/plain": [
              "<Figure size 432x288 with 1 Axes>"
            ]
          },
          "metadata": {
            "tags": [],
            "needs_background": "light"
          }
        }
      ]
    },
    {
      "cell_type": "code",
      "metadata": {
        "trusted": true,
        "id": "9XOzRe02nO0q",
        "colab_type": "code",
        "colab": {}
      },
      "source": [
        "model = keras.models.Sequential([\n",
        "    keras.layers.SimpleRNN(20, return_sequences = True, input_shape=[None, 1]),\n",
        "    keras.layers.SimpleRNN(20),\n",
        "    keras.layers.Dense(1)\n",
        "])"
      ],
      "execution_count": 19,
      "outputs": []
    },
    {
      "cell_type": "code",
      "metadata": {
        "trusted": true,
        "id": "A9niQOIfnO0s",
        "colab_type": "code",
        "colab": {
          "base_uri": "https://localhost:8080/",
          "height": 727
        },
        "outputId": "fc322b69-1ff1-4997-d07c-b8ba252d64f7"
      },
      "source": [
        "model.compile(loss=\"mse\", optimizer=\"adam\")\n",
        "history = model.fit(X_train, y_train, epochs=20, validation_data=(X_valid, y_valid))"
      ],
      "execution_count": 20,
      "outputs": [
        {
          "output_type": "stream",
          "text": [
            "Epoch 1/20\n",
            "219/219 [==============================] - 15s 68ms/step - loss: 0.0753 - val_loss: 0.0083\n",
            "Epoch 2/20\n",
            "219/219 [==============================] - 14s 66ms/step - loss: 0.0061 - val_loss: 0.0052\n",
            "Epoch 3/20\n",
            "219/219 [==============================] - 14s 65ms/step - loss: 0.0044 - val_loss: 0.0041\n",
            "Epoch 4/20\n",
            "219/219 [==============================] - 14s 65ms/step - loss: 0.0040 - val_loss: 0.0043\n",
            "Epoch 5/20\n",
            "219/219 [==============================] - 14s 65ms/step - loss: 0.0039 - val_loss: 0.0042\n",
            "Epoch 6/20\n",
            "219/219 [==============================] - 14s 66ms/step - loss: 0.0037 - val_loss: 0.0039\n",
            "Epoch 7/20\n",
            "219/219 [==============================] - 15s 66ms/step - loss: 0.0036 - val_loss: 0.0036\n",
            "Epoch 8/20\n",
            "219/219 [==============================] - 15s 66ms/step - loss: 0.0036 - val_loss: 0.0035\n",
            "Epoch 9/20\n",
            "219/219 [==============================] - 14s 66ms/step - loss: 0.0034 - val_loss: 0.0034\n",
            "Epoch 10/20\n",
            "219/219 [==============================] - 15s 67ms/step - loss: 0.0034 - val_loss: 0.0033\n",
            "Epoch 11/20\n",
            "219/219 [==============================] - 14s 66ms/step - loss: 0.0033 - val_loss: 0.0032\n",
            "Epoch 12/20\n",
            "219/219 [==============================] - 14s 66ms/step - loss: 0.0033 - val_loss: 0.0034\n",
            "Epoch 13/20\n",
            "219/219 [==============================] - 14s 66ms/step - loss: 0.0032 - val_loss: 0.0032\n",
            "Epoch 14/20\n",
            "219/219 [==============================] - 14s 66ms/step - loss: 0.0032 - val_loss: 0.0032\n",
            "Epoch 15/20\n",
            "219/219 [==============================] - 14s 65ms/step - loss: 0.0032 - val_loss: 0.0036\n",
            "Epoch 16/20\n",
            "219/219 [==============================] - 14s 65ms/step - loss: 0.0032 - val_loss: 0.0031\n",
            "Epoch 17/20\n",
            "219/219 [==============================] - 14s 65ms/step - loss: 0.0032 - val_loss: 0.0031\n",
            "Epoch 18/20\n",
            "219/219 [==============================] - 14s 64ms/step - loss: 0.0031 - val_loss: 0.0033\n",
            "Epoch 19/20\n",
            "219/219 [==============================] - 14s 66ms/step - loss: 0.0031 - val_loss: 0.0035\n",
            "Epoch 20/20\n",
            "219/219 [==============================] - 14s 66ms/step - loss: 0.0030 - val_loss: 0.0032\n"
          ],
          "name": "stdout"
        }
      ]
    },
    {
      "cell_type": "code",
      "metadata": {
        "trusted": true,
        "id": "bj6fcXAfnO0v",
        "colab_type": "code",
        "colab": {
          "base_uri": "https://localhost:8080/",
          "height": 52
        },
        "outputId": "2acf38ba-be5f-4fba-a8f1-d27da949ac80"
      },
      "source": [
        "model.evaluate(X_test, y_test)"
      ],
      "execution_count": 21,
      "outputs": [
        {
          "output_type": "stream",
          "text": [
            "32/32 [==============================] - 0s 8ms/step - loss: 0.0032\n"
          ],
          "name": "stdout"
        },
        {
          "output_type": "execute_result",
          "data": {
            "text/plain": [
              "0.00323499389924109"
            ]
          },
          "metadata": {
            "tags": []
          },
          "execution_count": 21
        }
      ]
    },
    {
      "cell_type": "code",
      "metadata": {
        "trusted": true,
        "id": "azluoo5AnO0x",
        "colab_type": "code",
        "colab": {
          "base_uri": "https://localhost:8080/",
          "height": 278
        },
        "outputId": "bcb60102-c74c-4840-d338-d0d5499cdb69"
      },
      "source": [
        "plot_learning_curves(history.history[\"loss\"], history.history[\"val_loss\"])\n",
        "plt.show()"
      ],
      "execution_count": 22,
      "outputs": [
        {
          "output_type": "display_data",
          "data": {
            "image/png": "[encoded data removed]",
            "text/plain": [
              "<Figure size 432x288 with 1 Axes>"
            ]
          },
          "metadata": {
            "tags": [],
            "needs_background": "light"
          }
        }
      ]
    },
    {
      "cell_type": "markdown",
      "metadata": {
        "id": "lYGgsDJ3nO0z",
        "colab_type": "text"
      },
      "source": [
        "## Forecasting Several Steps Ahead"
      ]
    },
    {
      "cell_type": "code",
      "metadata": {
        "trusted": true,
        "id": "-dsEUzIlnO00",
        "colab_type": "code",
        "colab": {}
      },
      "source": [
        "np.random.seed(42)\n",
        "\n",
        "series = generate_time_series(1, n_steps + 10)\n",
        "X_new, Y_new = series[:, :n_steps], series[:, n_steps:]\n",
        "X = X_new\n",
        "for step_ahead in range(10):\n",
        "    y_pred_one = model.predict(X[:, step_ahead:])[:, np.newaxis, :]\n",
        "    X = np.concatenate([X, y_pred_one], axis=1)\n",
        "\n",
        "Y_pred = X[:, n_steps:]"
      ],
      "execution_count": 23,
      "outputs": []
    },
    {
      "cell_type": "code",
      "metadata": {
        "trusted": true,
        "id": "A7kfFK-znO03",
        "colab_type": "code",
        "colab": {}
      },
      "source": [
        "def plot_multiple_forecasts(X, Y, Y_pred):\n",
        "    n_steps = X.shape[1]\n",
        "    ahead = Y.shape[1]\n",
        "    plot_series(X[0, :, 0])\n",
        "    plt.plot(np.arange(n_steps, n_steps + ahead), Y[0, :, 0], \"ro-\", label=\"Actual\")\n",
        "    plt.plot(np.arange(n_steps, n_steps + ahead), Y_pred[0, :, 0], \"bx-\", label=\"Forecast\", markersize=10)\n",
        "    plt.axis([0, n_steps + ahead, -1, 1])\n",
        "    plt.legend()"
      ],
      "execution_count": 24,
      "outputs": []
    },
    {
      "cell_type": "code",
      "metadata": {
        "trusted": true,
        "id": "joA3rr4jnO06",
        "colab_type": "code",
        "colab": {
          "base_uri": "https://localhost:8080/",
          "height": 284
        },
        "outputId": "c7b2c254-7acf-4ccf-b84c-3264cc7ae4fa"
      },
      "source": [
        "plot_multiple_forecasts(X_new, Y_new, Y_pred)"
      ],
      "execution_count": 25,
      "outputs": [
        {
          "output_type": "display_data",
          "data": {
            "image/png": "[encoded data removed]",
            "text/plain": [
              "<Figure size 432x288 with 1 Axes>"
            ]
          },
          "metadata": {
            "tags": [],
            "needs_background": "light"
          }
        }
      ]
    },
    {
      "cell_type": "markdown",
      "metadata": {
        "id": "fMMwf_GdnO0-",
        "colab_type": "text"
      },
      "source": [
        "Now let's use this model to predict the next 10 values. We first need to regenerate the sequences with 9 more time steps."
      ]
    },
    {
      "cell_type": "code",
      "metadata": {
        "trusted": true,
        "id": "MLq3qZeInO0_",
        "colab_type": "code",
        "colab": {}
      },
      "source": [
        "series = generate_time_series(10000, n_steps + 10)\n",
        "X_train, Y_train = series[:7000, :n_steps], series[:7000, -10:, 0]\n",
        "X_valid, Y_valid = series[7000:9000, :n_steps], series[7000:9000, -10:, 0]\n",
        "X_test, Y_test = series[9000:, :n_steps], series[9000:, -10:, 0]"
      ],
      "execution_count": 26,
      "outputs": []
    },
    {
      "cell_type": "code",
      "metadata": {
        "trusted": true,
        "id": "NzpawjOJnO1B",
        "colab_type": "code",
        "colab": {}
      },
      "source": [
        "model = keras.models.Sequential([\n",
        "    keras.layers.SimpleRNN(20, return_sequences=True, input_shape=[None, 1]),\n",
        "    keras.layers.SimpleRNN(20),\n",
        "    keras.layers.Dense(10)\n",
        "])"
      ],
      "execution_count": 27,
      "outputs": []
    },
    {
      "cell_type": "code",
      "metadata": {
        "trusted": true,
        "id": "AVuSB_xTnO1H",
        "colab_type": "code",
        "colab": {
          "base_uri": "https://localhost:8080/",
          "height": 727
        },
        "outputId": "57f8f2be-681b-40c0-8826-ea9ff9c68a59"
      },
      "source": [
        "model.compile(loss=\"mse\", optimizer=\"adam\")\n",
        "history = model.fit(X_train, Y_train, epochs=20, validation_data=(X_valid, Y_valid))"
      ],
      "execution_count": 28,
      "outputs": [
        {
          "output_type": "stream",
          "text": [
            "Epoch 1/20\n",
            "219/219 [==============================] - 15s 67ms/step - loss: 0.0811 - val_loss: 0.0335\n",
            "Epoch 2/20\n",
            "219/219 [==============================] - 14s 66ms/step - loss: 0.0292 - val_loss: 0.0242\n",
            "Epoch 3/20\n",
            "219/219 [==============================] - 15s 67ms/step - loss: 0.0217 - val_loss: 0.0197\n",
            "Epoch 4/20\n",
            "219/219 [==============================] - 15s 66ms/step - loss: 0.0181 - val_loss: 0.0165\n",
            "Epoch 5/20\n",
            "219/219 [==============================] - 14s 65ms/step - loss: 0.0148 - val_loss: 0.0129\n",
            "Epoch 6/20\n",
            "219/219 [==============================] - 14s 66ms/step - loss: 0.0134 - val_loss: 0.0123\n",
            "Epoch 7/20\n",
            "219/219 [==============================] - 15s 66ms/step - loss: 0.0121 - val_loss: 0.0128\n",
            "Epoch 8/20\n",
            "219/219 [==============================] - 14s 66ms/step - loss: 0.0118 - val_loss: 0.0134\n",
            "Epoch 9/20\n",
            "219/219 [==============================] - 15s 66ms/step - loss: 0.0114 - val_loss: 0.0127\n",
            "Epoch 10/20\n",
            "219/219 [==============================] - 14s 66ms/step - loss: 0.0109 - val_loss: 0.0122\n",
            "Epoch 11/20\n",
            "219/219 [==============================] - 15s 66ms/step - loss: 0.0106 - val_loss: 0.0120\n",
            "Epoch 12/20\n",
            "219/219 [==============================] - 14s 66ms/step - loss: 0.0105 - val_loss: 0.0095\n",
            "Epoch 13/20\n",
            "219/219 [==============================] - 14s 65ms/step - loss: 0.0100 - val_loss: 0.0095\n",
            "Epoch 14/20\n",
            "219/219 [==============================] - 14s 65ms/step - loss: 0.0103 - val_loss: 0.0095\n",
            "Epoch 15/20\n",
            "219/219 [==============================] - 15s 67ms/step - loss: 0.0097 - val_loss: 0.0098\n",
            "Epoch 16/20\n",
            "219/219 [==============================] - 15s 67ms/step - loss: 0.0092 - val_loss: 0.0084\n",
            "Epoch 17/20\n",
            "219/219 [==============================] - 14s 65ms/step - loss: 0.0097 - val_loss: 0.0091\n",
            "Epoch 18/20\n",
            "219/219 [==============================] - 14s 66ms/step - loss: 0.0092 - val_loss: 0.0087\n",
            "Epoch 19/20\n",
            "219/219 [==============================] - 15s 67ms/step - loss: 0.0090 - val_loss: 0.0091\n",
            "Epoch 20/20\n",
            "219/219 [==============================] - 14s 65ms/step - loss: 0.0091 - val_loss: 0.0104\n"
          ],
          "name": "stdout"
        }
      ]
    },
    {
      "cell_type": "code",
      "metadata": {
        "trusted": true,
        "id": "nYW5-Jf5nO1L",
        "colab_type": "code",
        "colab": {
          "base_uri": "https://localhost:8080/",
          "height": 52
        },
        "outputId": "d95137ae-acac-4347-c8e2-06dad2eea027"
      },
      "source": [
        "model.evaluate(X_test, Y_test)"
      ],
      "execution_count": 29,
      "outputs": [
        {
          "output_type": "stream",
          "text": [
            "32/32 [==============================] - 0s 8ms/step - loss: 0.0109\n"
          ],
          "name": "stdout"
        },
        {
          "output_type": "execute_result",
          "data": {
            "text/plain": [
              "0.010924643836915493"
            ]
          },
          "metadata": {
            "tags": []
          },
          "execution_count": 29
        }
      ]
    },
    {
      "cell_type": "code",
      "metadata": {
        "trusted": true,
        "id": "SuXwIXEdnO1S",
        "colab_type": "code",
        "colab": {
          "base_uri": "https://localhost:8080/",
          "height": 278
        },
        "outputId": "d6f0fe82-e66a-41d3-c9b0-5972ca9c8e61"
      },
      "source": [
        "plot_learning_curves(history.history[\"loss\"], history.history[\"val_loss\"])\n",
        "plt.show()"
      ],
      "execution_count": 30,
      "outputs": [
        {
          "output_type": "display_data",
          "data": {
            "image/png": "[encoded data removed]",
            "text/plain": [
              "<Figure size 432x288 with 1 Axes>"
            ]
          },
          "metadata": {
            "tags": [],
            "needs_background": "light"
          }
        }
      ]
    },
    {
      "cell_type": "code",
      "metadata": {
        "trusted": true,
        "id": "3zanp65inO1W",
        "colab_type": "code",
        "colab": {}
      },
      "source": [
        "Y_pred = model.predict(X_new)"
      ],
      "execution_count": 31,
      "outputs": []
    },
    {
      "cell_type": "code",
      "metadata": {
        "trusted": true,
        "id": "-hhF78GBnO1Z",
        "colab_type": "code",
        "colab": {}
      },
      "source": [
        "np.random.seed(42)\n",
        "\n",
        "series = generate_time_series(1, 50 + 10)\n",
        "X_new, Y_new = series[:, :50, :], series[:, -10:, :]\n",
        "Y_pred = model.predict(X_new)[..., np.newaxis]"
      ],
      "execution_count": 32,
      "outputs": []
    },
    {
      "cell_type": "code",
      "metadata": {
        "trusted": true,
        "id": "iQDq4qyBnO1d",
        "colab_type": "code",
        "colab": {
          "base_uri": "https://localhost:8080/",
          "height": 284
        },
        "outputId": "90305be1-5a32-4ce8-bc3f-c82f220deeed"
      },
      "source": [
        "plot_multiple_forecasts(X_new, Y_new, Y_pred)\n",
        "plt.show()"
      ],
      "execution_count": 33,
      "outputs": [
        {
          "output_type": "display_data",
          "data": {
            "image/png": "[encoded data removed]",
            "text/plain": [
              "<Figure size 432x288 with 1 Axes>"
            ]
          },
          "metadata": {
            "tags": [],
            "needs_background": "light"
          }
        }
      ]
    },
    {
      "cell_type": "markdown",
      "metadata": {
        "id": "ic2rKEHUnO1g",
        "colab_type": "text"
      },
      "source": [
        "\n",
        "Now let's create an RNN that predicts the next 10 steps at each time step. That is, instead of just forecasting time steps 50 to 59 based on time steps 0 to 49, it will forecast time steps 1 to 10 at time step 0, then time steps 2 to 11 at time step 1, and so on, and finally it will forecast time steps 50 to 59 at the last time step. Notice that the model is causal: when it makes predictions at any time step, it can only see past time steps."
      ]
    },
    {
      "cell_type": "code",
      "metadata": {
        "trusted": true,
        "id": "f5P-qE3_nO1h",
        "colab_type": "code",
        "colab": {}
      },
      "source": [
        "Y = np.empty((10000, n_steps, 10))\n",
        "for step_ahead in range(1, 10 + 1):\n",
        "    Y[:, :, step_ahead - 1] = series[:, step_ahead : step_ahead + n_steps, 0]\n",
        "Y_train = Y[:7000]\n",
        "Y_valid = Y[7000:9000]\n",
        "Y_test  = Y[9000:]"
      ],
      "execution_count": 34,
      "outputs": []
    },
    {
      "cell_type": "markdown",
      "metadata": {
        "id": "8QDoF6dVnO1j",
        "colab_type": "text"
      },
      "source": [
        "It may be surprising that the targets will contain values that appear in the inputs (there is a lot of overlap between X_train and Y_train). Isn’t that cheating? Fortunately, not at all: at each time step, the model only knows about past time steps, so it cannot look ahead. It is said to be a causal model."
      ]
    },
    {
      "cell_type": "markdown",
      "metadata": {
        "id": "e1Mrw4BenO1k",
        "colab_type": "text"
      },
      "source": [
        "To turn the model into a sequence-to-sequence model, we must set return_sequences=True in all recurrent layers (even the last one), and we must apply the output Dense layer at every time step."
      ]
    },
    {
      "cell_type": "code",
      "metadata": {
        "trusted": true,
        "id": "LLTzgxednO1k",
        "colab_type": "code",
        "colab": {}
      },
      "source": [
        "model = keras.models.Sequential([\n",
        "    keras.layers.SimpleRNN(20, return_sequences = True, input_shape=[None, 1]),\n",
        "    keras.layers.SimpleRNN(20, return_sequences = True),\n",
        "    keras.layers.TimeDistributed(keras.layers.Dense(10))\n",
        "])\n",
        "\n",
        "def last_time_step_mse(Y_true, Y_pred):\n",
        "    return keras.metrics.mean_squared_error(Y_true[:, -1], Y_pred[:, -1])"
      ],
      "execution_count": 35,
      "outputs": []
    },
    {
      "cell_type": "code",
      "metadata": {
        "trusted": true,
        "id": "Q7VzKPkhnO1m",
        "colab_type": "code",
        "colab": {
          "base_uri": "https://localhost:8080/",
          "height": 727
        },
        "outputId": "1d6bfb4a-30f0-43a5-9f9c-b4791d77215b"
      },
      "source": [
        "model.compile(loss = 'mse', optimizer = 'nadam', metrics = [last_time_step_mse])\n",
        "history = model.fit(X_train, Y_train, validation_data = (X_valid, Y_valid), epochs=20)"
      ],
      "execution_count": 36,
      "outputs": [
        {
          "output_type": "stream",
          "text": [
            "Epoch 1/20\n",
            "219/219 [==============================] - 15s 68ms/step - loss: 0.0664 - last_time_step_mse: 0.0612 - val_loss: 0.0083 - val_last_time_step_mse: 0.0201\n",
            "Epoch 2/20\n",
            "219/219 [==============================] - 15s 67ms/step - loss: 0.0086 - last_time_step_mse: 0.0251 - val_loss: 0.0100 - val_last_time_step_mse: 0.0121\n",
            "Epoch 3/20\n",
            "219/219 [==============================] - 15s 67ms/step - loss: 0.0057 - last_time_step_mse: 0.0181 - val_loss: 0.0044 - val_last_time_step_mse: 0.0065\n",
            "Epoch 4/20\n",
            "219/219 [==============================] - 15s 67ms/step - loss: 0.0045 - last_time_step_mse: 0.0147 - val_loss: 0.0031 - val_last_time_step_mse: 0.0154\n",
            "Epoch 5/20\n",
            "219/219 [==============================] - 15s 67ms/step - loss: 0.0040 - last_time_step_mse: 0.0133 - val_loss: 0.0086 - val_last_time_step_mse: 0.0409\n",
            "Epoch 6/20\n",
            "219/219 [==============================] - 15s 68ms/step - loss: 0.0033 - last_time_step_mse: 0.0110 - val_loss: 0.0039 - val_last_time_step_mse: 0.0046\n",
            "Epoch 7/20\n",
            "219/219 [==============================] - 15s 68ms/step - loss: 0.0031 - last_time_step_mse: 0.0102 - val_loss: 0.0024 - val_last_time_step_mse: 0.0054\n",
            "Epoch 8/20\n",
            "219/219 [==============================] - 15s 67ms/step - loss: 0.0025 - last_time_step_mse: 0.0081 - val_loss: 0.0015 - val_last_time_step_mse: 0.0056\n",
            "Epoch 9/20\n",
            "219/219 [==============================] - 15s 67ms/step - loss: 0.0023 - last_time_step_mse: 0.0072 - val_loss: 0.0014 - val_last_time_step_mse: 0.0055\n",
            "Epoch 10/20\n",
            "219/219 [==============================] - 15s 67ms/step - loss: 0.0023 - last_time_step_mse: 0.0070 - val_loss: 0.0021 - val_last_time_step_mse: 0.0031\n",
            "Epoch 11/20\n",
            "219/219 [==============================] - 15s 68ms/step - loss: 0.0021 - last_time_step_mse: 0.0064 - val_loss: 0.0017 - val_last_time_step_mse: 0.0073\n",
            "Epoch 12/20\n",
            "219/219 [==============================] - 15s 67ms/step - loss: 0.0021 - last_time_step_mse: 0.0062 - val_loss: 0.0019 - val_last_time_step_mse: 0.0034\n",
            "Epoch 13/20\n",
            "219/219 [==============================] - 15s 67ms/step - loss: 0.0019 - last_time_step_mse: 0.0056 - val_loss: 0.0028 - val_last_time_step_mse: 0.0112\n",
            "Epoch 14/20\n",
            "219/219 [==============================] - 15s 66ms/step - loss: 0.0018 - last_time_step_mse: 0.0052 - val_loss: 0.0015 - val_last_time_step_mse: 0.0029\n",
            "Epoch 15/20\n",
            "219/219 [==============================] - 15s 67ms/step - loss: 0.0018 - last_time_step_mse: 0.0049 - val_loss: 0.0010 - val_last_time_step_mse: 0.0036\n",
            "Epoch 16/20\n",
            "219/219 [==============================] - 15s 69ms/step - loss: 0.0016 - last_time_step_mse: 0.0045 - val_loss: 9.9894e-04 - val_last_time_step_mse: 0.0031\n",
            "Epoch 17/20\n",
            "219/219 [==============================] - 15s 67ms/step - loss: 0.0016 - last_time_step_mse: 0.0044 - val_loss: 0.0017 - val_last_time_step_mse: 0.0022\n",
            "Epoch 18/20\n",
            "219/219 [==============================] - 15s 67ms/step - loss: 0.0013 - last_time_step_mse: 0.0035 - val_loss: 0.0023 - val_last_time_step_mse: 0.0083\n",
            "Epoch 19/20\n",
            "219/219 [==============================] - 15s 67ms/step - loss: 0.0016 - last_time_step_mse: 0.0038 - val_loss: 0.0016 - val_last_time_step_mse: 0.0050\n",
            "Epoch 20/20\n",
            "219/219 [==============================] - 15s 67ms/step - loss: 0.0014 - last_time_step_mse: 0.0035 - val_loss: 0.0010 - val_last_time_step_mse: 0.0019\n"
          ],
          "name": "stdout"
        }
      ]
    },
    {
      "cell_type": "code",
      "metadata": {
        "trusted": true,
        "id": "sVEX0ogmnO1p",
        "colab_type": "code",
        "colab": {
          "base_uri": "https://localhost:8080/",
          "height": 52
        },
        "outputId": "4a89e131-f9b9-45b6-f28d-0b5a66351ec6"
      },
      "source": [
        "model.evaluate(X_test, Y_test)"
      ],
      "execution_count": 37,
      "outputs": [
        {
          "output_type": "stream",
          "text": [
            "32/32 [==============================] - 0s 8ms/step - loss: 0.0010 - last_time_step_mse: 0.0019\n"
          ],
          "name": "stdout"
        },
        {
          "output_type": "execute_result",
          "data": {
            "text/plain": [
              "[0.0010001405607908964, 0.001947689917869866]"
            ]
          },
          "metadata": {
            "tags": []
          },
          "execution_count": 37
        }
      ]
    },
    {
      "cell_type": "code",
      "metadata": {
        "trusted": true,
        "id": "x7f3_0uGnO1r",
        "colab_type": "code",
        "colab": {}
      },
      "source": [
        "np.random.seed(42)\n",
        "\n",
        "series = generate_time_series(1, 50 + 10)\n",
        "X_new, Y_new = series[:, :50, :], series[:, 50:, :]\n",
        "Y_pred = model.predict(X_new)[:, -1][..., np.newaxis]"
      ],
      "execution_count": 38,
      "outputs": []
    },
    {
      "cell_type": "code",
      "metadata": {
        "trusted": true,
        "id": "KO3ec0krnO1w",
        "colab_type": "code",
        "colab": {
          "base_uri": "https://localhost:8080/",
          "height": 284
        },
        "outputId": "9cc32c04-1111-4ef5-d6a0-e9671b27f40a"
      },
      "source": [
        "plot_multiple_forecasts(X_new, Y_new, Y_pred)\n",
        "plt.show()"
      ],
      "execution_count": 39,
      "outputs": [
        {
          "output_type": "display_data",
          "data": {
            "image/png": "[encoded data removed]",
            "text/plain": [
              "<Figure size 432x288 with 1 Axes>"
            ]
          },
          "metadata": {
            "tags": [],
            "needs_background": "light"
          }
        }
      ]
    },
    {
      "cell_type": "markdown",
      "metadata": {
        "id": "LDHiW53_s3Ii",
        "colab_type": "text"
      },
      "source": [
        "## Deep RNN with Batch Norm"
      ]
    },
    {
      "cell_type": "code",
      "metadata": {
        "id": "Ht6elCyZs4QK",
        "colab_type": "code",
        "colab": {
          "base_uri": "https://localhost:8080/",
          "height": 727
        },
        "outputId": "7cbe6e82-3f71-448c-d997-8ab0a889d92e"
      },
      "source": [
        "tf.random.set_seed(42)\n",
        "np.random.seed(42)\n",
        "\n",
        "model = keras.models.Sequential([\n",
        "                                 keras.layers.SimpleRNN(20, return_sequences=True, input_shape = [None,1]),\n",
        "                                 keras.layers.BatchNormalization(),\n",
        "                                 keras.layers.SimpleRNN(20, return_sequences=True),\n",
        "                                 keras.layers.BatchNormalization(),\n",
        "                                 keras.layers.TimeDistributed(keras.layers.Dense(10))\n",
        "])\n",
        "\n",
        "model.compile(loss = 'mse', optimizer = 'adam', metrics=[last_time_step_mse])\n",
        "history = model.fit(X_train, Y_train, validation_data=(X_valid, Y_valid), epochs=20)"
      ],
      "execution_count": 41,
      "outputs": [
        {
          "output_type": "stream",
          "text": [
            "Epoch 1/20\n",
            "219/219 [==============================] - 15s 68ms/step - loss: 0.2735 - last_time_step_mse: 0.1799 - val_loss: 0.1834 - val_last_time_step_mse: 0.0913\n",
            "Epoch 2/20\n",
            "219/219 [==============================] - 14s 66ms/step - loss: 0.1110 - last_time_step_mse: 0.0814 - val_loss: 0.0393 - val_last_time_step_mse: 0.0640\n",
            "Epoch 3/20\n",
            "219/219 [==============================] - 14s 66ms/step - loss: 0.0186 - last_time_step_mse: 0.0291 - val_loss: 0.0142 - val_last_time_step_mse: 0.0226\n",
            "Epoch 4/20\n",
            "219/219 [==============================] - 15s 67ms/step - loss: 0.0115 - last_time_step_mse: 0.0222 - val_loss: 0.0094 - val_last_time_step_mse: 0.0204\n",
            "Epoch 5/20\n",
            "219/219 [==============================] - 15s 66ms/step - loss: 0.0086 - last_time_step_mse: 0.0192 - val_loss: 0.0077 - val_last_time_step_mse: 0.0185\n",
            "Epoch 6/20\n",
            "219/219 [==============================] - 14s 66ms/step - loss: 0.0069 - last_time_step_mse: 0.0170 - val_loss: 0.0058 - val_last_time_step_mse: 0.0169\n",
            "Epoch 7/20\n",
            "219/219 [==============================] - 14s 66ms/step - loss: 0.0056 - last_time_step_mse: 0.0152 - val_loss: 0.0045 - val_last_time_step_mse: 0.0122\n",
            "Epoch 8/20\n",
            "219/219 [==============================] - 14s 66ms/step - loss: 0.0043 - last_time_step_mse: 0.0122 - val_loss: 0.0039 - val_last_time_step_mse: 0.0091\n",
            "Epoch 9/20\n",
            "219/219 [==============================] - 14s 66ms/step - loss: 0.0034 - last_time_step_mse: 0.0094 - val_loss: 0.0035 - val_last_time_step_mse: 0.0061\n",
            "Epoch 10/20\n",
            "219/219 [==============================] - 14s 66ms/step - loss: 0.0030 - last_time_step_mse: 0.0084 - val_loss: 0.0027 - val_last_time_step_mse: 0.0057\n",
            "Epoch 11/20\n",
            "219/219 [==============================] - 14s 66ms/step - loss: 0.0026 - last_time_step_mse: 0.0075 - val_loss: 0.0025 - val_last_time_step_mse: 0.0077\n",
            "Epoch 12/20\n",
            "219/219 [==============================] - 14s 66ms/step - loss: 0.0024 - last_time_step_mse: 0.0069 - val_loss: 0.0021 - val_last_time_step_mse: 0.0066\n",
            "Epoch 13/20\n",
            "219/219 [==============================] - 14s 66ms/step - loss: 0.0022 - last_time_step_mse: 0.0065 - val_loss: 0.0020 - val_last_time_step_mse: 0.0053\n",
            "Epoch 14/20\n",
            "219/219 [==============================] - 14s 65ms/step - loss: 0.0021 - last_time_step_mse: 0.0061 - val_loss: 0.0019 - val_last_time_step_mse: 0.0059\n",
            "Epoch 15/20\n",
            "219/219 [==============================] - 14s 66ms/step - loss: 0.0020 - last_time_step_mse: 0.0058 - val_loss: 0.0018 - val_last_time_step_mse: 0.0058\n",
            "Epoch 16/20\n",
            "219/219 [==============================] - 15s 67ms/step - loss: 0.0019 - last_time_step_mse: 0.0055 - val_loss: 0.0018 - val_last_time_step_mse: 0.0041\n",
            "Epoch 17/20\n",
            "219/219 [==============================] - 14s 66ms/step - loss: 0.0018 - last_time_step_mse: 0.0052 - val_loss: 0.0016 - val_last_time_step_mse: 0.0047\n",
            "Epoch 18/20\n",
            "219/219 [==============================] - 14s 66ms/step - loss: 0.0018 - last_time_step_mse: 0.0051 - val_loss: 0.0019 - val_last_time_step_mse: 0.0063\n",
            "Epoch 19/20\n",
            "219/219 [==============================] - 15s 66ms/step - loss: 0.0016 - last_time_step_mse: 0.0046 - val_loss: 0.0016 - val_last_time_step_mse: 0.0050\n",
            "Epoch 20/20\n",
            "219/219 [==============================] - 15s 66ms/step - loss: 0.0015 - last_time_step_mse: 0.0043 - val_loss: 0.0018 - val_last_time_step_mse: 0.0045\n"
          ],
          "name": "stdout"
        }
      ]
    },
    {
      "cell_type": "markdown",
      "metadata": {
        "id": "-V-ymj1nuFoH",
        "colab_type": "text"
      },
      "source": [
        "## Deep RNNs with Layer Norm"
      ]
    },
    {
      "cell_type": "code",
      "metadata": {
        "id": "vQ5RfJXVt3eV",
        "colab_type": "code",
        "colab": {}
      },
      "source": [
        "class LNSimpleRNNCell(keras.layers.Layer):\n",
        "    def __init__(self, units, activation=\"tanh\", **kwargs):\n",
        "        super().__init__(**kwargs)\n",
        "        self.state_size = units\n",
        "        self.output_size = units\n",
        "        self.simple_rnn_cell = keras.layers.SimpleRNNCell(units,\n",
        "                                                          activation=None)\n",
        "        self.layer_norm = keras.layers.LayerNormalization()\n",
        "        self.activation = keras.activations.get(activation)\n",
        "    def get_initial_state(self, inputs=None, batch_size=None, dtype=None):\n",
        "        if inputs is not None:\n",
        "            batch_size = tf.shape(inputs)[0]\n",
        "            dtype = inputs.dtype\n",
        "        return [tf.zeros([batch_size, self.state_size], dtype=dtype)]\n",
        "    def call(self, inputs, states):\n",
        "        outputs, new_states = self.simple_rnn_cell(inputs, states)\n",
        "        norm_outputs = self.activation(self.layer_norm(outputs))\n",
        "        return norm_outputs, [norm_outputs]"
      ],
      "execution_count": 45,
      "outputs": []
    },
    {
      "cell_type": "code",
      "metadata": {
        "id": "VUKdp3n1w3y5",
        "colab_type": "code",
        "colab": {
          "base_uri": "https://localhost:8080/",
          "height": 727
        },
        "outputId": "b69ded57-8e47-4116-a5b1-9fb9b25f6407"
      },
      "source": [
        "np.random.seed(42)\n",
        "tf.random.set_seed(42)\n",
        "\n",
        "model = keras.models.Sequential([\n",
        "    keras.layers.RNN(LNSimpleRNNCell(20), return_sequences=True,\n",
        "                     input_shape=[None, 1]),\n",
        "    keras.layers.RNN(LNSimpleRNNCell(20), return_sequences=True),\n",
        "    keras.layers.TimeDistributed(keras.layers.Dense(10))\n",
        "])\n",
        "\n",
        "model.compile(loss=\"mse\", optimizer=\"adam\", metrics=[last_time_step_mse])\n",
        "history = model.fit(X_train, Y_train, epochs=20,\n",
        "                    validation_data=(X_valid, Y_valid))"
      ],
      "execution_count": 46,
      "outputs": [
        {
          "output_type": "stream",
          "text": [
            "Epoch 1/20\n",
            "219/219 [==============================] - 34s 155ms/step - loss: 0.2118 - last_time_step_mse: 0.1201 - val_loss: 0.0218 - val_last_time_step_mse: 0.0253\n",
            "Epoch 2/20\n",
            "219/219 [==============================] - 33s 151ms/step - loss: 0.0116 - last_time_step_mse: 0.0223 - val_loss: 0.0084 - val_last_time_step_mse: 0.0193\n",
            "Epoch 3/20\n",
            "219/219 [==============================] - 33s 151ms/step - loss: 0.0073 - last_time_step_mse: 0.0209 - val_loss: 0.0066 - val_last_time_step_mse: 0.0204\n",
            "Epoch 4/20\n",
            "219/219 [==============================] - 33s 152ms/step - loss: 0.0062 - last_time_step_mse: 0.0213 - val_loss: 0.0059 - val_last_time_step_mse: 0.0212\n",
            "Epoch 5/20\n",
            "219/219 [==============================] - 33s 151ms/step - loss: 0.0057 - last_time_step_mse: 0.0215 - val_loss: 0.0056 - val_last_time_step_mse: 0.0210\n",
            "Epoch 6/20\n",
            "219/219 [==============================] - 33s 150ms/step - loss: 0.0054 - last_time_step_mse: 0.0216 - val_loss: 0.0053 - val_last_time_step_mse: 0.0213\n",
            "Epoch 7/20\n",
            "219/219 [==============================] - 33s 153ms/step - loss: 0.0053 - last_time_step_mse: 0.0216 - val_loss: 0.0052 - val_last_time_step_mse: 0.0207\n",
            "Epoch 8/20\n",
            "219/219 [==============================] - 33s 151ms/step - loss: 0.0052 - last_time_step_mse: 0.0215 - val_loss: 0.0051 - val_last_time_step_mse: 0.0225\n",
            "Epoch 9/20\n",
            "219/219 [==============================] - 33s 150ms/step - loss: 0.0051 - last_time_step_mse: 0.0214 - val_loss: 0.0050 - val_last_time_step_mse: 0.0213\n",
            "Epoch 10/20\n",
            "219/219 [==============================] - 33s 149ms/step - loss: 0.0050 - last_time_step_mse: 0.0213 - val_loss: 0.0050 - val_last_time_step_mse: 0.0212\n",
            "Epoch 11/20\n",
            "219/219 [==============================] - 33s 148ms/step - loss: 0.0050 - last_time_step_mse: 0.0212 - val_loss: 0.0049 - val_last_time_step_mse: 0.0208\n",
            "Epoch 12/20\n",
            "219/219 [==============================] - 33s 152ms/step - loss: 0.0049 - last_time_step_mse: 0.0211 - val_loss: 0.0049 - val_last_time_step_mse: 0.0211\n",
            "Epoch 13/20\n",
            "219/219 [==============================] - 33s 149ms/step - loss: 0.0049 - last_time_step_mse: 0.0210 - val_loss: 0.0049 - val_last_time_step_mse: 0.0203\n",
            "Epoch 14/20\n",
            "219/219 [==============================] - 33s 149ms/step - loss: 0.0049 - last_time_step_mse: 0.0208 - val_loss: 0.0049 - val_last_time_step_mse: 0.0218\n",
            "Epoch 15/20\n",
            "219/219 [==============================] - 32s 148ms/step - loss: 0.0048 - last_time_step_mse: 0.0207 - val_loss: 0.0048 - val_last_time_step_mse: 0.0212\n",
            "Epoch 16/20\n",
            "219/219 [==============================] - 32s 147ms/step - loss: 0.0048 - last_time_step_mse: 0.0206 - val_loss: 0.0048 - val_last_time_step_mse: 0.0202\n",
            "Epoch 17/20\n",
            "219/219 [==============================] - 33s 150ms/step - loss: 0.0048 - last_time_step_mse: 0.0205 - val_loss: 0.0048 - val_last_time_step_mse: 0.0196\n",
            "Epoch 18/20\n",
            "219/219 [==============================] - 33s 149ms/step - loss: 0.0048 - last_time_step_mse: 0.0203 - val_loss: 0.0048 - val_last_time_step_mse: 0.0194\n",
            "Epoch 19/20\n",
            "219/219 [==============================] - 33s 150ms/step - loss: 0.0047 - last_time_step_mse: 0.0201 - val_loss: 0.0047 - val_last_time_step_mse: 0.0192\n",
            "Epoch 20/20\n",
            "219/219 [==============================] - 33s 149ms/step - loss: 0.0047 - last_time_step_mse: 0.0199 - val_loss: 0.0048 - val_last_time_step_mse: 0.0235\n"
          ],
          "name": "stdout"
        }
      ]
    },
    {
      "cell_type": "markdown",
      "metadata": {
        "id": "avN9V5cX4Z01",
        "colab_type": "text"
      },
      "source": [
        "## LSTMs"
      ]
    },
    {
      "cell_type": "code",
      "metadata": {
        "id": "ZbIflYLG1M9T",
        "colab_type": "code",
        "colab": {
          "base_uri": "https://localhost:8080/",
          "height": 727
        },
        "outputId": "2d8593e6-fa1f-4fb7-cb5a-7773d411c0eb"
      },
      "source": [
        "tf.random.set_seed(42)\n",
        "np.random.seed(42)\n",
        "\n",
        "model = keras.models.Sequential([\n",
        "        keras.layers.LSTM(20, return_sequences=True, input_shape = [None,1]),\n",
        "        keras.layers.LSTM(20, return_sequences=True),\n",
        "        keras.layers.TimeDistributed(keras.layers.Dense(10))\n",
        "])\n",
        "\n",
        "model.compile(loss = 'mse', optimizer = 'adam', metrics=[last_time_step_mse])\n",
        "history = model.fit(X_train, Y_train , epochs = 20, validation_data= (X_valid, Y_valid))"
      ],
      "execution_count": 53,
      "outputs": [
        {
          "output_type": "stream",
          "text": [
            "Epoch 1/20\n",
            "219/219 [==============================] - 2s 11ms/step - loss: 0.0765 - last_time_step_mse: 0.0436 - val_loss: 0.0050 - val_last_time_step_mse: 0.0108\n",
            "Epoch 2/20\n",
            "219/219 [==============================] - 2s 8ms/step - loss: 0.0027 - last_time_step_mse: 0.0052 - val_loss: 0.0017 - val_last_time_step_mse: 0.0026\n",
            "Epoch 3/20\n",
            "219/219 [==============================] - 2s 8ms/step - loss: 0.0014 - last_time_step_mse: 0.0019 - val_loss: 0.0012 - val_last_time_step_mse: 0.0013\n",
            "Epoch 4/20\n",
            "219/219 [==============================] - 2s 8ms/step - loss: 0.0011 - last_time_step_mse: 0.0010 - val_loss: 9.5624e-04 - val_last_time_step_mse: 8.2140e-04\n",
            "Epoch 5/20\n",
            "219/219 [==============================] - 2s 8ms/step - loss: 8.9983e-04 - last_time_step_mse: 7.6032e-04 - val_loss: 8.5463e-04 - val_last_time_step_mse: 7.0982e-04\n",
            "Epoch 6/20\n",
            "219/219 [==============================] - 2s 8ms/step - loss: 8.2681e-04 - last_time_step_mse: 6.7407e-04 - val_loss: 8.0151e-04 - val_last_time_step_mse: 6.6447e-04\n",
            "Epoch 7/20\n",
            "219/219 [==============================] - 2s 8ms/step - loss: 7.8536e-04 - last_time_step_mse: 6.2903e-04 - val_loss: 7.6726e-04 - val_last_time_step_mse: 6.0566e-04\n",
            "Epoch 8/20\n",
            "219/219 [==============================] - 2s 8ms/step - loss: 7.5641e-04 - last_time_step_mse: 5.9428e-04 - val_loss: 7.4478e-04 - val_last_time_step_mse: 5.6336e-04\n",
            "Epoch 9/20\n",
            "219/219 [==============================] - 2s 8ms/step - loss: 7.4388e-04 - last_time_step_mse: 5.7393e-04 - val_loss: 7.2954e-04 - val_last_time_step_mse: 5.5775e-04\n",
            "Epoch 10/20\n",
            "219/219 [==============================] - 2s 8ms/step - loss: 7.2356e-04 - last_time_step_mse: 5.4595e-04 - val_loss: 7.1374e-04 - val_last_time_step_mse: 5.3473e-04\n",
            "Epoch 11/20\n",
            "219/219 [==============================] - 2s 9ms/step - loss: 7.1128e-04 - last_time_step_mse: 5.2516e-04 - val_loss: 7.0430e-04 - val_last_time_step_mse: 5.0842e-04\n",
            "Epoch 12/20\n",
            "219/219 [==============================] - 2s 9ms/step - loss: 7.0547e-04 - last_time_step_mse: 5.1348e-04 - val_loss: 7.0080e-04 - val_last_time_step_mse: 4.8917e-04\n",
            "Epoch 13/20\n",
            "219/219 [==============================] - 2s 9ms/step - loss: 6.9595e-04 - last_time_step_mse: 5.0158e-04 - val_loss: 6.8792e-04 - val_last_time_step_mse: 5.0543e-04\n",
            "Epoch 14/20\n",
            "219/219 [==============================] - 2s 8ms/step - loss: 6.8470e-04 - last_time_step_mse: 4.8787e-04 - val_loss: 6.7824e-04 - val_last_time_step_mse: 4.6622e-04\n",
            "Epoch 15/20\n",
            "219/219 [==============================] - 2s 8ms/step - loss: 6.7917e-04 - last_time_step_mse: 4.8198e-04 - val_loss: 6.7293e-04 - val_last_time_step_mse: 4.9198e-04\n",
            "Epoch 16/20\n",
            "219/219 [==============================] - 2s 8ms/step - loss: 6.6746e-04 - last_time_step_mse: 4.7047e-04 - val_loss: 6.5947e-04 - val_last_time_step_mse: 4.7327e-04\n",
            "Epoch 17/20\n",
            "219/219 [==============================] - 2s 8ms/step - loss: 6.6268e-04 - last_time_step_mse: 4.6772e-04 - val_loss: 6.4611e-04 - val_last_time_step_mse: 4.5547e-04\n",
            "Epoch 18/20\n",
            "219/219 [==============================] - 2s 8ms/step - loss: 6.4198e-04 - last_time_step_mse: 4.4575e-04 - val_loss: 6.3162e-04 - val_last_time_step_mse: 4.2689e-04\n",
            "Epoch 19/20\n",
            "219/219 [==============================] - 2s 8ms/step - loss: 6.3751e-04 - last_time_step_mse: 4.4538e-04 - val_loss: 6.1534e-04 - val_last_time_step_mse: 4.1573e-04\n",
            "Epoch 20/20\n",
            "219/219 [==============================] - 2s 8ms/step - loss: 6.0768e-04 - last_time_step_mse: 4.1384e-04 - val_loss: 5.9914e-04 - val_last_time_step_mse: 4.1295e-04\n"
          ],
          "name": "stdout"
        }
      ]
    },
    {
      "cell_type": "code",
      "metadata": {
        "id": "f6RRFs_E54lQ",
        "colab_type": "code",
        "colab": {
          "base_uri": "https://localhost:8080/",
          "height": 52
        },
        "outputId": "3dabd9a4-cfa9-4950-b814-10a936fe309d"
      },
      "source": [
        "model.evaluate(X_valid, Y_valid)"
      ],
      "execution_count": 54,
      "outputs": [
        {
          "output_type": "stream",
          "text": [
            "63/63 [==============================] - 0s 4ms/step - loss: 5.9914e-04 - last_time_step_mse: 4.1295e-04\n"
          ],
          "name": "stdout"
        },
        {
          "output_type": "execute_result",
          "data": {
            "text/plain": [
              "[0.0005991358193568885, 0.0004129481967538595]"
            ]
          },
          "metadata": {
            "tags": []
          },
          "execution_count": 54
        }
      ]
    },
    {
      "cell_type": "code",
      "metadata": {
        "id": "AvbBZToF56K-",
        "colab_type": "code",
        "colab": {
          "base_uri": "https://localhost:8080/",
          "height": 283
        },
        "outputId": "bf1fff6a-3253-4296-85c3-a9bd60ce56a6"
      },
      "source": [
        "plot_learning_curves(history.history[\"loss\"], history.history[\"val_loss\"])\n",
        "plt.show()"
      ],
      "execution_count": 55,
      "outputs": [
        {
          "output_type": "display_data",
          "data": {
            "image/png": "[encoded data removed]",
            "text/plain": [
              "<Figure size 432x288 with 1 Axes>"
            ]
          },
          "metadata": {
            "tags": [],
            "needs_background": "light"
          }
        }
      ]
    },
    {
      "cell_type": "code",
      "metadata": {
        "id": "H2mF4xov6Y_v",
        "colab_type": "code",
        "colab": {
          "base_uri": "https://localhost:8080/",
          "height": 284
        },
        "outputId": "f8e38325-625e-4442-dc18-4653d0a5f93f"
      },
      "source": [
        "np.random.seed(42)\n",
        "\n",
        "series = generate_time_series(1, 50 + 10)\n",
        "X_new, Y_new = series[:, :50, :], series[:, 50:, :]\n",
        "Y_pred = model.predict(X_new)[:, -1][..., np.newaxis]\n",
        "\n",
        "\n",
        "plot_multiple_forecasts(X_new, Y_new, Y_pred)\n",
        "plt.show()"
      ],
      "execution_count": 56,
      "outputs": [
        {
          "output_type": "display_data",
          "data": {
            "image/png": "[encoded data removed]",
            "text/plain": [
              "<Figure size 432x288 with 1 Axes>"
            ]
          },
          "metadata": {
            "tags": [],
            "needs_background": "light"
          }
        }
      ]
    },
    {
      "cell_type": "code",
      "metadata": {
        "id": "RtMaiSPM5oFx",
        "colab_type": "code",
        "colab": {
          "base_uri": "https://localhost:8080/",
          "height": 747
        },
        "outputId": "ad9a6c37-4c16-4504-b442-80d17f4c0a3d"
      },
      "source": [
        "model = keras.models.Sequential([\n",
        "    keras.layers.RNN(keras.layers.LSTMCell(20), return_sequences=True,\n",
        "                     input_shape=[None, 1]),\n",
        "    keras.layers.RNN(keras.layers.LSTMCell(20), return_sequences=True),\n",
        "    keras.layers.TimeDistributed(keras.layers.Dense(10))\n",
        "])\n",
        "\n",
        "model.compile(loss = 'mse', optimizer = 'adam', metrics=[last_time_step_mse])\n",
        "history = model.fit(X_train, Y_train , epochs = 20, validation_data= (X_valid, Y_valid))"
      ],
      "execution_count": 57,
      "outputs": [
        {
          "output_type": "stream",
          "text": [
            "Epoch 1/20\n",
            "219/219 [==============================] - 32s 146ms/step - loss: 0.0735 - last_time_step_mse: 0.0416 - val_loss: 0.0056 - val_last_time_step_mse: 0.0106\n",
            "Epoch 2/20\n",
            "219/219 [==============================] - 32s 145ms/step - loss: 0.0030 - last_time_step_mse: 0.0067 - val_loss: 0.0019 - val_last_time_step_mse: 0.0049\n",
            "Epoch 3/20\n",
            "219/219 [==============================] - 32s 146ms/step - loss: 0.0016 - last_time_step_mse: 0.0037 - val_loss: 0.0013 - val_last_time_step_mse: 0.0024\n",
            "Epoch 4/20\n",
            "219/219 [==============================] - 32s 145ms/step - loss: 0.0012 - last_time_step_mse: 0.0018 - val_loss: 0.0010 - val_last_time_step_mse: 0.0012\n",
            "Epoch 5/20\n",
            "219/219 [==============================] - 31s 144ms/step - loss: 9.7595e-04 - last_time_step_mse: 0.0010 - val_loss: 9.1909e-04 - val_last_time_step_mse: 9.5346e-04\n",
            "Epoch 6/20\n",
            "219/219 [==============================] - 32s 145ms/step - loss: 8.7992e-04 - last_time_step_mse: 7.7266e-04 - val_loss: 8.4555e-04 - val_last_time_step_mse: 6.9269e-04\n",
            "Epoch 7/20\n",
            "219/219 [==============================] - 32s 144ms/step - loss: 8.2966e-04 - last_time_step_mse: 7.0975e-04 - val_loss: 8.1090e-04 - val_last_time_step_mse: 6.1376e-04\n",
            "Epoch 8/20\n",
            "219/219 [==============================] - 32s 145ms/step - loss: 7.9958e-04 - last_time_step_mse: 6.7767e-04 - val_loss: 7.7809e-04 - val_last_time_step_mse: 6.4411e-04\n",
            "Epoch 9/20\n",
            "219/219 [==============================] - 31s 144ms/step - loss: 7.7967e-04 - last_time_step_mse: 6.5240e-04 - val_loss: 7.6690e-04 - val_last_time_step_mse: 6.5691e-04\n",
            "Epoch 10/20\n",
            "219/219 [==============================] - 32s 145ms/step - loss: 7.6273e-04 - last_time_step_mse: 6.1320e-04 - val_loss: 7.5593e-04 - val_last_time_step_mse: 6.3093e-04\n",
            "Epoch 11/20\n",
            "219/219 [==============================] - 31s 143ms/step - loss: 7.4857e-04 - last_time_step_mse: 5.7863e-04 - val_loss: 7.4090e-04 - val_last_time_step_mse: 5.8433e-04\n",
            "Epoch 12/20\n",
            "219/219 [==============================] - 32s 145ms/step - loss: 7.4159e-04 - last_time_step_mse: 5.5853e-04 - val_loss: 7.3396e-04 - val_last_time_step_mse: 5.2878e-04\n",
            "Epoch 13/20\n",
            "219/219 [==============================] - 31s 143ms/step - loss: 7.3263e-04 - last_time_step_mse: 5.2895e-04 - val_loss: 7.2464e-04 - val_last_time_step_mse: 4.8941e-04\n",
            "Epoch 14/20\n",
            "219/219 [==============================] - 32s 146ms/step - loss: 7.2752e-04 - last_time_step_mse: 5.0883e-04 - val_loss: 7.1649e-04 - val_last_time_step_mse: 4.8743e-04\n",
            "Epoch 15/20\n",
            "219/219 [==============================] - 32s 145ms/step - loss: 7.1854e-04 - last_time_step_mse: 4.7882e-04 - val_loss: 7.1993e-04 - val_last_time_step_mse: 5.4008e-04\n",
            "Epoch 16/20\n",
            "219/219 [==============================] - 32s 145ms/step - loss: 7.2052e-04 - last_time_step_mse: 4.7756e-04 - val_loss: 7.0485e-04 - val_last_time_step_mse: 4.5798e-04\n",
            "Epoch 17/20\n",
            "219/219 [==============================] - 32s 144ms/step - loss: 7.0754e-04 - last_time_step_mse: 4.4507e-04 - val_loss: 7.1187e-04 - val_last_time_step_mse: 4.2160e-04\n",
            "Epoch 18/20\n",
            "219/219 [==============================] - 31s 142ms/step - loss: 7.0122e-04 - last_time_step_mse: 4.2590e-04 - val_loss: 7.2488e-04 - val_last_time_step_mse: 4.1569e-04\n",
            "Epoch 19/20\n",
            "219/219 [==============================] - 32s 145ms/step - loss: 7.0210e-04 - last_time_step_mse: 4.2578e-04 - val_loss: 6.9904e-04 - val_last_time_step_mse: 3.9761e-04\n",
            "Epoch 20/20\n",
            "219/219 [==============================] - 32s 145ms/step - loss: 6.9452e-04 - last_time_step_mse: 4.1023e-04 - val_loss: 6.8431e-04 - val_last_time_step_mse: 3.9348e-04\n"
          ],
          "name": "stdout"
        }
      ]
    },
    {
      "cell_type": "code",
      "metadata": {
        "id": "jxRgtlx05sYi",
        "colab_type": "code",
        "colab": {}
      },
      "source": [
        ""
      ],
      "execution_count": null,
      "outputs": []
    }
  ]
}