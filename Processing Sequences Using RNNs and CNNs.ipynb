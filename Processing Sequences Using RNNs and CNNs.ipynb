{
  "nbformat": 4,
  "nbformat_minor": 0,
  "metadata": {
    "kernelspec": {
      "language": "python",
      "display_name": "Python 3",
      "name": "python3"
    },
    "language_info": {
      "pygments_lexer": "ipython3",
      "nbconvert_exporter": "python",
      "version": "3.6.4",
      "file_extension": ".py",
      "codemirror_mode": {
        "name": "ipython",
        "version": 3
      },
      "name": "python",
      "mimetype": "text/x-python"
    },
    "colab": {
      "name": "Processing Sequences Using RNNs and CNNs.ipynb",
      "provenance": [],
      "include_colab_link": true
    },
    "accelerator": "GPU"
  },
  "cells": [
    {
      "cell_type": "markdown",
      "metadata": {
        "id": "view-in-github",
        "colab_type": "text"
      },
      "source": [
        "<a href=\"https://colab.research.google.com/github/Shrey-Viradiya/HandsOnMachineLearning/blob/master/Processing%20Sequences%20Using%20RNNs%20and%20CNNs.ipynb\" target=\"_parent\"><img src=\"https://colab.research.google.com/assets/colab-badge.svg\" alt=\"Open In Colab\"/></a>"
      ]
    },
    {
      "cell_type": "code",
      "metadata": {
        "id": "7zt2fb59nSJP",
        "colab_type": "code",
        "colab": {
          "base_uri": "https://localhost:8080/",
          "height": 372
        },
        "outputId": "605ce566-398b-4720-c507-4d89a9aee690"
      },
      "source": [
        "!nvidia-smi"
      ],
      "execution_count": 1,
      "outputs": [
        {
          "output_type": "stream",
          "text": [
            "Mon Jun 22 17:40:06 2020       \n",
            "+-----------------------------------------------------------------------------+\n",
            "| NVIDIA-SMI 450.36.06    Driver Version: 418.67       CUDA Version: 10.1     |\n",
            "|-------------------------------+----------------------+----------------------+\n",
            "| GPU  Name        Persistence-M| Bus-Id        Disp.A | Volatile Uncorr. ECC |\n",
            "| Fan  Temp  Perf  Pwr:Usage/Cap|         Memory-Usage | GPU-Util  Compute M. |\n",
            "|                               |                      |               MIG M. |\n",
            "|===============================+======================+======================|\n",
            "|   0  Tesla T4            Off  | 00000000:00:04.0 Off |                    0 |\n",
            "| N/A   74C    P8    12W /  70W |      0MiB / 15079MiB |      0%      Default |\n",
            "|                               |                      |                 ERR! |\n",
            "+-------------------------------+----------------------+----------------------+\n",
            "                                                                               \n",
            "+-----------------------------------------------------------------------------+\n",
            "| Processes:                                                                  |\n",
            "|  GPU   GI   CI        PID   Type   Process name                  GPU Memory |\n",
            "|        ID   ID                                                   Usage      |\n",
            "|=============================================================================|\n",
            "|  No running processes found                                                 |\n",
            "+-----------------------------------------------------------------------------+\n"
          ],
          "name": "stdout"
        }
      ]
    },
    {
      "cell_type": "markdown",
      "metadata": {
        "id": "fV0ZwmQjnOzp",
        "colab_type": "text"
      },
      "source": [
        "# Processing Sequences Using RNNs and CNNs"
      ]
    },
    {
      "cell_type": "code",
      "metadata": {
        "_uuid": "8f2839f25d086af736a60e9eeb907d3b93b6e0e5",
        "_cell_guid": "b1076dfc-b9ad-4769-8c92-a6c4dae69d19",
        "trusted": true,
        "id": "X9U9ye8gnOzr",
        "colab_type": "code",
        "colab": {
          "base_uri": "https://localhost:8080/",
          "height": 72
        },
        "outputId": "b71ce64d-1a92-4dd9-94a1-db18165f51d3"
      },
      "source": [
        "# This Python 3 environment comes with many helpful analytics libraries installed\n",
        "# It is defined by the kaggle/python Docker image: https://github.com/kaggle/docker-python\n",
        "# For example, here's several helpful packages to load\n",
        "\n",
        "import tensorflow as tf\n",
        "import tensorflow.keras as keras\n",
        "import matplotlib.pyplot as plt\n",
        "import numpy as np\n",
        "import pandas as pd\n",
        "import seaborn as sns\n",
        "import os\n",
        "import matplotlib as mpl\n",
        "\n",
        "# Input data files are available in the read-only \"../input/\" directory\n",
        "# For example, running this (by clicking run or pressing Shift+Enter) will list all files under the input directory\n",
        "\n",
        "import os\n",
        "for dirname, _, filenames in os.walk('/kaggle/input'):\n",
        "    for filename in filenames:\n",
        "        print(os.path.join(dirname, filename))\n",
        "\n",
        "# You can write up to 5GB to the current directory (/kaggle/working/) that gets preserved as output when you create a version using \"Save & Run All\" \n",
        "# You can also write temporary files to /kaggle/temp/, but they won't be saved outside of the current session"
      ],
      "execution_count": 2,
      "outputs": [
        {
          "output_type": "stream",
          "text": [
            "/usr/local/lib/python3.6/dist-packages/statsmodels/tools/_testing.py:19: FutureWarning: pandas.util.testing is deprecated. Use the functions in the public API at pandas.testing instead.\n",
            "  import pandas.util.testing as tm\n"
          ],
          "name": "stderr"
        }
      ]
    },
    {
      "cell_type": "markdown",
      "metadata": {
        "id": "_qlRnPMVnOzu",
        "colab_type": "text"
      },
      "source": [
        "Suppose you are studying the number of active users per hour on your website, or the daily temperature in your city, or your company’s financial health, measured quarterly using multiple metrics. In all these cases, the data will be a sequence of one or more values per time step. This is called a time series. In the first two examples there is a single value per time step, so these are univariate time series, while in the financial example there are multiple values per time step (e.g., the company’s revenue, debt, and so on), so it is a multivariate time series. A typical task is to predict future values, which is called forecasting. Another common task is to fill in the blanks: to predict (or rather “postdict”) missing values from the past. This is called imputation."
      ]
    },
    {
      "cell_type": "markdown",
      "metadata": {
        "id": "izcOLvLInOzv",
        "colab_type": "text"
      },
      "source": [
        "## Generating Data"
      ]
    },
    {
      "cell_type": "code",
      "metadata": {
        "trusted": true,
        "id": "Y_6n4A8jnOzw",
        "colab_type": "code",
        "colab": {}
      },
      "source": [
        "def generate_time_series(batch_size, n_steps):\n",
        "    freq1, freq2, offsets1, offsets2 = np.random.rand(4, batch_size, 1)\n",
        "    time = np.linspace(0, 1, n_steps)\n",
        "    series = 0.5 * np.sin((time - offsets1) * (freq1 * 10 + 10))  #   wave 1\n",
        "    series += 0.2 * np.sin((time - offsets2) * (freq2 * 20 + 20)) # + wave 2\n",
        "    series += 0.1 * (np.random.rand(batch_size, n_steps) - 0.5)   # + noise\n",
        "    return series[..., np.newaxis].astype(np.float32)\n",
        "#     return series"
      ],
      "execution_count": 3,
      "outputs": []
    },
    {
      "cell_type": "code",
      "metadata": {
        "trusted": true,
        "id": "YgvqMObHnOzy",
        "colab_type": "code",
        "colab": {}
      },
      "source": [
        "n_steps = 50\n",
        "series = generate_time_series(10000, n_steps + 1)\n",
        "X_train, y_train = series[:7000, :n_steps], series[:7000, -1]\n",
        "X_valid, y_valid = series[7000:9000, :n_steps], series[7000:9000, -1]\n",
        "X_test, y_test = series[9000:, :n_steps], series[9000:, -1]"
      ],
      "execution_count": 4,
      "outputs": []
    },
    {
      "cell_type": "code",
      "metadata": {
        "trusted": true,
        "id": "2szjmPZCnOz1",
        "colab_type": "code",
        "colab": {}
      },
      "source": [
        "def plot_learning_curves(loss, val_loss):\n",
        "    plt.plot(np.arange(len(loss)) + 0.5, loss, \"b.-\", label=\"Training loss\")\n",
        "    plt.plot(np.arange(len(val_loss)) + 1, val_loss, \"r.-\", label=\"Validation loss\")\n",
        "    plt.gca().xaxis.set_major_locator(mpl.ticker.MaxNLocator(integer=True))\n",
        "    plt.legend()\n",
        "    plt.xlabel(\"Epochs\")\n",
        "    plt.ylabel(\"Loss\")\n",
        "    plt.grid(True)\n"
      ],
      "execution_count": 5,
      "outputs": []
    },
    {
      "cell_type": "code",
      "metadata": {
        "trusted": true,
        "id": "cxDr2SNenOz4",
        "colab_type": "code",
        "colab": {
          "base_uri": "https://localhost:8080/",
          "height": 296
        },
        "outputId": "9319cd5e-e63b-4533-ed57-59e5d563365c"
      },
      "source": [
        "def plot_series(series, y=None, y_pred=None, x_label=\"$t$\", y_label=\"$x(t)$\"):\n",
        "    plt.plot(series, \".-\")\n",
        "    if y is not None:\n",
        "        plt.plot(n_steps, y, \"bx\", markersize=10)\n",
        "    if y_pred is not None:\n",
        "        plt.plot(n_steps, y_pred, \"ro\")\n",
        "    plt.grid(True)\n",
        "    if x_label:\n",
        "        plt.xlabel(x_label)\n",
        "    if y_label:\n",
        "        plt.ylabel(y_label, rotation=0)\n",
        "    plt.hlines(0, 0, 100, linewidth=1)\n",
        "    plt.axis([0, n_steps + 1, -1, 1])\n",
        "\n",
        "fig, axes = plt.subplots(nrows=1, ncols=3, sharey=True, figsize=(12, 4))\n",
        "for col in range(3):\n",
        "    plt.sca(axes[col])\n",
        "    plot_series(X_valid[col, :, 0], y_valid[col, 0],\n",
        "                y_label=(\"$x(t)$\" if col==0 else None))\n",
        "plt.tight_layout()\n",
        "plt.show()"
      ],
      "execution_count": 6,
      "outputs": [
        {
          "output_type": "display_data",
          "data": {
            "image/png": "[encoded data removed]",
            "text/plain": [
              "<Figure size 864x288 with 3 Axes>"
            ]
          },
          "metadata": {
            "tags": [],
            "needs_background": "light"
          }
        }
      ]
    },
    {
      "cell_type": "markdown",
      "metadata": {
        "id": "ETecABpjnOz7",
        "colab_type": "text"
      },
      "source": [
        "## Computing Some Baselines"
      ]
    },
    {
      "cell_type": "markdown",
      "metadata": {
        "id": "oEq1FwT4nOz8",
        "colab_type": "text"
      },
      "source": [
        "Before we start using RNNs, it is often a good idea to have a few baseline metrics, or else we may end up thinking our model works great when in fact it is doing worse than basic models. For example, the simplest approach is to predict the last value in each series. This is called naive forecasting, and it is sometimes surprisingly difficult to outperform."
      ]
    },
    {
      "cell_type": "markdown",
      "metadata": {
        "id": "GgLabpnonOz8",
        "colab_type": "text"
      },
      "source": [
        "\n",
        "Naive predictions (just predict the last observed value):"
      ]
    },
    {
      "cell_type": "code",
      "metadata": {
        "trusted": true,
        "id": "jnppPD_lnOz9",
        "colab_type": "code",
        "colab": {
          "base_uri": "https://localhost:8080/",
          "height": 34
        },
        "outputId": "99aed43c-fc0e-4253-8d3e-d357514e2de5"
      },
      "source": [
        "y_pred = X_valid[:, -1]\n",
        "np.mean(keras.losses.mean_squared_error(y_valid, y_pred))"
      ],
      "execution_count": 7,
      "outputs": [
        {
          "output_type": "execute_result",
          "data": {
            "text/plain": [
              "0.020416105"
            ]
          },
          "metadata": {
            "tags": []
          },
          "execution_count": 7
        }
      ]
    },
    {
      "cell_type": "markdown",
      "metadata": {
        "id": "nx0lhpyonO0B",
        "colab_type": "text"
      },
      "source": [
        "Another simple approach is to use a fully connected network. Since it expects a flat list of features for each input, we need to add a Flatten layer. Let’s just use a simple Linear Regression model so that each prediction will be a linear combination of the values in the time series:"
      ]
    },
    {
      "cell_type": "code",
      "metadata": {
        "id": "8pDGWar6Gr4w",
        "colab_type": "code",
        "colab": {}
      },
      "source": [
        "keras.backend.clear_session()"
      ],
      "execution_count": 8,
      "outputs": []
    },
    {
      "cell_type": "code",
      "metadata": {
        "trusted": true,
        "id": "5ZBUo4vqnO0C",
        "colab_type": "code",
        "colab": {}
      },
      "source": [
        "model = keras.models.Sequential([\n",
        "    keras.layers.Flatten(input_shape = [50,1]),\n",
        "    keras.layers.Dense(1)\n",
        "])"
      ],
      "execution_count": 9,
      "outputs": []
    },
    {
      "cell_type": "code",
      "metadata": {
        "trusted": true,
        "id": "5pmF3z10nO0F",
        "colab_type": "code",
        "colab": {
          "base_uri": "https://localhost:8080/",
          "height": 727
        },
        "outputId": "bbd58090-9d0f-4794-d08f-e3c9169346c6"
      },
      "source": [
        "model.compile(loss=\"mse\", optimizer=\"adam\")\n",
        "history = model.fit(X_train, y_train, epochs=20, validation_data=(X_valid, y_valid))"
      ],
      "execution_count": 10,
      "outputs": [
        {
          "output_type": "stream",
          "text": [
            "Epoch 1/20\n",
            "219/219 [==============================] - 1s 3ms/step - loss: 0.0695 - val_loss: 0.0308\n",
            "Epoch 2/20\n",
            "219/219 [==============================] - 0s 2ms/step - loss: 0.0211 - val_loss: 0.0145\n",
            "Epoch 3/20\n",
            "219/219 [==============================] - 0s 2ms/step - loss: 0.0111 - val_loss: 0.0089\n",
            "Epoch 4/20\n",
            "219/219 [==============================] - 0s 2ms/step - loss: 0.0076 - val_loss: 0.0069\n",
            "Epoch 5/20\n",
            "219/219 [==============================] - 0s 2ms/step - loss: 0.0063 - val_loss: 0.0060\n",
            "Epoch 6/20\n",
            "219/219 [==============================] - 0s 2ms/step - loss: 0.0056 - val_loss: 0.0054\n",
            "Epoch 7/20\n",
            "219/219 [==============================] - 0s 2ms/step - loss: 0.0052 - val_loss: 0.0050\n",
            "Epoch 8/20\n",
            "219/219 [==============================] - 0s 2ms/step - loss: 0.0048 - val_loss: 0.0048\n",
            "Epoch 9/20\n",
            "219/219 [==============================] - 0s 2ms/step - loss: 0.0045 - val_loss: 0.0045\n",
            "Epoch 10/20\n",
            "219/219 [==============================] - 0s 2ms/step - loss: 0.0043 - val_loss: 0.0042\n",
            "Epoch 11/20\n",
            "219/219 [==============================] - 0s 2ms/step - loss: 0.0042 - val_loss: 0.0041\n",
            "Epoch 12/20\n",
            "219/219 [==============================] - 0s 2ms/step - loss: 0.0040 - val_loss: 0.0042\n",
            "Epoch 13/20\n",
            "219/219 [==============================] - 0s 2ms/step - loss: 0.0039 - val_loss: 0.0040\n",
            "Epoch 14/20\n",
            "219/219 [==============================] - 0s 2ms/step - loss: 0.0039 - val_loss: 0.0039\n",
            "Epoch 15/20\n",
            "219/219 [==============================] - 0s 2ms/step - loss: 0.0038 - val_loss: 0.0039\n",
            "Epoch 16/20\n",
            "219/219 [==============================] - 0s 2ms/step - loss: 0.0037 - val_loss: 0.0038\n",
            "Epoch 17/20\n",
            "219/219 [==============================] - 0s 2ms/step - loss: 0.0037 - val_loss: 0.0037\n",
            "Epoch 18/20\n",
            "219/219 [==============================] - 0s 2ms/step - loss: 0.0036 - val_loss: 0.0036\n",
            "Epoch 19/20\n",
            "219/219 [==============================] - 0s 2ms/step - loss: 0.0036 - val_loss: 0.0036\n",
            "Epoch 20/20\n",
            "219/219 [==============================] - 0s 2ms/step - loss: 0.0035 - val_loss: 0.0035\n"
          ],
          "name": "stdout"
        }
      ]
    },
    {
      "cell_type": "code",
      "metadata": {
        "trusted": true,
        "id": "_kg5S1a_nO0H",
        "colab_type": "code",
        "colab": {
          "base_uri": "https://localhost:8080/",
          "height": 52
        },
        "outputId": "91ab7498-6423-4c38-c6b4-bbb1dfafc7b7"
      },
      "source": [
        "model.evaluate(X_test, y_test)"
      ],
      "execution_count": 11,
      "outputs": [
        {
          "output_type": "stream",
          "text": [
            "32/32 [==============================] - 0s 1ms/step - loss: 0.0035\n"
          ],
          "name": "stdout"
        },
        {
          "output_type": "execute_result",
          "data": {
            "text/plain": [
              "0.003532787086442113"
            ]
          },
          "metadata": {
            "tags": []
          },
          "execution_count": 11
        }
      ]
    },
    {
      "cell_type": "code",
      "metadata": {
        "trusted": true,
        "id": "3VlNgMuYnO0K",
        "colab_type": "code",
        "colab": {
          "base_uri": "https://localhost:8080/",
          "height": 278
        },
        "outputId": "7c9aedde-81d1-4ce2-b217-057d57f44a24"
      },
      "source": [
        "plot_learning_curves(history.history[\"loss\"], history.history[\"val_loss\"])\n",
        "plt.show()"
      ],
      "execution_count": 12,
      "outputs": [
        {
          "output_type": "display_data",
          "data": {
            "image/png": "[encoded data removed]",
            "text/plain": [
              "<Figure size 432x288 with 1 Axes>"
            ]
          },
          "metadata": {
            "tags": [],
            "needs_background": "light"
          }
        }
      ]
    },
    {
      "cell_type": "markdown",
      "metadata": {
        "id": "89X6uwMqnO0M",
        "colab_type": "text"
      },
      "source": [
        "## Implementing a Simple RNN"
      ]
    },
    {
      "cell_type": "code",
      "metadata": {
        "id": "GxTIjlEdGtDp",
        "colab_type": "code",
        "colab": {}
      },
      "source": [
        "keras.backend.clear_session()"
      ],
      "execution_count": 13,
      "outputs": []
    },
    {
      "cell_type": "code",
      "metadata": {
        "trusted": true,
        "id": "8napkRmTnO0N",
        "colab_type": "code",
        "colab": {
          "base_uri": "https://localhost:8080/",
          "height": 727
        },
        "outputId": "9bb2f671-2560-4ef6-b7f1-689b5f992b8a"
      },
      "source": [
        "model = keras.models.Sequential([\n",
        "  keras.layers.SimpleRNN(1, input_shape=[None, 1])\n",
        "])\n",
        "\n",
        "model.compile(loss=\"mse\", optimizer=\"adam\")\n",
        "history = model.fit(X_train, y_train, epochs=20, validation_data=(X_valid, y_valid))"
      ],
      "execution_count": 14,
      "outputs": [
        {
          "output_type": "stream",
          "text": [
            "Epoch 1/20\n",
            "219/219 [==============================] - 7s 33ms/step - loss: 0.6748 - val_loss: 0.5277\n",
            "Epoch 2/20\n",
            "219/219 [==============================] - 7s 31ms/step - loss: 0.3907 - val_loss: 0.3146\n",
            "Epoch 3/20\n",
            "219/219 [==============================] - 7s 31ms/step - loss: 0.2993 - val_loss: 0.2650\n",
            "Epoch 4/20\n",
            "219/219 [==============================] - 7s 32ms/step - loss: 0.2512 - val_loss: 0.2221\n",
            "Epoch 5/20\n",
            "219/219 [==============================] - 7s 32ms/step - loss: 0.2090 - val_loss: 0.1876\n",
            "Epoch 6/20\n",
            "219/219 [==============================] - 7s 31ms/step - loss: 0.1717 - val_loss: 0.1566\n",
            "Epoch 7/20\n",
            "219/219 [==============================] - 7s 31ms/step - loss: 0.1464 - val_loss: 0.1438\n",
            "Epoch 8/20\n",
            "219/219 [==============================] - 7s 31ms/step - loss: 0.1392 - val_loss: 0.1417\n",
            "Epoch 9/20\n",
            "219/219 [==============================] - 7s 31ms/step - loss: 0.1395 - val_loss: 0.1467\n",
            "Epoch 10/20\n",
            "219/219 [==============================] - 7s 32ms/step - loss: 0.1381 - val_loss: 0.1428\n",
            "Epoch 11/20\n",
            "219/219 [==============================] - 7s 32ms/step - loss: 0.1388 - val_loss: 0.1415\n",
            "Epoch 12/20\n",
            "219/219 [==============================] - 7s 31ms/step - loss: 0.1386 - val_loss: 0.1422\n",
            "Epoch 13/20\n",
            "219/219 [==============================] - 7s 32ms/step - loss: 0.1382 - val_loss: 0.1485\n",
            "Epoch 14/20\n",
            "219/219 [==============================] - 7s 31ms/step - loss: 0.1387 - val_loss: 0.1440\n",
            "Epoch 15/20\n",
            "219/219 [==============================] - 7s 32ms/step - loss: 0.1383 - val_loss: 0.1410\n",
            "Epoch 16/20\n",
            "219/219 [==============================] - 7s 32ms/step - loss: 0.1387 - val_loss: 0.1411\n",
            "Epoch 17/20\n",
            "219/219 [==============================] - 7s 32ms/step - loss: 0.1383 - val_loss: 0.1412\n",
            "Epoch 18/20\n",
            "219/219 [==============================] - 7s 31ms/step - loss: 0.1380 - val_loss: 0.1413\n",
            "Epoch 19/20\n",
            "219/219 [==============================] - 7s 31ms/step - loss: 0.1382 - val_loss: 0.1433\n",
            "Epoch 20/20\n",
            "219/219 [==============================] - 7s 31ms/step - loss: 0.1384 - val_loss: 0.1415\n"
          ],
          "name": "stdout"
        }
      ]
    },
    {
      "cell_type": "code",
      "metadata": {
        "trusted": true,
        "id": "TzUU6Wk7nO0T",
        "colab_type": "code",
        "colab": {
          "base_uri": "https://localhost:8080/",
          "height": 52
        },
        "outputId": "983ecd66-2ad4-4b08-97f2-4416710da6ac"
      },
      "source": [
        "model.evaluate(X_test, y_test)"
      ],
      "execution_count": 15,
      "outputs": [
        {
          "output_type": "stream",
          "text": [
            "32/32 [==============================] - 0s 4ms/step - loss: 0.1372\n"
          ],
          "name": "stdout"
        },
        {
          "output_type": "execute_result",
          "data": {
            "text/plain": [
              "0.13721401989459991"
            ]
          },
          "metadata": {
            "tags": []
          },
          "execution_count": 15
        }
      ]
    },
    {
      "cell_type": "code",
      "metadata": {
        "trusted": true,
        "id": "DyoEqn5fnO0W",
        "colab_type": "code",
        "colab": {
          "base_uri": "https://localhost:8080/",
          "height": 283
        },
        "outputId": "0522bc2b-c4e1-427a-cb5c-e3e7fe61f054"
      },
      "source": [
        "plot_learning_curves(history.history[\"loss\"], history.history[\"val_loss\"])\n",
        "plt.show()"
      ],
      "execution_count": 16,
      "outputs": [
        {
          "output_type": "display_data",
          "data": {
            "image/png": "[encoded data removed]",
            "text/plain": [
              "<Figure size 432x288 with 1 Axes>"
            ]
          },
          "metadata": {
            "tags": [],
            "needs_background": "light"
          }
        }
      ]
    },
    {
      "cell_type": "code",
      "metadata": {
        "id": "5TY7QYFsGuE_",
        "colab_type": "code",
        "colab": {}
      },
      "source": [
        "keras.backend.clear_session()"
      ],
      "execution_count": 17,
      "outputs": []
    },
    {
      "cell_type": "code",
      "metadata": {
        "trusted": true,
        "id": "fSy7STAhnO0Y",
        "colab_type": "code",
        "colab": {}
      },
      "source": [
        "model = keras.models.Sequential([\n",
        "    keras.layers.SimpleRNN(20, return_sequences=True, input_shape=[None, 1]),\n",
        "    keras.layers.SimpleRNN(20, return_sequences=True),\n",
        "    keras.layers.SimpleRNN(1)\n",
        "])"
      ],
      "execution_count": 18,
      "outputs": []
    },
    {
      "cell_type": "code",
      "metadata": {
        "trusted": true,
        "id": "E8ZhZmrVnO0b",
        "colab_type": "code",
        "colab": {
          "base_uri": "https://localhost:8080/",
          "height": 727
        },
        "outputId": "a7fa2da2-1a47-4e83-e91f-84934f0b2daf"
      },
      "source": [
        "model.compile(loss=\"mse\", optimizer=\"adam\")\n",
        "history = model.fit(X_train, y_train, epochs=20, validation_data=(X_valid, y_valid))"
      ],
      "execution_count": 19,
      "outputs": [
        {
          "output_type": "stream",
          "text": [
            "Epoch 1/20\n",
            "219/219 [==============================] - 21s 95ms/step - loss: 0.0343 - val_loss: 0.0057\n",
            "Epoch 2/20\n",
            "219/219 [==============================] - 20s 93ms/step - loss: 0.0043 - val_loss: 0.0039\n",
            "Epoch 3/20\n",
            "219/219 [==============================] - 20s 92ms/step - loss: 0.0035 - val_loss: 0.0034\n",
            "Epoch 4/20\n",
            "219/219 [==============================] - 20s 90ms/step - loss: 0.0033 - val_loss: 0.0034\n",
            "Epoch 5/20\n",
            "219/219 [==============================] - 20s 91ms/step - loss: 0.0032 - val_loss: 0.0033\n",
            "Epoch 6/20\n",
            "219/219 [==============================] - 20s 89ms/step - loss: 0.0031 - val_loss: 0.0033\n",
            "Epoch 7/20\n",
            "219/219 [==============================] - 20s 91ms/step - loss: 0.0031 - val_loss: 0.0032\n",
            "Epoch 8/20\n",
            "219/219 [==============================] - 19s 89ms/step - loss: 0.0031 - val_loss: 0.0033\n",
            "Epoch 9/20\n",
            "219/219 [==============================] - 20s 90ms/step - loss: 0.0030 - val_loss: 0.0031\n",
            "Epoch 10/20\n",
            "219/219 [==============================] - 20s 91ms/step - loss: 0.0030 - val_loss: 0.0032\n",
            "Epoch 11/20\n",
            "219/219 [==============================] - 20s 89ms/step - loss: 0.0030 - val_loss: 0.0031\n",
            "Epoch 12/20\n",
            "219/219 [==============================] - 19s 89ms/step - loss: 0.0030 - val_loss: 0.0030\n",
            "Epoch 13/20\n",
            "219/219 [==============================] - 20s 89ms/step - loss: 0.0029 - val_loss: 0.0031\n",
            "Epoch 14/20\n",
            "219/219 [==============================] - 19s 88ms/step - loss: 0.0030 - val_loss: 0.0030\n",
            "Epoch 15/20\n",
            "219/219 [==============================] - 19s 88ms/step - loss: 0.0030 - val_loss: 0.0033\n",
            "Epoch 16/20\n",
            "219/219 [==============================] - 19s 88ms/step - loss: 0.0029 - val_loss: 0.0031\n",
            "Epoch 17/20\n",
            "219/219 [==============================] - 20s 91ms/step - loss: 0.0029 - val_loss: 0.0031\n",
            "Epoch 18/20\n",
            "219/219 [==============================] - 20s 91ms/step - loss: 0.0029 - val_loss: 0.0030\n",
            "Epoch 19/20\n",
            "219/219 [==============================] - 19s 87ms/step - loss: 0.0029 - val_loss: 0.0032\n",
            "Epoch 20/20\n",
            "219/219 [==============================] - 19s 88ms/step - loss: 0.0029 - val_loss: 0.0032\n"
          ],
          "name": "stdout"
        }
      ]
    },
    {
      "cell_type": "code",
      "metadata": {
        "trusted": true,
        "id": "TyGowSwLnO0i",
        "colab_type": "code",
        "colab": {
          "base_uri": "https://localhost:8080/",
          "height": 52
        },
        "outputId": "e23c1c58-4aeb-4856-eea4-2062922d6cad"
      },
      "source": [
        "model.evaluate(X_test, y_test)"
      ],
      "execution_count": 20,
      "outputs": [
        {
          "output_type": "stream",
          "text": [
            "32/32 [==============================] - 0s 10ms/step - loss: 0.0032\n"
          ],
          "name": "stdout"
        },
        {
          "output_type": "execute_result",
          "data": {
            "text/plain": [
              "0.003191437106579542"
            ]
          },
          "metadata": {
            "tags": []
          },
          "execution_count": 20
        }
      ]
    },
    {
      "cell_type": "code",
      "metadata": {
        "trusted": true,
        "id": "EGLWRESZnO0n",
        "colab_type": "code",
        "colab": {
          "base_uri": "https://localhost:8080/",
          "height": 278
        },
        "outputId": "a339ba4d-03a4-4844-ec42-8223273c9c4b"
      },
      "source": [
        "plot_learning_curves(history.history[\"loss\"], history.history[\"val_loss\"])\n",
        "plt.show()"
      ],
      "execution_count": 21,
      "outputs": [
        {
          "output_type": "display_data",
          "data": {
            "image/png": "[encoded data removed]",
            "text/plain": [
              "<Figure size 432x288 with 1 Axes>"
            ]
          },
          "metadata": {
            "tags": [],
            "needs_background": "light"
          }
        }
      ]
    },
    {
      "cell_type": "code",
      "metadata": {
        "id": "PRaKnlJMGvD1",
        "colab_type": "code",
        "colab": {}
      },
      "source": [
        "keras.backend.clear_session()"
      ],
      "execution_count": 22,
      "outputs": []
    },
    {
      "cell_type": "code",
      "metadata": {
        "trusted": true,
        "id": "9XOzRe02nO0q",
        "colab_type": "code",
        "colab": {}
      },
      "source": [
        "model = keras.models.Sequential([\n",
        "    keras.layers.SimpleRNN(20, return_sequences = True, input_shape=[None, 1]),\n",
        "    keras.layers.SimpleRNN(20),\n",
        "    keras.layers.Dense(1)\n",
        "])"
      ],
      "execution_count": 23,
      "outputs": []
    },
    {
      "cell_type": "code",
      "metadata": {
        "trusted": true,
        "id": "A9niQOIfnO0s",
        "colab_type": "code",
        "colab": {
          "base_uri": "https://localhost:8080/",
          "height": 727
        },
        "outputId": "b13007d8-3dcd-4184-af87-45b18a15ef29"
      },
      "source": [
        "model.compile(loss=\"mse\", optimizer=\"adam\")\n",
        "history = model.fit(X_train, y_train, epochs=20, validation_data=(X_valid, y_valid))"
      ],
      "execution_count": 24,
      "outputs": [
        {
          "output_type": "stream",
          "text": [
            "Epoch 1/20\n",
            "219/219 [==============================] - 13s 61ms/step - loss: 0.0309 - val_loss: 0.0082\n",
            "Epoch 2/20\n",
            "219/219 [==============================] - 13s 60ms/step - loss: 0.0060 - val_loss: 0.0048\n",
            "Epoch 3/20\n",
            "219/219 [==============================] - 13s 61ms/step - loss: 0.0041 - val_loss: 0.0041\n",
            "Epoch 4/20\n",
            "219/219 [==============================] - 14s 62ms/step - loss: 0.0036 - val_loss: 0.0033\n",
            "Epoch 5/20\n",
            "219/219 [==============================] - 13s 61ms/step - loss: 0.0031 - val_loss: 0.0030\n",
            "Epoch 6/20\n",
            "219/219 [==============================] - 13s 61ms/step - loss: 0.0030 - val_loss: 0.0029\n",
            "Epoch 7/20\n",
            "219/219 [==============================] - 13s 61ms/step - loss: 0.0029 - val_loss: 0.0030\n",
            "Epoch 8/20\n",
            "219/219 [==============================] - 13s 61ms/step - loss: 0.0029 - val_loss: 0.0029\n",
            "Epoch 9/20\n",
            "219/219 [==============================] - 13s 60ms/step - loss: 0.0028 - val_loss: 0.0028\n",
            "Epoch 10/20\n",
            "219/219 [==============================] - 13s 60ms/step - loss: 0.0028 - val_loss: 0.0028\n",
            "Epoch 11/20\n",
            "219/219 [==============================] - 13s 61ms/step - loss: 0.0028 - val_loss: 0.0030\n",
            "Epoch 12/20\n",
            "219/219 [==============================] - 13s 60ms/step - loss: 0.0029 - val_loss: 0.0028\n",
            "Epoch 13/20\n",
            "219/219 [==============================] - 13s 60ms/step - loss: 0.0028 - val_loss: 0.0030\n",
            "Epoch 14/20\n",
            "219/219 [==============================] - 13s 61ms/step - loss: 0.0028 - val_loss: 0.0029\n",
            "Epoch 15/20\n",
            "219/219 [==============================] - 13s 61ms/step - loss: 0.0027 - val_loss: 0.0029\n",
            "Epoch 16/20\n",
            "219/219 [==============================] - 13s 61ms/step - loss: 0.0028 - val_loss: 0.0027\n",
            "Epoch 17/20\n",
            "219/219 [==============================] - 13s 61ms/step - loss: 0.0028 - val_loss: 0.0027\n",
            "Epoch 18/20\n",
            "219/219 [==============================] - 13s 61ms/step - loss: 0.0027 - val_loss: 0.0026\n",
            "Epoch 19/20\n",
            "219/219 [==============================] - 14s 62ms/step - loss: 0.0027 - val_loss: 0.0026\n",
            "Epoch 20/20\n",
            "219/219 [==============================] - 14s 63ms/step - loss: 0.0027 - val_loss: 0.0026\n"
          ],
          "name": "stdout"
        }
      ]
    },
    {
      "cell_type": "code",
      "metadata": {
        "trusted": true,
        "id": "bj6fcXAfnO0v",
        "colab_type": "code",
        "colab": {
          "base_uri": "https://localhost:8080/",
          "height": 52
        },
        "outputId": "03b304c8-e07a-4138-b134-1bc1692b774a"
      },
      "source": [
        "model.evaluate(X_test, y_test)"
      ],
      "execution_count": 25,
      "outputs": [
        {
          "output_type": "stream",
          "text": [
            "32/32 [==============================] - 0s 8ms/step - loss: 0.0025\n"
          ],
          "name": "stdout"
        },
        {
          "output_type": "execute_result",
          "data": {
            "text/plain": [
              "0.0025107134133577347"
            ]
          },
          "metadata": {
            "tags": []
          },
          "execution_count": 25
        }
      ]
    },
    {
      "cell_type": "code",
      "metadata": {
        "trusted": true,
        "id": "azluoo5AnO0x",
        "colab_type": "code",
        "colab": {
          "base_uri": "https://localhost:8080/",
          "height": 278
        },
        "outputId": "7e24901b-ebae-4332-e117-fefa119b3f11"
      },
      "source": [
        "plot_learning_curves(history.history[\"loss\"], history.history[\"val_loss\"])\n",
        "plt.show()"
      ],
      "execution_count": 26,
      "outputs": [
        {
          "output_type": "display_data",
          "data": {
            "image/png": "[encoded data removed]",
            "text/plain": [
              "<Figure size 432x288 with 1 Axes>"
            ]
          },
          "metadata": {
            "tags": [],
            "needs_background": "light"
          }
        }
      ]
    },
    {
      "cell_type": "markdown",
      "metadata": {
        "id": "lYGgsDJ3nO0z",
        "colab_type": "text"
      },
      "source": [
        "## Forecasting Several Steps Ahead"
      ]
    },
    {
      "cell_type": "code",
      "metadata": {
        "trusted": true,
        "id": "-dsEUzIlnO00",
        "colab_type": "code",
        "colab": {}
      },
      "source": [
        "np.random.seed(42)\n",
        "\n",
        "series = generate_time_series(1, n_steps + 10)\n",
        "X_new, Y_new = series[:, :n_steps], series[:, n_steps:]\n",
        "X = X_new\n",
        "for step_ahead in range(10):\n",
        "    y_pred_one = model.predict(X[:, step_ahead:])[:, np.newaxis, :]\n",
        "    X = np.concatenate([X, y_pred_one], axis=1)\n",
        "\n",
        "Y_pred = X[:, n_steps:]"
      ],
      "execution_count": 27,
      "outputs": []
    },
    {
      "cell_type": "code",
      "metadata": {
        "trusted": true,
        "id": "A7kfFK-znO03",
        "colab_type": "code",
        "colab": {}
      },
      "source": [
        "def plot_multiple_forecasts(X, Y, Y_pred):\n",
        "    n_steps = X.shape[1]\n",
        "    ahead = Y.shape[1]\n",
        "    plot_series(X[0, :, 0])\n",
        "    plt.plot(np.arange(n_steps, n_steps + ahead), Y[0, :, 0], \"ro-\", label=\"Actual\")\n",
        "    plt.plot(np.arange(n_steps, n_steps + ahead), Y_pred[0, :, 0], \"bx-\", label=\"Forecast\", markersize=10)\n",
        "    plt.axis([0, n_steps + ahead, -1, 1])\n",
        "    plt.legend()"
      ],
      "execution_count": 28,
      "outputs": []
    },
    {
      "cell_type": "code",
      "metadata": {
        "trusted": true,
        "id": "joA3rr4jnO06",
        "colab_type": "code",
        "colab": {
          "base_uri": "https://localhost:8080/",
          "height": 284
        },
        "outputId": "1f521b1a-67fc-4228-9928-70a2d2a22620"
      },
      "source": [
        "plot_multiple_forecasts(X_new, Y_new, Y_pred)"
      ],
      "execution_count": 29,
      "outputs": [
        {
          "output_type": "display_data",
          "data": {
            "image/png": "[encoded data removed]",
            "text/plain": [
              "<Figure size 432x288 with 1 Axes>"
            ]
          },
          "metadata": {
            "tags": [],
            "needs_background": "light"
          }
        }
      ]
    },
    {
      "cell_type": "markdown",
      "metadata": {
        "id": "fMMwf_GdnO0-",
        "colab_type": "text"
      },
      "source": [
        "Now let's use this model to predict the next 10 values. We first need to regenerate the sequences with 9 more time steps."
      ]
    },
    {
      "cell_type": "code",
      "metadata": {
        "id": "HLnknMabGyka",
        "colab_type": "code",
        "colab": {}
      },
      "source": [
        "keras.backend.clear_session()"
      ],
      "execution_count": 30,
      "outputs": []
    },
    {
      "cell_type": "code",
      "metadata": {
        "trusted": true,
        "id": "MLq3qZeInO0_",
        "colab_type": "code",
        "colab": {}
      },
      "source": [
        "series = generate_time_series(10000, n_steps + 10)\n",
        "X_train, Y_train = series[:7000, :n_steps], series[:7000, -10:, 0]\n",
        "X_valid, Y_valid = series[7000:9000, :n_steps], series[7000:9000, -10:, 0]\n",
        "X_test, Y_test = series[9000:, :n_steps], series[9000:, -10:, 0]"
      ],
      "execution_count": 31,
      "outputs": []
    },
    {
      "cell_type": "code",
      "metadata": {
        "trusted": true,
        "id": "NzpawjOJnO1B",
        "colab_type": "code",
        "colab": {}
      },
      "source": [
        "model = keras.models.Sequential([\n",
        "    keras.layers.SimpleRNN(20, return_sequences=True, input_shape=[None, 1]),\n",
        "    keras.layers.SimpleRNN(20),\n",
        "    keras.layers.Dense(10)\n",
        "])"
      ],
      "execution_count": 32,
      "outputs": []
    },
    {
      "cell_type": "code",
      "metadata": {
        "trusted": true,
        "id": "AVuSB_xTnO1H",
        "colab_type": "code",
        "colab": {
          "base_uri": "https://localhost:8080/",
          "height": 727
        },
        "outputId": "108357e9-89fa-4029-a781-04c76a8f5c27"
      },
      "source": [
        "model.compile(loss=\"mse\", optimizer=\"adam\")\n",
        "history = model.fit(X_train, Y_train, epochs=20, validation_data=(X_valid, Y_valid))"
      ],
      "execution_count": 33,
      "outputs": [
        {
          "output_type": "stream",
          "text": [
            "Epoch 1/20\n",
            "219/219 [==============================] - 14s 63ms/step - loss: 0.0504 - val_loss: 0.0280\n",
            "Epoch 2/20\n",
            "219/219 [==============================] - 13s 61ms/step - loss: 0.0237 - val_loss: 0.0180\n",
            "Epoch 3/20\n",
            "219/219 [==============================] - 13s 61ms/step - loss: 0.0168 - val_loss: 0.0138\n",
            "Epoch 4/20\n",
            "219/219 [==============================] - 13s 61ms/step - loss: 0.0133 - val_loss: 0.0110\n",
            "Epoch 5/20\n",
            "219/219 [==============================] - 13s 61ms/step - loss: 0.0124 - val_loss: 0.0107\n",
            "Epoch 6/20\n",
            "219/219 [==============================] - 13s 62ms/step - loss: 0.0109 - val_loss: 0.0124\n",
            "Epoch 7/20\n",
            "219/219 [==============================] - 13s 60ms/step - loss: 0.0106 - val_loss: 0.0120\n",
            "Epoch 8/20\n",
            "219/219 [==============================] - 13s 60ms/step - loss: 0.0103 - val_loss: 0.0105\n",
            "Epoch 9/20\n",
            "219/219 [==============================] - 13s 61ms/step - loss: 0.0098 - val_loss: 0.0088\n",
            "Epoch 10/20\n",
            "219/219 [==============================] - 13s 60ms/step - loss: 0.0094 - val_loss: 0.0096\n",
            "Epoch 11/20\n",
            "219/219 [==============================] - 13s 60ms/step - loss: 0.0095 - val_loss: 0.0091\n",
            "Epoch 12/20\n",
            "219/219 [==============================] - 13s 60ms/step - loss: 0.0096 - val_loss: 0.0092\n",
            "Epoch 13/20\n",
            "219/219 [==============================] - 13s 60ms/step - loss: 0.0091 - val_loss: 0.0084\n",
            "Epoch 14/20\n",
            "219/219 [==============================] - 13s 60ms/step - loss: 0.0090 - val_loss: 0.0085\n",
            "Epoch 15/20\n",
            "219/219 [==============================] - 13s 62ms/step - loss: 0.0089 - val_loss: 0.0085\n",
            "Epoch 16/20\n",
            "219/219 [==============================] - 13s 61ms/step - loss: 0.0089 - val_loss: 0.0077\n",
            "Epoch 17/20\n",
            "219/219 [==============================] - 13s 61ms/step - loss: 0.0087 - val_loss: 0.0079\n",
            "Epoch 18/20\n",
            "219/219 [==============================] - 13s 60ms/step - loss: 0.0087 - val_loss: 0.0082\n",
            "Epoch 19/20\n",
            "219/219 [==============================] - 14s 62ms/step - loss: 0.0087 - val_loss: 0.0095\n",
            "Epoch 20/20\n",
            "219/219 [==============================] - 14s 62ms/step - loss: 0.0090 - val_loss: 0.0086\n"
          ],
          "name": "stdout"
        }
      ]
    },
    {
      "cell_type": "code",
      "metadata": {
        "trusted": true,
        "id": "nYW5-Jf5nO1L",
        "colab_type": "code",
        "colab": {
          "base_uri": "https://localhost:8080/",
          "height": 52
        },
        "outputId": "aa2b9cec-4cb3-4f8f-ced8-467d9230302c"
      },
      "source": [
        "model.evaluate(X_test, Y_test)"
      ],
      "execution_count": 34,
      "outputs": [
        {
          "output_type": "stream",
          "text": [
            "32/32 [==============================] - 0s 7ms/step - loss: 0.0089\n"
          ],
          "name": "stdout"
        },
        {
          "output_type": "execute_result",
          "data": {
            "text/plain": [
              "0.008948233909904957"
            ]
          },
          "metadata": {
            "tags": []
          },
          "execution_count": 34
        }
      ]
    },
    {
      "cell_type": "code",
      "metadata": {
        "trusted": true,
        "id": "SuXwIXEdnO1S",
        "colab_type": "code",
        "colab": {
          "base_uri": "https://localhost:8080/",
          "height": 278
        },
        "outputId": "70775574-320a-4e2d-f058-3a956f1c5f03"
      },
      "source": [
        "plot_learning_curves(history.history[\"loss\"], history.history[\"val_loss\"])\n",
        "plt.show()"
      ],
      "execution_count": 35,
      "outputs": [
        {
          "output_type": "display_data",
          "data": {
            "image/png": "[encoded data removed]",
            "text/plain": [
              "<Figure size 432x288 with 1 Axes>"
            ]
          },
          "metadata": {
            "tags": [],
            "needs_background": "light"
          }
        }
      ]
    },
    {
      "cell_type": "code",
      "metadata": {
        "trusted": true,
        "id": "3zanp65inO1W",
        "colab_type": "code",
        "colab": {}
      },
      "source": [
        "Y_pred = model.predict(X_new)"
      ],
      "execution_count": 36,
      "outputs": []
    },
    {
      "cell_type": "code",
      "metadata": {
        "trusted": true,
        "id": "-hhF78GBnO1Z",
        "colab_type": "code",
        "colab": {}
      },
      "source": [
        "np.random.seed(42)\n",
        "\n",
        "series = generate_time_series(1, 50 + 10)\n",
        "X_new, Y_new = series[:, :50, :], series[:, -10:, :]\n",
        "Y_pred = model.predict(X_new)[..., np.newaxis]"
      ],
      "execution_count": 37,
      "outputs": []
    },
    {
      "cell_type": "code",
      "metadata": {
        "trusted": true,
        "id": "iQDq4qyBnO1d",
        "colab_type": "code",
        "colab": {
          "base_uri": "https://localhost:8080/",
          "height": 284
        },
        "outputId": "949f572c-a02d-4f40-84ba-a2c8800f08bf"
      },
      "source": [
        "plot_multiple_forecasts(X_new, Y_new, Y_pred)\n",
        "plt.show()"
      ],
      "execution_count": 38,
      "outputs": [
        {
          "output_type": "display_data",
          "data": {
            "image/png": "[encoded data removed]",
            "text/plain": [
              "<Figure size 432x288 with 1 Axes>"
            ]
          },
          "metadata": {
            "tags": [],
            "needs_background": "light"
          }
        }
      ]
    },
    {
      "cell_type": "markdown",
      "metadata": {
        "id": "ic2rKEHUnO1g",
        "colab_type": "text"
      },
      "source": [
        "\n",
        "Now let's create an RNN that predicts the next 10 steps at each time step. That is, instead of just forecasting time steps 50 to 59 based on time steps 0 to 49, it will forecast time steps 1 to 10 at time step 0, then time steps 2 to 11 at time step 1, and so on, and finally it will forecast time steps 50 to 59 at the last time step. Notice that the model is causal: when it makes predictions at any time step, it can only see past time steps."
      ]
    },
    {
      "cell_type": "code",
      "metadata": {
        "trusted": true,
        "id": "f5P-qE3_nO1h",
        "colab_type": "code",
        "colab": {}
      },
      "source": [
        "Y = np.empty((10000, n_steps, 10))\n",
        "for step_ahead in range(1, 10 + 1):\n",
        "    Y[:, :, step_ahead - 1] = series[:, step_ahead : step_ahead + n_steps, 0]\n",
        "Y_train = Y[:7000]\n",
        "Y_valid = Y[7000:9000]\n",
        "Y_test  = Y[9000:]"
      ],
      "execution_count": 39,
      "outputs": []
    },
    {
      "cell_type": "markdown",
      "metadata": {
        "id": "8QDoF6dVnO1j",
        "colab_type": "text"
      },
      "source": [
        "It may be surprising that the targets will contain values that appear in the inputs (there is a lot of overlap between X_train and Y_train). Isn’t that cheating? Fortunately, not at all: at each time step, the model only knows about past time steps, so it cannot look ahead. It is said to be a causal model."
      ]
    },
    {
      "cell_type": "markdown",
      "metadata": {
        "id": "e1Mrw4BenO1k",
        "colab_type": "text"
      },
      "source": [
        "To turn the model into a sequence-to-sequence model, we must set return_sequences=True in all recurrent layers (even the last one), and we must apply the output Dense layer at every time step."
      ]
    },
    {
      "cell_type": "code",
      "metadata": {
        "id": "dVqr2Yt1G0sU",
        "colab_type": "code",
        "colab": {}
      },
      "source": [
        "keras.backend.clear_session()"
      ],
      "execution_count": 40,
      "outputs": []
    },
    {
      "cell_type": "code",
      "metadata": {
        "trusted": true,
        "id": "LLTzgxednO1k",
        "colab_type": "code",
        "colab": {}
      },
      "source": [
        "model = keras.models.Sequential([\n",
        "    keras.layers.SimpleRNN(20, return_sequences = True, input_shape=[None, 1]),\n",
        "    keras.layers.SimpleRNN(20, return_sequences = True),\n",
        "    keras.layers.TimeDistributed(keras.layers.Dense(10))\n",
        "])\n",
        "\n",
        "def last_time_step_mse(Y_true, Y_pred):\n",
        "    return keras.metrics.mean_squared_error(Y_true[:, -1], Y_pred[:, -1])"
      ],
      "execution_count": 41,
      "outputs": []
    },
    {
      "cell_type": "code",
      "metadata": {
        "trusted": true,
        "id": "Q7VzKPkhnO1m",
        "colab_type": "code",
        "colab": {
          "base_uri": "https://localhost:8080/",
          "height": 747
        },
        "outputId": "6fb3af60-d434-49ef-8518-31e0810c2710"
      },
      "source": [
        "model.compile(loss = 'mse', optimizer = 'nadam', metrics = [last_time_step_mse])\n",
        "history = model.fit(X_train, Y_train, validation_data = (X_valid, Y_valid), epochs=20)"
      ],
      "execution_count": 42,
      "outputs": [
        {
          "output_type": "stream",
          "text": [
            "Epoch 1/20\n",
            "219/219 [==============================] - 14s 65ms/step - loss: 0.1045 - last_time_step_mse: 0.0552 - val_loss: 0.0246 - val_last_time_step_mse: 0.0175\n",
            "Epoch 2/20\n",
            "219/219 [==============================] - 14s 65ms/step - loss: 0.0214 - last_time_step_mse: 0.0193 - val_loss: 0.0119 - val_last_time_step_mse: 0.0161\n",
            "Epoch 3/20\n",
            "219/219 [==============================] - 14s 62ms/step - loss: 0.0046 - last_time_step_mse: 0.0058 - val_loss: 0.0026 - val_last_time_step_mse: 0.0042\n",
            "Epoch 4/20\n",
            "219/219 [==============================] - 14s 62ms/step - loss: 0.0024 - last_time_step_mse: 0.0032 - val_loss: 0.0033 - val_last_time_step_mse: 0.0019\n",
            "Epoch 5/20\n",
            "219/219 [==============================] - 14s 62ms/step - loss: 0.0018 - last_time_step_mse: 0.0025 - val_loss: 0.0015 - val_last_time_step_mse: 0.0026\n",
            "Epoch 6/20\n",
            "219/219 [==============================] - 14s 62ms/step - loss: 0.0017 - last_time_step_mse: 0.0024 - val_loss: 0.0039 - val_last_time_step_mse: 0.0023\n",
            "Epoch 7/20\n",
            "219/219 [==============================] - 14s 63ms/step - loss: 0.0016 - last_time_step_mse: 0.0023 - val_loss: 0.0011 - val_last_time_step_mse: 8.0034e-04\n",
            "Epoch 8/20\n",
            "219/219 [==============================] - 14s 62ms/step - loss: 0.0014 - last_time_step_mse: 0.0019 - val_loss: 0.0017 - val_last_time_step_mse: 0.0043\n",
            "Epoch 9/20\n",
            "219/219 [==============================] - 14s 62ms/step - loss: 0.0014 - last_time_step_mse: 0.0021 - val_loss: 0.0016 - val_last_time_step_mse: 7.2654e-04\n",
            "Epoch 10/20\n",
            "219/219 [==============================] - 14s 63ms/step - loss: 0.0012 - last_time_step_mse: 0.0016 - val_loss: 0.0017 - val_last_time_step_mse: 0.0045\n",
            "Epoch 11/20\n",
            "219/219 [==============================] - 14s 62ms/step - loss: 0.0011 - last_time_step_mse: 0.0015 - val_loss: 7.6239e-04 - val_last_time_step_mse: 5.7045e-04\n",
            "Epoch 12/20\n",
            "219/219 [==============================] - 14s 62ms/step - loss: 0.0011 - last_time_step_mse: 0.0016 - val_loss: 0.0014 - val_last_time_step_mse: 0.0041\n",
            "Epoch 13/20\n",
            "219/219 [==============================] - 14s 63ms/step - loss: 9.8918e-04 - last_time_step_mse: 0.0014 - val_loss: 7.1987e-04 - val_last_time_step_mse: 4.4668e-04\n",
            "Epoch 14/20\n",
            "219/219 [==============================] - 14s 63ms/step - loss: 9.9142e-04 - last_time_step_mse: 0.0015 - val_loss: 8.6490e-04 - val_last_time_step_mse: 3.3145e-04\n",
            "Epoch 15/20\n",
            "219/219 [==============================] - 14s 63ms/step - loss: 9.6675e-04 - last_time_step_mse: 0.0015 - val_loss: 9.4717e-04 - val_last_time_step_mse: 0.0025\n",
            "Epoch 16/20\n",
            "219/219 [==============================] - 14s 63ms/step - loss: 9.1589e-04 - last_time_step_mse: 0.0014 - val_loss: 6.4680e-04 - val_last_time_step_mse: 0.0012\n",
            "Epoch 17/20\n",
            "219/219 [==============================] - 14s 64ms/step - loss: 8.4446e-04 - last_time_step_mse: 0.0013 - val_loss: 9.5427e-04 - val_last_time_step_mse: 4.5127e-04\n",
            "Epoch 18/20\n",
            "219/219 [==============================] - 14s 63ms/step - loss: 7.9889e-04 - last_time_step_mse: 0.0012 - val_loss: 7.6217e-04 - val_last_time_step_mse: 0.0020\n",
            "Epoch 19/20\n",
            "219/219 [==============================] - 14s 63ms/step - loss: 7.9068e-04 - last_time_step_mse: 0.0012 - val_loss: 5.2777e-04 - val_last_time_step_mse: 3.2601e-04\n",
            "Epoch 20/20\n",
            "219/219 [==============================] - 14s 64ms/step - loss: 6.6621e-04 - last_time_step_mse: 8.7132e-04 - val_loss: 5.0061e-04 - val_last_time_step_mse: 6.4484e-04\n"
          ],
          "name": "stdout"
        }
      ]
    },
    {
      "cell_type": "code",
      "metadata": {
        "trusted": true,
        "id": "sVEX0ogmnO1p",
        "colab_type": "code",
        "colab": {
          "base_uri": "https://localhost:8080/",
          "height": 52
        },
        "outputId": "b67f3c8c-e2d9-4f6b-fe67-3d8e55b74af6"
      },
      "source": [
        "model.evaluate(X_test, Y_test)"
      ],
      "execution_count": 43,
      "outputs": [
        {
          "output_type": "stream",
          "text": [
            "32/32 [==============================] - 0s 8ms/step - loss: 4.9944e-04 - last_time_step_mse: 6.3864e-04\n"
          ],
          "name": "stdout"
        },
        {
          "output_type": "execute_result",
          "data": {
            "text/plain": [
              "[0.0004994429764337838, 0.0006386360037140548]"
            ]
          },
          "metadata": {
            "tags": []
          },
          "execution_count": 43
        }
      ]
    },
    {
      "cell_type": "code",
      "metadata": {
        "trusted": true,
        "id": "x7f3_0uGnO1r",
        "colab_type": "code",
        "colab": {}
      },
      "source": [
        "np.random.seed(42)\n",
        "\n",
        "series = generate_time_series(1, 50 + 10)\n",
        "X_new, Y_new = series[:, :50, :], series[:, 50:, :]\n",
        "Y_pred = model.predict(X_new)[:, -1][..., np.newaxis]"
      ],
      "execution_count": 44,
      "outputs": []
    },
    {
      "cell_type": "code",
      "metadata": {
        "trusted": true,
        "id": "KO3ec0krnO1w",
        "colab_type": "code",
        "colab": {
          "base_uri": "https://localhost:8080/",
          "height": 284
        },
        "outputId": "6f145216-bf47-454f-8c5e-1e5d7ccbc589"
      },
      "source": [
        "plot_multiple_forecasts(X_new, Y_new, Y_pred)\n",
        "plt.show()"
      ],
      "execution_count": 45,
      "outputs": [
        {
          "output_type": "display_data",
          "data": {
            "image/png": "[encoded data removed]",
            "text/plain": [
              "<Figure size 432x288 with 1 Axes>"
            ]
          },
          "metadata": {
            "tags": [],
            "needs_background": "light"
          }
        }
      ]
    },
    {
      "cell_type": "markdown",
      "metadata": {
        "id": "LDHiW53_s3Ii",
        "colab_type": "text"
      },
      "source": [
        "## Deep RNN with Batch Norm"
      ]
    },
    {
      "cell_type": "code",
      "metadata": {
        "id": "IPWFABcKG16M",
        "colab_type": "code",
        "colab": {}
      },
      "source": [
        "keras.backend.clear_session()"
      ],
      "execution_count": 46,
      "outputs": []
    },
    {
      "cell_type": "code",
      "metadata": {
        "id": "Ht6elCyZs4QK",
        "colab_type": "code",
        "colab": {
          "base_uri": "https://localhost:8080/",
          "height": 747
        },
        "outputId": "ced0a581-168f-4c9c-fa24-36647fe533f9"
      },
      "source": [
        "tf.random.set_seed(42)\n",
        "np.random.seed(42)\n",
        "\n",
        "model = keras.models.Sequential([\n",
        "                                 keras.layers.SimpleRNN(20, return_sequences=True, input_shape = [None,1]),\n",
        "                                 keras.layers.BatchNormalization(),\n",
        "                                 keras.layers.SimpleRNN(20, return_sequences=True),\n",
        "                                 keras.layers.BatchNormalization(),\n",
        "                                 keras.layers.TimeDistributed(keras.layers.Dense(10))\n",
        "])\n",
        "\n",
        "model.compile(loss = 'mse', optimizer = 'adam', metrics=[last_time_step_mse])\n",
        "history = model.fit(X_train, Y_train, validation_data=(X_valid, Y_valid), epochs=20)"
      ],
      "execution_count": 47,
      "outputs": [
        {
          "output_type": "stream",
          "text": [
            "Epoch 1/20\n",
            "219/219 [==============================] - 14s 65ms/step - loss: 0.2919 - last_time_step_mse: 0.2247 - val_loss: 0.1656 - val_last_time_step_mse: 0.1127\n",
            "Epoch 2/20\n",
            "219/219 [==============================] - 14s 63ms/step - loss: 0.1296 - last_time_step_mse: 0.0746 - val_loss: 0.0532 - val_last_time_step_mse: 0.0767\n",
            "Epoch 3/20\n",
            "219/219 [==============================] - 14s 66ms/step - loss: 0.0192 - last_time_step_mse: 0.0245 - val_loss: 0.0157 - val_last_time_step_mse: 0.0328\n",
            "Epoch 4/20\n",
            "219/219 [==============================] - 15s 66ms/step - loss: 0.0096 - last_time_step_mse: 0.0124 - val_loss: 0.0084 - val_last_time_step_mse: 0.0110\n",
            "Epoch 5/20\n",
            "219/219 [==============================] - 15s 67ms/step - loss: 0.0070 - last_time_step_mse: 0.0093 - val_loss: 0.0063 - val_last_time_step_mse: 0.0078\n",
            "Epoch 6/20\n",
            "219/219 [==============================] - 14s 65ms/step - loss: 0.0054 - last_time_step_mse: 0.0073 - val_loss: 0.0051 - val_last_time_step_mse: 0.0064\n",
            "Epoch 7/20\n",
            "219/219 [==============================] - 14s 65ms/step - loss: 0.0045 - last_time_step_mse: 0.0063 - val_loss: 0.0042 - val_last_time_step_mse: 0.0049\n",
            "Epoch 8/20\n",
            "219/219 [==============================] - 14s 65ms/step - loss: 0.0038 - last_time_step_mse: 0.0057 - val_loss: 0.0036 - val_last_time_step_mse: 0.0053\n",
            "Epoch 9/20\n",
            "219/219 [==============================] - 14s 64ms/step - loss: 0.0033 - last_time_step_mse: 0.0052 - val_loss: 0.0032 - val_last_time_step_mse: 0.0046\n",
            "Epoch 10/20\n",
            "219/219 [==============================] - 14s 66ms/step - loss: 0.0029 - last_time_step_mse: 0.0050 - val_loss: 0.0029 - val_last_time_step_mse: 0.0044\n",
            "Epoch 11/20\n",
            "219/219 [==============================] - 14s 65ms/step - loss: 0.0026 - last_time_step_mse: 0.0049 - val_loss: 0.0026 - val_last_time_step_mse: 0.0044\n",
            "Epoch 12/20\n",
            "219/219 [==============================] - 14s 64ms/step - loss: 0.0024 - last_time_step_mse: 0.0048 - val_loss: 0.0023 - val_last_time_step_mse: 0.0040\n",
            "Epoch 13/20\n",
            "219/219 [==============================] - 14s 65ms/step - loss: 0.0022 - last_time_step_mse: 0.0048 - val_loss: 0.0021 - val_last_time_step_mse: 0.0039\n",
            "Epoch 14/20\n",
            "219/219 [==============================] - 14s 65ms/step - loss: 0.0020 - last_time_step_mse: 0.0047 - val_loss: 0.0019 - val_last_time_step_mse: 0.0043\n",
            "Epoch 15/20\n",
            "219/219 [==============================] - 14s 65ms/step - loss: 0.0018 - last_time_step_mse: 0.0047 - val_loss: 0.0018 - val_last_time_step_mse: 0.0040\n",
            "Epoch 16/20\n",
            "219/219 [==============================] - 14s 64ms/step - loss: 0.0017 - last_time_step_mse: 0.0047 - val_loss: 0.0017 - val_last_time_step_mse: 0.0056\n",
            "Epoch 17/20\n",
            "219/219 [==============================] - 14s 66ms/step - loss: 0.0016 - last_time_step_mse: 0.0047 - val_loss: 0.0015 - val_last_time_step_mse: 0.0054\n",
            "Epoch 18/20\n",
            "219/219 [==============================] - 14s 65ms/step - loss: 0.0014 - last_time_step_mse: 0.0047 - val_loss: 0.0014 - val_last_time_step_mse: 0.0051\n",
            "Epoch 19/20\n",
            "219/219 [==============================] - 14s 65ms/step - loss: 0.0013 - last_time_step_mse: 0.0046 - val_loss: 0.0013 - val_last_time_step_mse: 0.0044\n",
            "Epoch 20/20\n",
            "219/219 [==============================] - 14s 66ms/step - loss: 0.0013 - last_time_step_mse: 0.0046 - val_loss: 0.0014 - val_last_time_step_mse: 0.0049\n"
          ],
          "name": "stdout"
        }
      ]
    },
    {
      "cell_type": "markdown",
      "metadata": {
        "id": "-V-ymj1nuFoH",
        "colab_type": "text"
      },
      "source": [
        "## Deep RNNs with Layer Norm"
      ]
    },
    {
      "cell_type": "code",
      "metadata": {
        "id": "marSWly-G3Os",
        "colab_type": "code",
        "colab": {}
      },
      "source": [
        "keras.backend.clear_session()"
      ],
      "execution_count": 48,
      "outputs": []
    },
    {
      "cell_type": "code",
      "metadata": {
        "id": "vQ5RfJXVt3eV",
        "colab_type": "code",
        "colab": {}
      },
      "source": [
        "class LNSimpleRNNCell(keras.layers.Layer):\n",
        "    def __init__(self, units, activation=\"tanh\", **kwargs):\n",
        "        super().__init__(**kwargs)\n",
        "        self.state_size = units\n",
        "        self.output_size = units\n",
        "        self.simple_rnn_cell = keras.layers.SimpleRNNCell(units,\n",
        "                                                          activation=None)\n",
        "        self.layer_norm = keras.layers.LayerNormalization()\n",
        "        self.activation = keras.activations.get(activation)\n",
        "    def get_initial_state(self, inputs=None, batch_size=None, dtype=None):\n",
        "        if inputs is not None:\n",
        "            batch_size = tf.shape(inputs)[0]\n",
        "            dtype = inputs.dtype\n",
        "        return [tf.zeros([batch_size, self.state_size], dtype=dtype)]\n",
        "    def call(self, inputs, states):\n",
        "        outputs, new_states = self.simple_rnn_cell(inputs, states)\n",
        "        norm_outputs = self.activation(self.layer_norm(outputs))\n",
        "        return norm_outputs, [norm_outputs]"
      ],
      "execution_count": 49,
      "outputs": []
    },
    {
      "cell_type": "code",
      "metadata": {
        "id": "VUKdp3n1w3y5",
        "colab_type": "code",
        "colab": {
          "base_uri": "https://localhost:8080/",
          "height": 747
        },
        "outputId": "a4d1b85a-1884-462a-e675-6dc3b777dd64"
      },
      "source": [
        "np.random.seed(42)\n",
        "tf.random.set_seed(42)\n",
        "\n",
        "model = keras.models.Sequential([\n",
        "    keras.layers.RNN(LNSimpleRNNCell(20), return_sequences=True,\n",
        "                     input_shape=[None, 1]),\n",
        "    keras.layers.RNN(LNSimpleRNNCell(20), return_sequences=True),\n",
        "    keras.layers.TimeDistributed(keras.layers.Dense(10))\n",
        "])\n",
        "\n",
        "model.compile(loss=\"mse\", optimizer=\"adam\", metrics=[last_time_step_mse])\n",
        "history = model.fit(X_train, Y_train, epochs=20,\n",
        "                    validation_data=(X_valid, Y_valid))"
      ],
      "execution_count": 50,
      "outputs": [
        {
          "output_type": "stream",
          "text": [
            "Epoch 1/20\n",
            "219/219 [==============================] - 34s 154ms/step - loss: 0.2020 - last_time_step_mse: 0.1286 - val_loss: 0.1442 - val_last_time_step_mse: 0.0764\n",
            "Epoch 2/20\n",
            "219/219 [==============================] - 34s 154ms/step - loss: 0.0987 - last_time_step_mse: 0.0607 - val_loss: 0.0160 - val_last_time_step_mse: 0.0164\n",
            "Epoch 3/20\n",
            "219/219 [==============================] - 34s 155ms/step - loss: 0.0109 - last_time_step_mse: 0.0097 - val_loss: 0.0079 - val_last_time_step_mse: 0.0067\n",
            "Epoch 4/20\n",
            "219/219 [==============================] - 34s 157ms/step - loss: 0.0063 - last_time_step_mse: 0.0061 - val_loss: 0.0051 - val_last_time_step_mse: 0.0056\n",
            "Epoch 5/20\n",
            "219/219 [==============================] - 33s 151ms/step - loss: 0.0046 - last_time_step_mse: 0.0053 - val_loss: 0.0041 - val_last_time_step_mse: 0.0050\n",
            "Epoch 6/20\n",
            "219/219 [==============================] - 33s 150ms/step - loss: 0.0039 - last_time_step_mse: 0.0051 - val_loss: 0.0036 - val_last_time_step_mse: 0.0053\n",
            "Epoch 7/20\n",
            "219/219 [==============================] - 33s 150ms/step - loss: 0.0035 - last_time_step_mse: 0.0049 - val_loss: 0.0033 - val_last_time_step_mse: 0.0051\n",
            "Epoch 8/20\n",
            "219/219 [==============================] - 33s 150ms/step - loss: 0.0032 - last_time_step_mse: 0.0048 - val_loss: 0.0030 - val_last_time_step_mse: 0.0048\n",
            "Epoch 9/20\n",
            "219/219 [==============================] - 33s 149ms/step - loss: 0.0029 - last_time_step_mse: 0.0047 - val_loss: 0.0028 - val_last_time_step_mse: 0.0047\n",
            "Epoch 10/20\n",
            "219/219 [==============================] - 33s 149ms/step - loss: 0.0028 - last_time_step_mse: 0.0047 - val_loss: 0.0027 - val_last_time_step_mse: 0.0048\n",
            "Epoch 11/20\n",
            "219/219 [==============================] - 33s 150ms/step - loss: 0.0026 - last_time_step_mse: 0.0048 - val_loss: 0.0025 - val_last_time_step_mse: 0.0048\n",
            "Epoch 12/20\n",
            "219/219 [==============================] - 33s 150ms/step - loss: 0.0025 - last_time_step_mse: 0.0048 - val_loss: 0.0023 - val_last_time_step_mse: 0.0048\n",
            "Epoch 13/20\n",
            "219/219 [==============================] - 33s 150ms/step - loss: 0.0023 - last_time_step_mse: 0.0049 - val_loss: 0.0022 - val_last_time_step_mse: 0.0050\n",
            "Epoch 14/20\n",
            "219/219 [==============================] - 33s 150ms/step - loss: 0.0021 - last_time_step_mse: 0.0051 - val_loss: 0.0021 - val_last_time_step_mse: 0.0054\n",
            "Epoch 15/20\n",
            "219/219 [==============================] - 33s 149ms/step - loss: 0.0019 - last_time_step_mse: 0.0050 - val_loss: 0.0019 - val_last_time_step_mse: 0.0049\n",
            "Epoch 16/20\n",
            "219/219 [==============================] - 33s 151ms/step - loss: 0.0018 - last_time_step_mse: 0.0048 - val_loss: 0.0016 - val_last_time_step_mse: 0.0045\n",
            "Epoch 17/20\n",
            "219/219 [==============================] - 33s 152ms/step - loss: 0.0014 - last_time_step_mse: 0.0040 - val_loss: 0.0012 - val_last_time_step_mse: 0.0027\n",
            "Epoch 18/20\n",
            "219/219 [==============================] - 33s 151ms/step - loss: 0.0010 - last_time_step_mse: 0.0021 - val_loss: 8.0829e-04 - val_last_time_step_mse: 0.0013\n",
            "Epoch 19/20\n",
            "219/219 [==============================] - 33s 151ms/step - loss: 7.4972e-04 - last_time_step_mse: 0.0011 - val_loss: 6.6110e-04 - val_last_time_step_mse: 8.0009e-04\n",
            "Epoch 20/20\n",
            "219/219 [==============================] - 33s 151ms/step - loss: 6.3238e-04 - last_time_step_mse: 7.5850e-04 - val_loss: 5.7747e-04 - val_last_time_step_mse: 5.8203e-04\n"
          ],
          "name": "stdout"
        }
      ]
    },
    {
      "cell_type": "markdown",
      "metadata": {
        "id": "avN9V5cX4Z01",
        "colab_type": "text"
      },
      "source": [
        "## LSTMs"
      ]
    },
    {
      "cell_type": "code",
      "metadata": {
        "id": "-GM92E_fG4A5",
        "colab_type": "code",
        "colab": {}
      },
      "source": [
        "keras.backend.clear_session()"
      ],
      "execution_count": 51,
      "outputs": []
    },
    {
      "cell_type": "code",
      "metadata": {
        "id": "ZbIflYLG1M9T",
        "colab_type": "code",
        "colab": {
          "base_uri": "https://localhost:8080/",
          "height": 747
        },
        "outputId": "fc21acad-66f1-4ca8-e196-d572476cc845"
      },
      "source": [
        "tf.random.set_seed(42)\n",
        "np.random.seed(42)\n",
        "\n",
        "model = keras.models.Sequential([\n",
        "        keras.layers.LSTM(20, return_sequences=True, input_shape = [None,1]),\n",
        "        keras.layers.LSTM(20, return_sequences=True),\n",
        "        keras.layers.TimeDistributed(keras.layers.Dense(10))\n",
        "])\n",
        "\n",
        "model.compile(loss = 'mse', optimizer = 'adam', metrics=[last_time_step_mse])\n",
        "history = model.fit(X_train, Y_train , epochs = 20, validation_data= (X_valid, Y_valid))"
      ],
      "execution_count": 52,
      "outputs": [
        {
          "output_type": "stream",
          "text": [
            "Epoch 1/20\n",
            "219/219 [==============================] - 2s 11ms/step - loss: 0.0947 - last_time_step_mse: 0.0434 - val_loss: 0.0244 - val_last_time_step_mse: 0.0138\n",
            "Epoch 2/20\n",
            "219/219 [==============================] - 2s 8ms/step - loss: 0.0210 - last_time_step_mse: 0.0144 - val_loss: 0.0189 - val_last_time_step_mse: 0.0149\n",
            "Epoch 3/20\n",
            "219/219 [==============================] - 2s 8ms/step - loss: 0.0169 - last_time_step_mse: 0.0144 - val_loss: 0.0136 - val_last_time_step_mse: 0.0131\n",
            "Epoch 4/20\n",
            "219/219 [==============================] - 2s 8ms/step - loss: 0.0069 - last_time_step_mse: 0.0101 - val_loss: 0.0031 - val_last_time_step_mse: 0.0052\n",
            "Epoch 5/20\n",
            "219/219 [==============================] - 2s 8ms/step - loss: 0.0025 - last_time_step_mse: 0.0035 - val_loss: 0.0021 - val_last_time_step_mse: 0.0020\n",
            "Epoch 6/20\n",
            "219/219 [==============================] - 2s 8ms/step - loss: 0.0019 - last_time_step_mse: 0.0016 - val_loss: 0.0017 - val_last_time_step_mse: 0.0013\n",
            "Epoch 7/20\n",
            "219/219 [==============================] - 2s 8ms/step - loss: 0.0015 - last_time_step_mse: 9.2853e-04 - val_loss: 0.0013 - val_last_time_step_mse: 7.7615e-04\n",
            "Epoch 8/20\n",
            "219/219 [==============================] - 2s 8ms/step - loss: 0.0012 - last_time_step_mse: 6.5593e-04 - val_loss: 0.0011 - val_last_time_step_mse: 6.5751e-04\n",
            "Epoch 9/20\n",
            "219/219 [==============================] - 2s 8ms/step - loss: 0.0010 - last_time_step_mse: 4.8798e-04 - val_loss: 9.5683e-04 - val_last_time_step_mse: 3.9740e-04\n",
            "Epoch 10/20\n",
            "219/219 [==============================] - 2s 8ms/step - loss: 9.0413e-04 - last_time_step_mse: 3.6800e-04 - val_loss: 8.4435e-04 - val_last_time_step_mse: 3.1562e-04\n",
            "Epoch 11/20\n",
            "219/219 [==============================] - 2s 8ms/step - loss: 8.1136e-04 - last_time_step_mse: 2.8569e-04 - val_loss: 8.0265e-04 - val_last_time_step_mse: 3.7657e-04\n",
            "Epoch 12/20\n",
            "219/219 [==============================] - 2s 8ms/step - loss: 7.5425e-04 - last_time_step_mse: 2.5164e-04 - val_loss: 7.3873e-04 - val_last_time_step_mse: 2.0055e-04\n",
            "Epoch 13/20\n",
            "219/219 [==============================] - 2s 8ms/step - loss: 6.9964e-04 - last_time_step_mse: 2.1419e-04 - val_loss: 7.2430e-04 - val_last_time_step_mse: 3.8358e-04\n",
            "Epoch 14/20\n",
            "219/219 [==============================] - 2s 8ms/step - loss: 6.6682e-04 - last_time_step_mse: 2.1336e-04 - val_loss: 6.4747e-04 - val_last_time_step_mse: 2.1752e-04\n",
            "Epoch 15/20\n",
            "219/219 [==============================] - 2s 8ms/step - loss: 6.3871e-04 - last_time_step_mse: 2.1588e-04 - val_loss: 6.1134e-04 - val_last_time_step_mse: 1.7605e-04\n",
            "Epoch 16/20\n",
            "219/219 [==============================] - 2s 9ms/step - loss: 6.0597e-04 - last_time_step_mse: 1.9307e-04 - val_loss: 6.4596e-04 - val_last_time_step_mse: 3.7976e-04\n",
            "Epoch 17/20\n",
            "219/219 [==============================] - 2s 9ms/step - loss: 5.9271e-04 - last_time_step_mse: 2.1497e-04 - val_loss: 5.7992e-04 - val_last_time_step_mse: 2.0948e-04\n",
            "Epoch 18/20\n",
            "219/219 [==============================] - 2s 9ms/step - loss: 5.9724e-04 - last_time_step_mse: 2.8042e-04 - val_loss: 5.5247e-04 - val_last_time_step_mse: 1.6113e-04\n",
            "Epoch 19/20\n",
            "219/219 [==============================] - 2s 9ms/step - loss: 5.4728e-04 - last_time_step_mse: 1.7133e-04 - val_loss: 5.3839e-04 - val_last_time_step_mse: 1.6552e-04\n",
            "Epoch 20/20\n",
            "219/219 [==============================] - 2s 9ms/step - loss: 5.3454e-04 - last_time_step_mse: 1.6842e-04 - val_loss: 5.2608e-04 - val_last_time_step_mse: 1.5948e-04\n"
          ],
          "name": "stdout"
        }
      ]
    },
    {
      "cell_type": "code",
      "metadata": {
        "id": "f6RRFs_E54lQ",
        "colab_type": "code",
        "colab": {
          "base_uri": "https://localhost:8080/",
          "height": 52
        },
        "outputId": "8236f7ef-3709-4df0-ab6a-ebce9b37f7b6"
      },
      "source": [
        "model.evaluate(X_valid, Y_valid)"
      ],
      "execution_count": 53,
      "outputs": [
        {
          "output_type": "stream",
          "text": [
            "63/63 [==============================] - 0s 4ms/step - loss: 5.2608e-04 - last_time_step_mse: 1.5948e-04\n"
          ],
          "name": "stdout"
        },
        {
          "output_type": "execute_result",
          "data": {
            "text/plain": [
              "[0.0005260783946141601, 0.00015948005602695048]"
            ]
          },
          "metadata": {
            "tags": []
          },
          "execution_count": 53
        }
      ]
    },
    {
      "cell_type": "code",
      "metadata": {
        "id": "AvbBZToF56K-",
        "colab_type": "code",
        "colab": {
          "base_uri": "https://localhost:8080/",
          "height": 278
        },
        "outputId": "7db8c3cb-c73b-453d-f187-749eef48d3cd"
      },
      "source": [
        "plot_learning_curves(history.history[\"loss\"], history.history[\"val_loss\"])\n",
        "plt.show()"
      ],
      "execution_count": 54,
      "outputs": [
        {
          "output_type": "display_data",
          "data": {
            "image/png": "[encoded data removed]",
            "text/plain": [
              "<Figure size 432x288 with 1 Axes>"
            ]
          },
          "metadata": {
            "tags": [],
            "needs_background": "light"
          }
        }
      ]
    },
    {
      "cell_type": "code",
      "metadata": {
        "id": "H2mF4xov6Y_v",
        "colab_type": "code",
        "colab": {
          "base_uri": "https://localhost:8080/",
          "height": 284
        },
        "outputId": "f2496fa7-e87d-4dfa-a499-0c49860ae50a"
      },
      "source": [
        "np.random.seed(42)\n",
        "\n",
        "series = generate_time_series(1, 50 + 10)\n",
        "X_new, Y_new = series[:, :50, :], series[:, 50:, :]\n",
        "Y_pred = model.predict(X_new)[:, -1][..., np.newaxis]\n",
        "\n",
        "\n",
        "plot_multiple_forecasts(X_new, Y_new, Y_pred)\n",
        "plt.show()"
      ],
      "execution_count": 55,
      "outputs": [
        {
          "output_type": "display_data",
          "data": {
            "image/png": "[encoded data removed]",
            "text/plain": [
              "<Figure size 432x288 with 1 Axes>"
            ]
          },
          "metadata": {
            "tags": [],
            "needs_background": "light"
          }
        }
      ]
    },
    {
      "cell_type": "code",
      "metadata": {
        "id": "3F3mc2iGG5QN",
        "colab_type": "code",
        "colab": {}
      },
      "source": [
        "keras.backend.clear_session()"
      ],
      "execution_count": 56,
      "outputs": []
    },
    {
      "cell_type": "code",
      "metadata": {
        "id": "RtMaiSPM5oFx",
        "colab_type": "code",
        "colab": {
          "base_uri": "https://localhost:8080/",
          "height": 727
        },
        "outputId": "56001634-ef60-4730-c457-6afcb9d85b05"
      },
      "source": [
        "model = keras.models.Sequential([\n",
        "    keras.layers.RNN(keras.layers.LSTMCell(20), return_sequences=True,\n",
        "                     input_shape=[None, 1]),\n",
        "    keras.layers.RNN(keras.layers.LSTMCell(20), return_sequences=True),\n",
        "    keras.layers.TimeDistributed(keras.layers.Dense(10))\n",
        "])\n",
        "\n",
        "model.compile(loss = 'mse', optimizer = 'adam', metrics=[last_time_step_mse])\n",
        "history = model.fit(X_train, Y_train , epochs = 20, validation_data= (X_valid, Y_valid))"
      ],
      "execution_count": 57,
      "outputs": [
        {
          "output_type": "stream",
          "text": [
            "Epoch 1/20\n",
            "219/219 [==============================] - 32s 148ms/step - loss: 0.1002 - last_time_step_mse: 0.0519 - val_loss: 0.0299 - val_last_time_step_mse: 0.0322\n",
            "Epoch 2/20\n",
            "219/219 [==============================] - 32s 145ms/step - loss: 0.0226 - last_time_step_mse: 0.0170 - val_loss: 0.0194 - val_last_time_step_mse: 0.0136\n",
            "Epoch 3/20\n",
            "219/219 [==============================] - 32s 147ms/step - loss: 0.0174 - last_time_step_mse: 0.0178 - val_loss: 0.0145 - val_last_time_step_mse: 0.0227\n",
            "Epoch 4/20\n",
            "219/219 [==============================] - 32s 147ms/step - loss: 0.0100 - last_time_step_mse: 0.0224 - val_loss: 0.0059 - val_last_time_step_mse: 0.0166\n",
            "Epoch 5/20\n",
            "219/219 [==============================] - 32s 146ms/step - loss: 0.0040 - last_time_step_mse: 0.0093 - val_loss: 0.0035 - val_last_time_step_mse: 0.0058\n",
            "Epoch 6/20\n",
            "219/219 [==============================] - 32s 147ms/step - loss: 0.0023 - last_time_step_mse: 0.0027 - val_loss: 0.0020 - val_last_time_step_mse: 0.0016\n",
            "Epoch 7/20\n",
            "219/219 [==============================] - 32s 148ms/step - loss: 0.0018 - last_time_step_mse: 0.0011 - val_loss: 0.0017 - val_last_time_step_mse: 8.7267e-04\n",
            "Epoch 8/20\n",
            "219/219 [==============================] - 32s 146ms/step - loss: 0.0015 - last_time_step_mse: 7.3339e-04 - val_loss: 0.0014 - val_last_time_step_mse: 6.7477e-04\n",
            "Epoch 9/20\n",
            "219/219 [==============================] - 32s 147ms/step - loss: 0.0014 - last_time_step_mse: 6.1592e-04 - val_loss: 0.0013 - val_last_time_step_mse: 5.7170e-04\n",
            "Epoch 10/20\n",
            "219/219 [==============================] - 33s 149ms/step - loss: 0.0012 - last_time_step_mse: 5.1126e-04 - val_loss: 0.0011 - val_last_time_step_mse: 4.5625e-04\n",
            "Epoch 11/20\n",
            "219/219 [==============================] - 32s 147ms/step - loss: 0.0010 - last_time_step_mse: 4.5768e-04 - val_loss: 9.6164e-04 - val_last_time_step_mse: 3.8801e-04\n",
            "Epoch 12/20\n",
            "219/219 [==============================] - 32s 146ms/step - loss: 9.1834e-04 - last_time_step_mse: 4.1003e-04 - val_loss: 8.5725e-04 - val_last_time_step_mse: 4.0059e-04\n",
            "Epoch 13/20\n",
            "219/219 [==============================] - 32s 146ms/step - loss: 8.2173e-04 - last_time_step_mse: 3.6174e-04 - val_loss: 7.7657e-04 - val_last_time_step_mse: 3.2621e-04\n",
            "Epoch 14/20\n",
            "219/219 [==============================] - 32s 147ms/step - loss: 7.5350e-04 - last_time_step_mse: 3.2475e-04 - val_loss: 7.1575e-04 - val_last_time_step_mse: 2.9590e-04\n",
            "Epoch 15/20\n",
            "219/219 [==============================] - 32s 147ms/step - loss: 7.0067e-04 - last_time_step_mse: 2.8839e-04 - val_loss: 6.8017e-04 - val_last_time_step_mse: 2.5337e-04\n",
            "Epoch 16/20\n",
            "219/219 [==============================] - 32s 147ms/step - loss: 6.6638e-04 - last_time_step_mse: 2.6208e-04 - val_loss: 6.5872e-04 - val_last_time_step_mse: 3.2716e-04\n",
            "Epoch 17/20\n",
            "219/219 [==============================] - 33s 149ms/step - loss: 6.4175e-04 - last_time_step_mse: 2.4635e-04 - val_loss: 6.5416e-04 - val_last_time_step_mse: 1.9314e-04\n",
            "Epoch 18/20\n",
            "219/219 [==============================] - 33s 149ms/step - loss: 6.1777e-04 - last_time_step_mse: 2.2772e-04 - val_loss: 5.9771e-04 - val_last_time_step_mse: 2.1158e-04\n",
            "Epoch 19/20\n",
            "219/219 [==============================] - 33s 149ms/step - loss: 6.0413e-04 - last_time_step_mse: 2.1975e-04 - val_loss: 6.1062e-04 - val_last_time_step_mse: 1.8122e-04\n",
            "Epoch 20/20\n",
            "219/219 [==============================] - 33s 150ms/step - loss: 5.8213e-04 - last_time_step_mse: 1.9906e-04 - val_loss: 5.8396e-04 - val_last_time_step_mse: 2.1880e-04\n"
          ],
          "name": "stdout"
        }
      ]
    },
    {
      "cell_type": "markdown",
      "metadata": {
        "id": "b-T1xPq-BFOE",
        "colab_type": "text"
      },
      "source": [
        "## GRU CELLS \n",
        "Gated Recurrent Unit (GRU) cell"
      ]
    },
    {
      "cell_type": "code",
      "metadata": {
        "id": "d6c0-9ryG57E",
        "colab_type": "code",
        "colab": {}
      },
      "source": [
        "keras.backend.clear_session()"
      ],
      "execution_count": 58,
      "outputs": []
    },
    {
      "cell_type": "code",
      "metadata": {
        "id": "jxRgtlx05sYi",
        "colab_type": "code",
        "colab": {
          "base_uri": "https://localhost:8080/",
          "height": 727
        },
        "outputId": "65045961-9720-4619-ae30-7f4ffa4242d2"
      },
      "source": [
        "np.random.seed(42)\n",
        "tf.random.set_seed(42)\n",
        "\n",
        "model = keras.models.Sequential([\n",
        "    keras.layers.GRU(20, return_sequences=True, input_shape=[None, 1]),\n",
        "    keras.layers.GRU(20, return_sequences=True),\n",
        "    keras.layers.TimeDistributed(keras.layers.Dense(10))\n",
        "])\n",
        "\n",
        "model.compile(loss=\"mse\", optimizer=\"adam\", metrics=[last_time_step_mse])\n",
        "history = model.fit(X_train, Y_train, epochs=20,\n",
        "                    validation_data=(X_valid, Y_valid))"
      ],
      "execution_count": 59,
      "outputs": [
        {
          "output_type": "stream",
          "text": [
            "Epoch 1/20\n",
            "219/219 [==============================] - 2s 10ms/step - loss: 0.0813 - last_time_step_mse: 0.0442 - val_loss: 0.0198 - val_last_time_step_mse: 0.0204\n",
            "Epoch 2/20\n",
            "219/219 [==============================] - 2s 8ms/step - loss: 0.0170 - last_time_step_mse: 0.0167 - val_loss: 0.0115 - val_last_time_step_mse: 0.0124\n",
            "Epoch 3/20\n",
            "219/219 [==============================] - 2s 8ms/step - loss: 0.0055 - last_time_step_mse: 0.0075 - val_loss: 0.0029 - val_last_time_step_mse: 0.0054\n",
            "Epoch 4/20\n",
            "219/219 [==============================] - 2s 8ms/step - loss: 0.0022 - last_time_step_mse: 0.0060 - val_loss: 0.0015 - val_last_time_step_mse: 0.0057\n",
            "Epoch 5/20\n",
            "219/219 [==============================] - 2s 8ms/step - loss: 0.0011 - last_time_step_mse: 0.0038 - val_loss: 8.5433e-04 - val_last_time_step_mse: 0.0022\n",
            "Epoch 6/20\n",
            "219/219 [==============================] - 2s 8ms/step - loss: 7.5435e-04 - last_time_step_mse: 0.0013 - val_loss: 6.8710e-04 - val_last_time_step_mse: 8.1520e-04\n",
            "Epoch 7/20\n",
            "219/219 [==============================] - 2s 8ms/step - loss: 6.6170e-04 - last_time_step_mse: 6.4229e-04 - val_loss: 6.3709e-04 - val_last_time_step_mse: 4.9356e-04\n",
            "Epoch 8/20\n",
            "219/219 [==============================] - 2s 8ms/step - loss: 6.1016e-04 - last_time_step_mse: 3.9880e-04 - val_loss: 5.8813e-04 - val_last_time_step_mse: 3.2589e-04\n",
            "Epoch 9/20\n",
            "219/219 [==============================] - 2s 8ms/step - loss: 5.8516e-04 - last_time_step_mse: 3.1080e-04 - val_loss: 5.6422e-04 - val_last_time_step_mse: 2.4794e-04\n",
            "Epoch 10/20\n",
            "219/219 [==============================] - 2s 8ms/step - loss: 5.5692e-04 - last_time_step_mse: 2.3462e-04 - val_loss: 5.5339e-04 - val_last_time_step_mse: 2.3388e-04\n",
            "Epoch 11/20\n",
            "219/219 [==============================] - 2s 8ms/step - loss: 5.5218e-04 - last_time_step_mse: 2.3312e-04 - val_loss: 5.2993e-04 - val_last_time_step_mse: 1.8000e-04\n",
            "Epoch 12/20\n",
            "219/219 [==============================] - 2s 8ms/step - loss: 5.2928e-04 - last_time_step_mse: 1.8126e-04 - val_loss: 5.3618e-04 - val_last_time_step_mse: 2.1267e-04\n",
            "Epoch 13/20\n",
            "219/219 [==============================] - 2s 8ms/step - loss: 5.2670e-04 - last_time_step_mse: 1.8847e-04 - val_loss: 5.1733e-04 - val_last_time_step_mse: 1.7074e-04\n",
            "Epoch 14/20\n",
            "219/219 [==============================] - 2s 8ms/step - loss: 5.1147e-04 - last_time_step_mse: 1.6010e-04 - val_loss: 5.0063e-04 - val_last_time_step_mse: 1.3660e-04\n",
            "Epoch 15/20\n",
            "219/219 [==============================] - 2s 8ms/step - loss: 5.0708e-04 - last_time_step_mse: 1.6193e-04 - val_loss: 5.0030e-04 - val_last_time_step_mse: 1.4783e-04\n",
            "Epoch 16/20\n",
            "219/219 [==============================] - 2s 8ms/step - loss: 5.0462e-04 - last_time_step_mse: 1.6771e-04 - val_loss: 5.6080e-04 - val_last_time_step_mse: 3.2689e-04\n",
            "Epoch 17/20\n",
            "219/219 [==============================] - 2s 8ms/step - loss: 4.9501e-04 - last_time_step_mse: 1.5274e-04 - val_loss: 5.1746e-04 - val_last_time_step_mse: 2.2614e-04\n",
            "Epoch 18/20\n",
            "219/219 [==============================] - 2s 8ms/step - loss: 4.9248e-04 - last_time_step_mse: 1.5645e-04 - val_loss: 4.7746e-04 - val_last_time_step_mse: 1.2559e-04\n",
            "Epoch 19/20\n",
            "219/219 [==============================] - 2s 8ms/step - loss: 4.8148e-04 - last_time_step_mse: 1.3698e-04 - val_loss: 4.7183e-04 - val_last_time_step_mse: 1.1652e-04\n",
            "Epoch 20/20\n",
            "219/219 [==============================] - 2s 8ms/step - loss: 4.7956e-04 - last_time_step_mse: 1.4189e-04 - val_loss: 4.6970e-04 - val_last_time_step_mse: 1.2115e-04\n"
          ],
          "name": "stdout"
        }
      ]
    },
    {
      "cell_type": "code",
      "metadata": {
        "id": "7jthyORbDLvu",
        "colab_type": "code",
        "colab": {
          "base_uri": "https://localhost:8080/",
          "height": 52
        },
        "outputId": "6b87ac7c-e83a-4aba-b58b-ce9e7ecacbd2"
      },
      "source": [
        "model.evaluate(X_valid, Y_valid)"
      ],
      "execution_count": 60,
      "outputs": [
        {
          "output_type": "stream",
          "text": [
            "63/63 [==============================] - 0s 4ms/step - loss: 4.6970e-04 - last_time_step_mse: 1.2115e-04\n"
          ],
          "name": "stdout"
        },
        {
          "output_type": "execute_result",
          "data": {
            "text/plain": [
              "[0.0004697019758168608, 0.00012114915443817154]"
            ]
          },
          "metadata": {
            "tags": []
          },
          "execution_count": 60
        }
      ]
    },
    {
      "cell_type": "code",
      "metadata": {
        "id": "6EUjYQWxDRpw",
        "colab_type": "code",
        "colab": {
          "base_uri": "https://localhost:8080/",
          "height": 278
        },
        "outputId": "afb09d3f-a2b6-42cd-e18a-f3d594966e77"
      },
      "source": [
        "plot_learning_curves(history.history[\"loss\"], history.history[\"val_loss\"])\n",
        "plt.show()"
      ],
      "execution_count": 61,
      "outputs": [
        {
          "output_type": "display_data",
          "data": {
            "image/png": "[encoded data removed]",
            "text/plain": [
              "<Figure size 432x288 with 1 Axes>"
            ]
          },
          "metadata": {
            "tags": [],
            "needs_background": "light"
          }
        }
      ]
    },
    {
      "cell_type": "code",
      "metadata": {
        "id": "DgvH_j4fDUPo",
        "colab_type": "code",
        "colab": {}
      },
      "source": [
        "np.random.seed(43)\n",
        "\n",
        "series = generate_time_series(1, 50 + 10)\n",
        "X_new, Y_new = series[:, :50, :], series[:, 50:, :]\n",
        "Y_pred = model.predict(X_new)[:, -1][..., np.newaxis]"
      ],
      "execution_count": 62,
      "outputs": []
    },
    {
      "cell_type": "code",
      "metadata": {
        "id": "8BPPYFVdFiNw",
        "colab_type": "code",
        "colab": {
          "base_uri": "https://localhost:8080/",
          "height": 284
        },
        "outputId": "b26fa5b1-fa84-46ea-bba2-5399029f4dd5"
      },
      "source": [
        "plot_multiple_forecasts(X_new, Y_new, Y_pred)\n",
        "plt.show()"
      ],
      "execution_count": 63,
      "outputs": [
        {
          "output_type": "display_data",
          "data": {
            "image/png": "[encoded data removed]",
            "text/plain": [
              "<Figure size 432x288 with 1 Axes>"
            ]
          },
          "metadata": {
            "tags": [],
            "needs_background": "light"
          }
        }
      ]
    },
    {
      "cell_type": "markdown",
      "metadata": {
        "id": "DHXVsz2pJSnK",
        "colab_type": "text"
      },
      "source": [
        "## USING 1D CONVOLUTIONAL LAYERS TO PROCESS SEQUENCES"
      ]
    },
    {
      "cell_type": "code",
      "metadata": {
        "id": "VOCfS3BYJVI7",
        "colab_type": "code",
        "colab": {}
      },
      "source": [
        "keras.backend.clear_session()"
      ],
      "execution_count": 64,
      "outputs": []
    },
    {
      "cell_type": "code",
      "metadata": {
        "id": "nCrqVJhdJcdo",
        "colab_type": "code",
        "colab": {
          "base_uri": "https://localhost:8080/",
          "height": 727
        },
        "outputId": "8a596925-6830-4d39-bda5-1f0fb9db8ff1"
      },
      "source": [
        "np.random.seed(42)\n",
        "tf.random.set_seed(42)\n",
        "\n",
        "model = keras.models.Sequential([\n",
        "    keras.layers.Conv1D(filters=20, kernel_size=4, strides=2, padding=\"valid\",\n",
        "                        input_shape=[None, 1]),\n",
        "    keras.layers.GRU(20, return_sequences=True),\n",
        "    keras.layers.GRU(20, return_sequences=True),\n",
        "    keras.layers.TimeDistributed(keras.layers.Dense(10))\n",
        "])\n",
        "\n",
        "model.compile(loss=\"mse\", optimizer=\"adam\", metrics=[last_time_step_mse])\n",
        "history = model.fit(X_train, Y_train[:, 3::2], epochs=20, validation_data=(X_valid, Y_valid[:, 3::2]))"
      ],
      "execution_count": 65,
      "outputs": [
        {
          "output_type": "stream",
          "text": [
            "Epoch 1/20\n",
            "219/219 [==============================] - 2s 9ms/step - loss: 0.0773 - last_time_step_mse: 0.0337 - val_loss: 0.0205 - val_last_time_step_mse: 0.0123\n",
            "Epoch 2/20\n",
            "219/219 [==============================] - 1s 7ms/step - loss: 0.0140 - last_time_step_mse: 0.0110 - val_loss: 0.0031 - val_last_time_step_mse: 0.0035\n",
            "Epoch 3/20\n",
            "219/219 [==============================] - 1s 7ms/step - loss: 0.0012 - last_time_step_mse: 0.0014 - val_loss: 5.7122e-04 - val_last_time_step_mse: 4.5013e-04\n",
            "Epoch 4/20\n",
            "219/219 [==============================] - 1s 7ms/step - loss: 4.4066e-04 - last_time_step_mse: 3.8253e-04 - val_loss: 3.7105e-04 - val_last_time_step_mse: 4.8130e-04\n",
            "Epoch 5/20\n",
            "219/219 [==============================] - 1s 7ms/step - loss: 3.0242e-04 - last_time_step_mse: 3.2176e-04 - val_loss: 2.7985e-04 - val_last_time_step_mse: 3.9229e-04\n",
            "Epoch 6/20\n",
            "219/219 [==============================] - 1s 7ms/step - loss: 2.3301e-04 - last_time_step_mse: 2.6723e-04 - val_loss: 2.1134e-04 - val_last_time_step_mse: 2.4979e-04\n",
            "Epoch 7/20\n",
            "219/219 [==============================] - 1s 7ms/step - loss: 1.9085e-04 - last_time_step_mse: 2.1648e-04 - val_loss: 1.7515e-04 - val_last_time_step_mse: 1.9404e-04\n",
            "Epoch 8/20\n",
            "219/219 [==============================] - 1s 7ms/step - loss: 1.6577e-04 - last_time_step_mse: 1.8579e-04 - val_loss: 1.5989e-04 - val_last_time_step_mse: 1.8570e-04\n",
            "Epoch 9/20\n",
            "219/219 [==============================] - 1s 7ms/step - loss: 1.4767e-04 - last_time_step_mse: 1.6423e-04 - val_loss: 1.3289e-04 - val_last_time_step_mse: 1.3167e-04\n",
            "Epoch 10/20\n",
            "219/219 [==============================] - 1s 7ms/step - loss: 1.2847e-04 - last_time_step_mse: 1.3466e-04 - val_loss: 1.3467e-04 - val_last_time_step_mse: 1.8794e-04\n",
            "Epoch 11/20\n",
            "219/219 [==============================] - 1s 7ms/step - loss: 1.1610e-04 - last_time_step_mse: 1.2740e-04 - val_loss: 1.0621e-04 - val_last_time_step_mse: 1.0963e-04\n",
            "Epoch 12/20\n",
            "219/219 [==============================] - 1s 7ms/step - loss: 1.0468e-04 - last_time_step_mse: 1.2247e-04 - val_loss: 9.0799e-05 - val_last_time_step_mse: 9.5410e-05\n",
            "Epoch 13/20\n",
            "219/219 [==============================] - 1s 7ms/step - loss: 9.0091e-05 - last_time_step_mse: 1.0744e-04 - val_loss: 8.0276e-05 - val_last_time_step_mse: 8.8627e-05\n",
            "Epoch 14/20\n",
            "219/219 [==============================] - 1s 7ms/step - loss: 7.9333e-05 - last_time_step_mse: 1.0149e-04 - val_loss: 7.2998e-05 - val_last_time_step_mse: 1.0007e-04\n",
            "Epoch 15/20\n",
            "219/219 [==============================] - 2s 7ms/step - loss: 7.0465e-05 - last_time_step_mse: 9.9085e-05 - val_loss: 5.9594e-05 - val_last_time_step_mse: 7.5488e-05\n",
            "Epoch 16/20\n",
            "219/219 [==============================] - 1s 7ms/step - loss: 5.8720e-05 - last_time_step_mse: 8.2031e-05 - val_loss: 5.1932e-05 - val_last_time_step_mse: 6.7779e-05\n",
            "Epoch 17/20\n",
            "219/219 [==============================] - 1s 7ms/step - loss: 5.5295e-05 - last_time_step_mse: 8.6700e-05 - val_loss: 4.5739e-05 - val_last_time_step_mse: 6.3427e-05\n",
            "Epoch 18/20\n",
            "219/219 [==============================] - 1s 7ms/step - loss: 5.3638e-05 - last_time_step_mse: 8.9969e-05 - val_loss: 4.0111e-05 - val_last_time_step_mse: 5.6868e-05\n",
            "Epoch 19/20\n",
            "219/219 [==============================] - 1s 7ms/step - loss: 3.8034e-05 - last_time_step_mse: 5.4497e-05 - val_loss: 3.4999e-05 - val_last_time_step_mse: 5.0018e-05\n",
            "Epoch 20/20\n",
            "219/219 [==============================] - 1s 7ms/step - loss: 4.0297e-05 - last_time_step_mse: 7.0471e-05 - val_loss: 3.0754e-05 - val_last_time_step_mse: 4.3673e-05\n"
          ],
          "name": "stdout"
        }
      ]
    },
    {
      "cell_type": "code",
      "metadata": {
        "id": "Sllfo9RQJlf1",
        "colab_type": "code",
        "colab": {
          "base_uri": "https://localhost:8080/",
          "height": 280
        },
        "outputId": "d3a43d85-e1f7-454d-c2c1-985db841be5c"
      },
      "source": [
        "plot_learning_curves(history.history[\"loss\"], history.history[\"val_loss\"])\n",
        "plt.show()"
      ],
      "execution_count": 68,
      "outputs": [
        {
          "output_type": "display_data",
          "data": {
            "image/png": "[encoded data removed]",
            "text/plain": [
              "<Figure size 432x288 with 1 Axes>"
            ]
          },
          "metadata": {
            "tags": [],
            "needs_background": "light"
          }
        }
      ]
    },
    {
      "cell_type": "markdown",
      "metadata": {
        "id": "XJ2NKJdNJmkP",
        "colab_type": "text"
      },
      "source": [
        "## WaveNet"
      ]
    },
    {
      "cell_type": "code",
      "metadata": {
        "id": "6bp2sm7SJl-Z",
        "colab_type": "code",
        "colab": {}
      },
      "source": [
        "keras.backend.clear_session()"
      ],
      "execution_count": 69,
      "outputs": []
    },
    {
      "cell_type": "code",
      "metadata": {
        "id": "29pMZwg8Ktmj",
        "colab_type": "code",
        "colab": {
          "base_uri": "https://localhost:8080/",
          "height": 727
        },
        "outputId": "30c0fc73-3f7f-4904-a585-ddac054e56de"
      },
      "source": [
        "np.random.seed(42)\n",
        "tf.random.set_seed(42)\n",
        "\n",
        "model = keras.models.Sequential()\n",
        "model.add(keras.layers.InputLayer(input_shape=[None, 1]))\n",
        "for rate in (1, 2, 4, 8) * 2:\n",
        "    model.add(keras.layers.Conv1D(filters=20, kernel_size=2, padding=\"causal\",\n",
        "                                  activation=\"relu\", dilation_rate=rate))\n",
        "model.add(keras.layers.Conv1D(filters=10, kernel_size=1))\n",
        "model.compile(loss=\"mse\", optimizer=\"adam\", metrics=[last_time_step_mse])\n",
        "history = model.fit(X_train, Y_train, epochs=20,\n",
        "                    validation_data=(X_valid, Y_valid))"
      ],
      "execution_count": 70,
      "outputs": [
        {
          "output_type": "stream",
          "text": [
            "Epoch 1/20\n",
            "219/219 [==============================] - 2s 8ms/step - loss: 0.0865 - last_time_step_mse: 0.0806 - val_loss: 0.0630 - val_last_time_step_mse: 0.0847\n",
            "Epoch 2/20\n",
            "219/219 [==============================] - 1s 5ms/step - loss: 0.0605 - last_time_step_mse: 0.0856 - val_loss: 0.0593 - val_last_time_step_mse: 0.0855\n",
            "Epoch 3/20\n",
            "219/219 [==============================] - 1s 5ms/step - loss: 0.0590 - last_time_step_mse: 0.0854 - val_loss: 0.0588 - val_last_time_step_mse: 0.0866\n",
            "Epoch 4/20\n",
            "219/219 [==============================] - 1s 5ms/step - loss: 0.0586 - last_time_step_mse: 0.0852 - val_loss: 0.0585 - val_last_time_step_mse: 0.0850\n",
            "Epoch 5/20\n",
            "219/219 [==============================] - 1s 5ms/step - loss: 0.0585 - last_time_step_mse: 0.0853 - val_loss: 0.0583 - val_last_time_step_mse: 0.0847\n",
            "Epoch 6/20\n",
            "219/219 [==============================] - 1s 5ms/step - loss: 0.0583 - last_time_step_mse: 0.0854 - val_loss: 0.0583 - val_last_time_step_mse: 0.0851\n",
            "Epoch 7/20\n",
            "219/219 [==============================] - 1s 5ms/step - loss: 0.0582 - last_time_step_mse: 0.0853 - val_loss: 0.0582 - val_last_time_step_mse: 0.0871\n",
            "Epoch 8/20\n",
            "219/219 [==============================] - 1s 5ms/step - loss: 0.0582 - last_time_step_mse: 0.0852 - val_loss: 0.0583 - val_last_time_step_mse: 0.0874\n",
            "Epoch 9/20\n",
            "219/219 [==============================] - 1s 5ms/step - loss: 0.0581 - last_time_step_mse: 0.0852 - val_loss: 0.0581 - val_last_time_step_mse: 0.0860\n",
            "Epoch 10/20\n",
            "219/219 [==============================] - 1s 5ms/step - loss: 0.0580 - last_time_step_mse: 0.0851 - val_loss: 0.0579 - val_last_time_step_mse: 0.0856\n",
            "Epoch 11/20\n",
            "219/219 [==============================] - 1s 5ms/step - loss: 0.0579 - last_time_step_mse: 0.0852 - val_loss: 0.0579 - val_last_time_step_mse: 0.0854\n",
            "Epoch 12/20\n",
            "219/219 [==============================] - 1s 5ms/step - loss: 0.0580 - last_time_step_mse: 0.0852 - val_loss: 0.0578 - val_last_time_step_mse: 0.0848\n",
            "Epoch 13/20\n",
            "219/219 [==============================] - 1s 5ms/step - loss: 0.0579 - last_time_step_mse: 0.0851 - val_loss: 0.0581 - val_last_time_step_mse: 0.0841\n",
            "Epoch 14/20\n",
            "219/219 [==============================] - 1s 5ms/step - loss: 0.0578 - last_time_step_mse: 0.0851 - val_loss: 0.0577 - val_last_time_step_mse: 0.0848\n",
            "Epoch 15/20\n",
            "219/219 [==============================] - 1s 5ms/step - loss: 0.0578 - last_time_step_mse: 0.0851 - val_loss: 0.0578 - val_last_time_step_mse: 0.0836\n",
            "Epoch 16/20\n",
            "219/219 [==============================] - 1s 6ms/step - loss: 0.0577 - last_time_step_mse: 0.0850 - val_loss: 0.0579 - val_last_time_step_mse: 0.0862\n",
            "Epoch 17/20\n",
            "219/219 [==============================] - 1s 6ms/step - loss: 0.0577 - last_time_step_mse: 0.0850 - val_loss: 0.0578 - val_last_time_step_mse: 0.0833\n",
            "Epoch 18/20\n",
            "219/219 [==============================] - 1s 6ms/step - loss: 0.0577 - last_time_step_mse: 0.0849 - val_loss: 0.0576 - val_last_time_step_mse: 0.0848\n",
            "Epoch 19/20\n",
            "219/219 [==============================] - 1s 6ms/step - loss: 0.0577 - last_time_step_mse: 0.0849 - val_loss: 0.0577 - val_last_time_step_mse: 0.0858\n",
            "Epoch 20/20\n",
            "219/219 [==============================] - 1s 5ms/step - loss: 0.0577 - last_time_step_mse: 0.0849 - val_loss: 0.0576 - val_last_time_step_mse: 0.0830\n"
          ],
          "name": "stdout"
        }
      ]
    },
    {
      "cell_type": "code",
      "metadata": {
        "id": "nydVOnl3LK6K",
        "colab_type": "code",
        "colab": {
          "base_uri": "https://localhost:8080/",
          "height": 52
        },
        "outputId": "1155f9f7-0dfd-485f-bde9-8e789104ebfb"
      },
      "source": [
        "model.evaluate(X_test, Y_test)"
      ],
      "execution_count": 71,
      "outputs": [
        {
          "output_type": "stream",
          "text": [
            "32/32 [==============================] - 0s 5ms/step - loss: 0.0579 - last_time_step_mse: 0.0834\n"
          ],
          "name": "stdout"
        },
        {
          "output_type": "execute_result",
          "data": {
            "text/plain": [
              "[0.057884469628334045, 0.0834352970123291]"
            ]
          },
          "metadata": {
            "tags": []
          },
          "execution_count": 71
        }
      ]
    },
    {
      "cell_type": "code",
      "metadata": {
        "id": "5eJKpq_KLVM8",
        "colab_type": "code",
        "colab": {
          "base_uri": "https://localhost:8080/",
          "height": 278
        },
        "outputId": "2fc59804-821b-467d-c689-7e0cb2b5c902"
      },
      "source": [
        "plot_learning_curves(history.history[\"loss\"], history.history[\"val_loss\"])\n",
        "plt.show()"
      ],
      "execution_count": 72,
      "outputs": [
        {
          "output_type": "display_data",
          "data": {
            "image/png": "[encoded data removed]",
            "text/plain": [
              "<Figure size 432x288 with 1 Axes>"
            ]
          },
          "metadata": {
            "tags": [],
            "needs_background": "light"
          }
        }
      ]
    },
    {
      "cell_type": "markdown",
      "metadata": {
        "id": "A9Ch16QYMIEy",
        "colab_type": "text"
      },
      "source": [
        "\n",
        "Here is the original WaveNet defined in the paper: it uses Gated Activation Units instead of ReLU and parametrized skip connections, plus it pads with zeros on the left to avoid getting shorter and shorter sequences:"
      ]
    },
    {
      "cell_type": "code",
      "metadata": {
        "id": "4ctQrLWWLXxk",
        "colab_type": "code",
        "colab": {}
      },
      "source": [
        "class GatedActivationUnit(keras.layers.Layer):\n",
        "    def __init__(self, activation=\"tanh\", **kwargs):\n",
        "        super().__init__(**kwargs)\n",
        "        self.activation = keras.activations.get(activation)\n",
        "    def call(self, inputs):\n",
        "        n_filters = inputs.shape[-1] // 2\n",
        "        linear_output = self.activation(inputs[..., :n_filters])\n",
        "        gate = keras.activations.sigmoid(inputs[..., n_filters:])\n",
        "        return self.activation(linear_output) * gate"
      ],
      "execution_count": 73,
      "outputs": []
    },
    {
      "cell_type": "code",
      "metadata": {
        "id": "XLYGyWhTMV3-",
        "colab_type": "code",
        "colab": {}
      },
      "source": [
        "def wavenet_residual_block(inputs, n_filters, dilation_rate):\n",
        "    z = keras.layers.Conv1D(2 * n_filters, kernel_size=2, padding=\"causal\",\n",
        "                            dilation_rate=dilation_rate)(inputs)\n",
        "    z = GatedActivationUnit()(z)\n",
        "    z = keras.layers.Conv1D(n_filters, kernel_size=1)(z)\n",
        "    return keras.layers.Add()([z, inputs]), z"
      ],
      "execution_count": 74,
      "outputs": []
    },
    {
      "cell_type": "code",
      "metadata": {
        "id": "BHyLjKUGMaaa",
        "colab_type": "code",
        "colab": {}
      },
      "source": [
        "keras.backend.clear_session()\n",
        "np.random.seed(42)\n",
        "tf.random.set_seed(42)\n",
        "\n",
        "n_layers_per_block = 3 # 10 in the paper\n",
        "n_blocks = 1 # 3 in the paper\n",
        "n_filters = 32 # 128 in the paper\n",
        "n_outputs = 10 # 256 in the paper\n",
        "\n",
        "inputs = keras.layers.Input(shape=[None, 1])\n",
        "z = keras.layers.Conv1D(n_filters, kernel_size=2, padding=\"causal\")(inputs)\n",
        "skip_to_last = []\n",
        "for dilation_rate in [2**i for i in range(n_layers_per_block)] * n_blocks:\n",
        "    z, skip = wavenet_residual_block(z, n_filters, dilation_rate)\n",
        "    skip_to_last.append(skip)\n",
        "z = keras.activations.relu(keras.layers.Add()(skip_to_last))\n",
        "z = keras.layers.Conv1D(n_filters, kernel_size=1, activation=\"relu\")(z)\n",
        "Y_proba = keras.layers.Conv1D(n_outputs, kernel_size=1, activation=\"softmax\")(z)\n",
        "\n",
        "model = keras.models.Model(inputs=[inputs], outputs=[Y_proba])"
      ],
      "execution_count": 79,
      "outputs": []
    },
    {
      "cell_type": "code",
      "metadata": {
        "id": "jpceW7EiMw0K",
        "colab_type": "code",
        "colab": {
          "base_uri": "https://localhost:8080/",
          "height": 727
        },
        "outputId": "19d4b2c8-4537-4f13-fb05-66c750b60fba"
      },
      "source": [
        "model.compile(loss=\"mse\", optimizer=\"adam\", metrics=[last_time_step_mse])\n",
        "history = model.fit(X_train, Y_train, epochs=20,\n",
        "                    validation_data=(X_valid, Y_valid))"
      ],
      "execution_count": 80,
      "outputs": [
        {
          "output_type": "stream",
          "text": [
            "Epoch 1/20\n",
            "219/219 [==============================] - 2s 8ms/step - loss: 0.1572 - last_time_step_mse: 0.0516 - val_loss: 0.1561 - val_last_time_step_mse: 0.0540\n",
            "Epoch 2/20\n",
            "219/219 [==============================] - 1s 6ms/step - loss: 0.1557 - last_time_step_mse: 0.0538 - val_loss: 0.1555 - val_last_time_step_mse: 0.0539\n",
            "Epoch 3/20\n",
            "219/219 [==============================] - 1s 6ms/step - loss: 0.1554 - last_time_step_mse: 0.0534 - val_loss: 0.1553 - val_last_time_step_mse: 0.0537\n",
            "Epoch 4/20\n",
            "219/219 [==============================] - 1s 6ms/step - loss: 0.1552 - last_time_step_mse: 0.0532 - val_loss: 0.1551 - val_last_time_step_mse: 0.0534\n",
            "Epoch 5/20\n",
            "219/219 [==============================] - 1s 6ms/step - loss: 0.1551 - last_time_step_mse: 0.0529 - val_loss: 0.1551 - val_last_time_step_mse: 0.0528\n",
            "Epoch 6/20\n",
            "219/219 [==============================] - 1s 6ms/step - loss: 0.1551 - last_time_step_mse: 0.0528 - val_loss: 0.1551 - val_last_time_step_mse: 0.0535\n",
            "Epoch 7/20\n",
            "219/219 [==============================] - 1s 6ms/step - loss: 0.1551 - last_time_step_mse: 0.0528 - val_loss: 0.1550 - val_last_time_step_mse: 0.0534\n",
            "Epoch 8/20\n",
            "219/219 [==============================] - 1s 6ms/step - loss: 0.1551 - last_time_step_mse: 0.0528 - val_loss: 0.1550 - val_last_time_step_mse: 0.0530\n",
            "Epoch 9/20\n",
            "219/219 [==============================] - 1s 6ms/step - loss: 0.1550 - last_time_step_mse: 0.0528 - val_loss: 0.1550 - val_last_time_step_mse: 0.0527\n",
            "Epoch 10/20\n",
            "219/219 [==============================] - 1s 6ms/step - loss: 0.1550 - last_time_step_mse: 0.0528 - val_loss: 0.1551 - val_last_time_step_mse: 0.0529\n",
            "Epoch 11/20\n",
            "219/219 [==============================] - 1s 6ms/step - loss: 0.1550 - last_time_step_mse: 0.0528 - val_loss: 0.1550 - val_last_time_step_mse: 0.0529\n",
            "Epoch 12/20\n",
            "219/219 [==============================] - 1s 6ms/step - loss: 0.1550 - last_time_step_mse: 0.0528 - val_loss: 0.1550 - val_last_time_step_mse: 0.0523\n",
            "Epoch 13/20\n",
            "219/219 [==============================] - 1s 6ms/step - loss: 0.1550 - last_time_step_mse: 0.0528 - val_loss: 0.1551 - val_last_time_step_mse: 0.0523\n",
            "Epoch 14/20\n",
            "219/219 [==============================] - 1s 6ms/step - loss: 0.1550 - last_time_step_mse: 0.0528 - val_loss: 0.1550 - val_last_time_step_mse: 0.0525\n",
            "Epoch 15/20\n",
            "219/219 [==============================] - 1s 6ms/step - loss: 0.1550 - last_time_step_mse: 0.0527 - val_loss: 0.1550 - val_last_time_step_mse: 0.0534\n",
            "Epoch 16/20\n",
            "219/219 [==============================] - 1s 6ms/step - loss: 0.1550 - last_time_step_mse: 0.0528 - val_loss: 0.1550 - val_last_time_step_mse: 0.0529\n",
            "Epoch 17/20\n",
            "219/219 [==============================] - 1s 6ms/step - loss: 0.1550 - last_time_step_mse: 0.0527 - val_loss: 0.1550 - val_last_time_step_mse: 0.0532\n",
            "Epoch 18/20\n",
            "219/219 [==============================] - 1s 6ms/step - loss: 0.1550 - last_time_step_mse: 0.0527 - val_loss: 0.1550 - val_last_time_step_mse: 0.0527\n",
            "Epoch 19/20\n",
            "219/219 [==============================] - 1s 6ms/step - loss: 0.1550 - last_time_step_mse: 0.0527 - val_loss: 0.1550 - val_last_time_step_mse: 0.0526\n",
            "Epoch 20/20\n",
            "219/219 [==============================] - 1s 6ms/step - loss: 0.1550 - last_time_step_mse: 0.0527 - val_loss: 0.1550 - val_last_time_step_mse: 0.0530\n"
          ],
          "name": "stdout"
        }
      ]
    },
    {
      "cell_type": "code",
      "metadata": {
        "id": "ltQOi5iIMzKi",
        "colab_type": "code",
        "colab": {
          "base_uri": "https://localhost:8080/",
          "height": 52
        },
        "outputId": "c705ff33-0f35-42c7-b4fd-cf3e44a198b9"
      },
      "source": [
        "model.evaluate(X_test, Y_test)"
      ],
      "execution_count": 81,
      "outputs": [
        {
          "output_type": "stream",
          "text": [
            "32/32 [==============================] - 0s 3ms/step - loss: 0.1550 - last_time_step_mse: 0.0529\n"
          ],
          "name": "stdout"
        },
        {
          "output_type": "execute_result",
          "data": {
            "text/plain": [
              "[0.15499015152454376, 0.05293254181742668]"
            ]
          },
          "metadata": {
            "tags": []
          },
          "execution_count": 81
        }
      ]
    },
    {
      "cell_type": "code",
      "metadata": {
        "id": "m5EADzXnM1FK",
        "colab_type": "code",
        "colab": {
          "base_uri": "https://localhost:8080/",
          "height": 278
        },
        "outputId": "03e77646-69ca-40c7-925d-ec1986f13ef4"
      },
      "source": [
        "plot_learning_curves(history.history[\"loss\"], history.history[\"val_loss\"])\n",
        "plt.show()"
      ],
      "execution_count": 82,
      "outputs": [
        {
          "output_type": "display_data",
          "data": {
            "image/png": "[encoded data removed]",
            "text/plain": [
              "<Figure size 432x288 with 1 Axes>"
            ]
          },
          "metadata": {
            "tags": [],
            "needs_background": "light"
          }
        }
      ]
    }
  ]
}